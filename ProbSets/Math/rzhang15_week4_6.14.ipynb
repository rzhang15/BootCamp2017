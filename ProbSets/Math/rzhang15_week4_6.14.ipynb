{
 "cells": [
  {
   "cell_type": "code",
   "execution_count": 15,
   "metadata": {
    "collapsed": true
   },
   "outputs": [],
   "source": [
    "import numpy as np"
   ]
  },
  {
   "cell_type": "code",
   "execution_count": 42,
   "metadata": {
    "collapsed": false
   },
   "outputs": [],
   "source": [
    "def newton_method(x0,epsilon,f1,f2):\n",
    "    err0=1e10\n",
    "    converge=True\n",
    "    reach = False\n",
    "    while not reach and converge:\n",
    "        x1 = x0-(f1(x0)/f2(x0))\n",
    "        err1 = abs(x1-x0)\n",
    "        if err1>=err0:\n",
    "            converge=False\n",
    "        if err1 < epsilon*abs(x0):\n",
    "            reach=True\n",
    "        x0 = x1\n",
    "        err0 = err1\n",
    "    if converge:\n",
    "        return x0\n",
    "    else:\n",
    "        print(\"Sequence does not converge.\")"
   ]
  },
  {
   "cell_type": "code",
   "execution_count": 43,
   "metadata": {
    "collapsed": false
   },
   "outputs": [
    {
     "data": {
      "text/plain": [
       "-0.7280821230679543"
      ]
     },
     "execution_count": 43,
     "metadata": {},
     "output_type": "execute_result"
    }
   ],
   "source": [
    "f1 = lambda x: 8*(x**3)+4*x+6\n",
    "f2 = lambda x: 24*(x**2)+4\n",
    "x0 = 0\n",
    "newton_method(x0,1e-5,f1,f2)"
   ]
  },
  {
   "cell_type": "code",
   "execution_count": null,
   "metadata": {
    "collapsed": true
   },
   "outputs": [],
   "source": []
  }
 ],
 "metadata": {
  "kernelspec": {
   "display_name": "Python 3",
   "language": "python",
   "name": "python3"
  },
  "language_info": {
   "codemirror_mode": {
    "name": "ipython",
    "version": 3
   },
   "file_extension": ".py",
   "mimetype": "text/x-python",
   "name": "python",
   "nbconvert_exporter": "python",
   "pygments_lexer": "ipython3",
   "version": "3.6.0"
  }
 },
 "nbformat": 4,
 "nbformat_minor": 2
}
