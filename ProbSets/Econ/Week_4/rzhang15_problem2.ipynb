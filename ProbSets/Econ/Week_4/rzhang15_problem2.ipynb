{
 "cells": [
  {
   "cell_type": "markdown",
   "metadata": {},
   "source": [
    "## Problem 2"
   ]
  },
  {
   "cell_type": "code",
   "execution_count": 1,
   "metadata": {
    "collapsed": true
   },
   "outputs": [],
   "source": [
    "import numpy as np\n",
    "import scipy.stats as sts\n",
    "import matplotlib.pyplot as plt\n",
    "import scipy.optimize as opt"
   ]
  },
  {
   "cell_type": "code",
   "execution_count": 2,
   "metadata": {
    "collapsed": true
   },
   "outputs": [],
   "source": [
    "data=np.loadtxt('/Users/rubyzhang/Desktop/UChicago/OSML/BootCamp2017/Econ/Wk4_StrEst/data/MacroSeries.txt',delimiter=',')\n",
    "ct = data[:,0]\n",
    "kt = data[:,1]\n",
    "wt = data[:,2]\n",
    "rt = data[:,3]\n",
    "beta = 0.99"
   ]
  },
  {
   "cell_type": "markdown",
   "metadata": {},
   "source": [
    "## a)"
   ]
  },
  {
   "cell_type": "code",
   "execution_count": 3,
   "metadata": {
    "collapsed": false
   },
   "outputs": [
    {
     "name": "stdout",
     "output_type": "stream",
     "text": [
      "      fun: -96.706876735303524\n",
      " hess_inv: <4x4 LbfgsInvHessProduct with dtype=float64>\n",
      "      jac: array([  1.35571554e-03,  -8.66862138e-05,  -2.48121523e-03,\n",
      "        -5.17275112e-04])\n",
      "  message: b'CONVERGENCE: REL_REDUCTION_OF_F_<=_FACTR*EPSMCH'\n",
      "     nfev: 140\n",
      "      nit: 17\n",
      "   status: 0\n",
      "  success: True\n",
      "        x: array([ 0.45933471,  0.71916622,  9.49729783,  0.09199624])\n",
      "alpha_MLE= 0.459334708116 rho_MLE= 0.719166224431 mu_MLE= 9.49729783388 sigma_MLE 0.091996238134\n",
      "MLE log-likelihood:  96.7068767353\n",
      "Inverse Hessian:\n",
      " [[ 0.00878427  0.0400167  -0.0753622   0.00386251]\n",
      " [ 0.0400167   1.06335499 -0.02634853  0.06667363]\n",
      " [-0.0753622  -0.02634853  0.99896002 -0.00552938]\n",
      " [ 0.00386251  0.06667363 -0.00552938  0.00489958]]\n"
     ]
    }
   ],
   "source": [
    "# Define the pdf function for macro series:\n",
    "def pdf_macro(wt,kt,alpha,rho,mu,sigma):\n",
    "    zt = np.log(wt/((1-alpha)*(kt**alpha))) # Finding zt using equation 3\n",
    "    pdf_vals = np.empty_like(zt)\n",
    "    for i in range(len(zt)):\n",
    "        if i==0:\n",
    "            miu = mu\n",
    "        else:\n",
    "            miu = rho*zt[i-1]+(1-rho)*mu\n",
    "        pdf_vals[i] = (1/(sigma * np.sqrt(2 * np.pi)) *\n",
    "                    np.exp( - (zt[i] - miu)**2 / (2 * sigma**2)))\n",
    "    pdf_vals[pdf_vals==0] = 1e-15\n",
    "    return pdf_vals\n",
    "\n",
    "# Define log likelihood function for the Macro Series \n",
    "def log_lik_macro(wt,kt,alpha,rho,mu,sigma):\n",
    "    pdf_vals = pdf_macro(wt,kt,alpha,rho,mu,sigma)\n",
    "    ln_pdf_vals = np.log(pdf_vals)\n",
    "    log_lik_val = ln_pdf_vals.sum()\n",
    "    return log_lik_val\n",
    "\n",
    "def crit(params, *args):\n",
    "    alpha,rho,mu,sigma = params\n",
    "    wt,kt = args\n",
    "    log_lik_val = log_lik_macro(wt,kt,alpha,rho,mu,sigma)\n",
    "    neg_log_lik_val = -log_lik_val\n",
    "    return neg_log_lik_val\n",
    "\n",
    "alpha_init = 0.5\n",
    "rho_init = 0.7\n",
    "mu_init = 9.5\n",
    "sigma_init = 0.1\n",
    "params_init = np.array([alpha_init, rho_init, mu_init, sigma_init])\n",
    "args = (wt,kt)\n",
    "bounds = ((1e-10,1),(-1,1),(1e-10,None),(1e-10,None))\n",
    "results = opt.minimize(crit, params_init, args=args, bounds=bounds)\n",
    "alpha_MLE, rho_MLE, mu_MLE, sigma_MLE = results.x\n",
    "print(results)\n",
    "print('alpha_MLE=', alpha_MLE, 'rho_MLE=', rho_MLE, 'mu_MLE=', mu_MLE, 'sigma_MLE', sigma_MLE)\n",
    "print('MLE log-likelihood: ', log_lik_macro(wt,kt,alpha_MLE, rho_MLE, mu_MLE, sigma_MLE))\n",
    "print('Inverse Hessian:\\n', results.hess_inv.todense())"
   ]
  },
  {
   "cell_type": "markdown",
   "metadata": {},
   "source": [
    "## b)"
   ]
  },
  {
   "cell_type": "code",
   "execution_count": 7,
   "metadata": {
    "collapsed": false
   },
   "outputs": [
    {
     "name": "stdout",
     "output_type": "stream",
     "text": [
      "      fun: -96.706337419869811\n",
      " hess_inv: <4x4 LbfgsInvHessProduct with dtype=float64>\n",
      "      jac: array([ 0.03639542, -0.00059828,  0.01065814, -0.00317755])\n",
      "  message: b'CONVERGENCE: REL_REDUCTION_OF_F_<=_FACTR*EPSMCH'\n",
      "     nfev: 170\n",
      "      nit: 21\n",
      "   status: 0\n",
      "  success: True\n",
      "        x: array([ 0.45016431,  0.72575966,  9.50285549,  0.09199662])\n",
      "alpha_MLE= 0.450164311447 rho_MLE= 0.725759663153 mu_MLE= 9.50285548969 sigma_MLE 0.0919966218363\n",
      "MLE log-likelihood:  96.7063374199\n",
      "Inverse Hessian:\n",
      " [[ 0.01616501 -0.08718481 -0.05359838 -0.03881126]\n",
      " [-0.08718481  0.55776401  0.03039864  0.25162477]\n",
      " [-0.05359838  0.03039864  0.99868949 -0.00427979]\n",
      " [-0.03881126  0.25162477 -0.00427979  0.11490077]]\n"
     ]
    }
   ],
   "source": [
    "# Define the pdf function for macro series:\n",
    "def pdf_macro2(wt,kt,alpha,rho,mu,sigma):\n",
    "    zt = np.log(rt/(alpha*(kt**(alpha-1)))) # Finding zt using equation 4\n",
    "    pdf_vals = np.empty_like(zt)\n",
    "    for i in range(len(zt)):\n",
    "        if i==0:\n",
    "            miu = mu\n",
    "        else:\n",
    "            miu = rho*zt[i-1]+(1-rho)*mu\n",
    "        pdf_vals[i] = (1/(sigma * np.sqrt(2 * np.pi)) *\n",
    "                    np.exp( - (zt[i] - miu)**2 / (2 * sigma**2)))\n",
    "    pdf_vals[pdf_vals==0] = 1e-15\n",
    "    return pdf_vals\n",
    "\n",
    "# Define log likelihood function for the Macro Series \n",
    "def log_lik_macro2(wt,kt,alpha,rho,mu,sigma):\n",
    "    pdf_vals = pdf_macro2(wt,kt,alpha,rho,mu,sigma)\n",
    "    ln_pdf_vals = np.log(pdf_vals)\n",
    "    log_lik_val = ln_pdf_vals.sum()\n",
    "    return log_lik_val\n",
    "\n",
    "def crit2(params, *args):\n",
    "    alpha,rho,mu,sigma = params\n",
    "    wt,kt = args\n",
    "    log_lik_val = log_lik_macro2(wt,kt,alpha,rho,mu,sigma)\n",
    "    neg_log_lik_val = -log_lik_val\n",
    "    return neg_log_lik_val\n",
    "\n",
    "alpha_init = 0.5\n",
    "rho_init = 0.7\n",
    "mu_init = 9.5\n",
    "sigma_init = 0.1\n",
    "params_init = np.array([alpha_init, rho_init, mu_init, sigma_init])\n",
    "args = (wt,kt)\n",
    "bounds = ((1e-10,1),(-1,1),(1e-10,None),(1e-10,None))\n",
    "results = opt.minimize(crit2, params_init, args=args, bounds=bounds)\n",
    "alpha_MLE2, rho_MLE2, mu_MLE2, sigma_MLE2 = results.x\n",
    "print(results)\n",
    "print('alpha_MLE=', alpha_MLE2, 'rho_MLE=', rho_MLE2, 'mu_MLE=', mu_MLE2, 'sigma_MLE', sigma_MLE2)\n",
    "print('MLE log-likelihood: ', log_lik_macro2(wt,kt,alpha_MLE2, rho_MLE2, mu_MLE2, sigma_MLE2))\n",
    "print('Inverse Hessian:\\n', results.hess_inv.todense())"
   ]
  },
  {
   "cell_type": "markdown",
   "metadata": {},
   "source": [
    "## c)"
   ]
  },
  {
   "cell_type": "code",
   "execution_count": 5,
   "metadata": {
    "collapsed": false
   },
   "outputs": [
    {
     "name": "stdout",
     "output_type": "stream",
     "text": [
      "The probability of zt > 1 is 0.999999992983\n"
     ]
    }
   ],
   "source": [
    "r = 1\n",
    "k = 7.5e6\n",
    "z_past = 10\n",
    "z_star = np.log(r/(alpha_MLE*(k**(alpha_MLE-1))))\n",
    "miu = rho_MLE*z_past+(1-rho_MLE)*mu_MLE\n",
    "probability = 1-sts.norm.cdf(z_star,loc=miu,scale=(sigma_MLE))\n",
    "print('The probability of zt > 1 is', probability)"
   ]
  },
  {
   "cell_type": "code",
   "execution_count": null,
   "metadata": {
    "collapsed": true
   },
   "outputs": [],
   "source": []
  }
 ],
 "metadata": {
  "kernelspec": {
   "display_name": "Python 3",
   "language": "python",
   "name": "python3"
  },
  "language_info": {
   "codemirror_mode": {
    "name": "ipython",
    "version": 3
   },
   "file_extension": ".py",
   "mimetype": "text/x-python",
   "name": "python",
   "nbconvert_exporter": "python",
   "pygments_lexer": "ipython3",
   "version": "3.6.0"
  }
 },
 "nbformat": 4,
 "nbformat_minor": 2
}
