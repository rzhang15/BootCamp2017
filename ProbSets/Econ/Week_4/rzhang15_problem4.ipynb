{
 "cells": [
  {
   "cell_type": "code",
   "execution_count": 1,
   "metadata": {
    "collapsed": true
   },
   "outputs": [],
   "source": [
    "import numpy as np\n",
    "import numpy.linalg as lin\n",
    "import scipy.stats as sts\n",
    "import scipy.optimize as opt"
   ]
  },
  {
   "cell_type": "code",
   "execution_count": 2,
   "metadata": {
    "collapsed": true
   },
   "outputs": [],
   "source": [
    "data = np.loadtxt('/Users/rubyzhang/Desktop/UChicago/OSML/BootCamp2017/Econ/Wk4_StrEst/data/MacroSeries.txt',delimiter=',')\n",
    "ct = data[:,0]\n",
    "kt = data[:,1]\n",
    "wt = data[:,2]\n",
    "rt = data[:,3]"
   ]
  },
  {
   "cell_type": "code",
   "execution_count": 7,
   "metadata": {
    "collapsed": false
   },
   "outputs": [
    {
     "name": "stdout",
     "output_type": "stream",
     "text": [
      "      fun: 0.20907656503349464\n",
      " hess_inv: <4x4 LbfgsInvHessProduct with dtype=float64>\n",
      "      jac: array([  4.21237237e+01,   4.69187433e+04,  -1.50721156e+00,\n",
      "         2.38588895e+00])\n",
      "  message: b'CONVERGENCE: REL_REDUCTION_OF_F_<=_FACTR*EPSMCH'\n",
      "     nfev: 90\n",
      "      nit: 3\n",
      "   status: 0\n",
      "  success: True\n",
      "        x: array([ 0.46,  0.99,  0.72,  9.5 ])\n",
      "alpha_MLE= 0.460000000048 beta_MLE 0.989999995212 rho_MLE= 0.72 mu_MLE= 9.5\n",
      "Minimized Criterion: 0.209076565033\n"
     ]
    }
   ],
   "source": [
    "def data_moments(wt,kt,ct,rt,alpha,beta,rho,mu):\n",
    "    zt = np.log(rt/(alpha*(kt**(alpha-1))))\n",
    "    data_moms = np.empty(4)\n",
    "    \n",
    "    et = np.zeros(len(zt)-1)\n",
    "    et = zt[1:]-rho*zt[:-1]-(1-rho)*mu\n",
    "    data_moms[0] = np.mean(et)\n",
    "    \n",
    "    et2 = np.zeros(len(zt)-1)\n",
    "    et2 = et*zt[:-1]\n",
    "    data_moms[1] = np.mean(et2)\n",
    "    \n",
    "    mc1 = np.zeros(len(zt)-1)\n",
    "    mc1 = (beta*alpha*np.exp(zt[1:])*(kt[1:]**(alpha-1))*ct[:-1]/ct[1:])-1\n",
    "    data_moms[2] = np.mean(mc1)\n",
    "    \n",
    "    mc2 = np.zeros(len(zt)-1)\n",
    "    mc2 = mc1*wt[:-1]\n",
    "    data_moms[3] = np.mean(mc2)\n",
    "    \n",
    "    return data_moms\n",
    "\n",
    "def err_vec(wt,kt,ct,rt,alpha,beta,rho,mu,simple):\n",
    "    moms_data = data_moments(wt,kt,ct,rt,alpha,beta,rho,mu)\n",
    "    moms_model = np.zeros_like(moms_data)\n",
    "    if simple:\n",
    "        err_vec = moms_model - moms_data\n",
    "    else:\n",
    "        err_vec = (moms_model - moms_data) / moms_data\n",
    "    return err_vec\n",
    "\n",
    "def criterion(params, *args):\n",
    "    alpha,beta,rho,mu = params\n",
    "    wt,kt,ct,rt = args\n",
    "    W = np.eye(4)\n",
    "    err = err_vec(wt,kt,ct,rt,alpha,beta,rho,mu,simple=True)\n",
    "    crit_val = np.dot(np.dot(err.T, W), err) \n",
    "    return crit_val \n",
    "\n",
    "alpha_init = 0.46\n",
    "beta_init = 0.5\n",
    "rho_init = 0.72\n",
    "mu_init = 9.5\n",
    "params_init = np.array([alpha_init, beta_init, rho_init, mu_init])\n",
    "args = (wt,kt,ct,rt)\n",
    "bounds = ((1e-10,1-1e-10),(1e-10,1-1e-10),(-1+1e-10,1-1e-10),(1e-10,None))\n",
    "results = opt.minimize(criterion, params_init, args=args, bounds=bounds)\n",
    "alpha_MLE, beta_MLE, rho_MLE, mu_MLE= results.x\n",
    "print(results)\n",
    "print('alpha_MLE=', alpha_MLE, 'beta_MLE', beta_MLE, 'rho_MLE=', rho_MLE, 'mu_MLE=', mu_MLE)\n",
    "print('Minimized Criterion:', criterion(results.x, *args))"
   ]
  },
  {
   "cell_type": "code",
   "execution_count": 4,
   "metadata": {
    "collapsed": false
   },
   "outputs": [
    {
     "name": "stdout",
     "output_type": "stream",
     "text": [
      "      fun: 1871.6198007732812\n",
      " hess_inv: <4x4 LbfgsInvHessProduct with dtype=float64>\n",
      "      jac: array([-24229.75715035,  16441.56955081,  -3119.04757382,    204.54499463])\n",
      "  message: b'CONVERGENCE: REL_REDUCTION_OF_F_<=_FACTR*EPSMCH'\n",
      "     nfev: 85\n",
      "      nit: 3\n",
      "   status: 0\n",
      "  success: True\n",
      "        x: array([  0.9 ,   0.99,  -0.2 ,  20.  ])\n",
      "alpha_MLE= 0.900000003649 beta_MLE 0.989999995074 rho_MLE= -0.199999999986 mu_MLE= 20.0\n",
      "Minimized Criterion: 1871.61980077\n"
     ]
    }
   ],
   "source": [
    "alpha_init = 0.9\n",
    "beta_init = 0.2\n",
    "rho_init = -0.2\n",
    "mu_init = 20\n",
    "params_init = np.array([alpha_init, beta_init, rho_init, mu_init])\n",
    "args = (wt,kt,ct,rt)\n",
    "bounds = ((1e-10,1-1e-10),(1e-10,1-1e-10),(-1+1e-10,1-1e-10),(1e-10,None))\n",
    "results = opt.minimize(criterion, params_init, args=args, bounds=bounds)\n",
    "alpha_MLE, beta_MLE, rho_MLE, mu_MLE= results.x\n",
    "print(results)\n",
    "print('alpha_MLE=', alpha_MLE, 'beta_MLE', beta_MLE, 'rho_MLE=', rho_MLE, 'mu_MLE=', mu_MLE)\n",
    "print('Minimized Criterion:', criterion(results.x, *args))"
   ]
  },
  {
   "cell_type": "markdown",
   "metadata": {},
   "source": [
    "It appears that the estimated parameter values except for $\\beta$ are extremely sensitive to initial starting values. The minimized criterion is found when using the answers obtained for problem 2 for $\\alpha, \\rho, \\mu$."
   ]
  },
  {
   "cell_type": "code",
   "execution_count": null,
   "metadata": {
    "collapsed": true
   },
   "outputs": [],
   "source": []
  }
 ],
 "metadata": {
  "kernelspec": {
   "display_name": "Python 3",
   "language": "python",
   "name": "python3"
  },
  "language_info": {
   "codemirror_mode": {
    "name": "ipython",
    "version": 3
   },
   "file_extension": ".py",
   "mimetype": "text/x-python",
   "name": "python",
   "nbconvert_exporter": "python",
   "pygments_lexer": "ipython3",
   "version": "3.6.0"
  }
 },
 "nbformat": 4,
 "nbformat_minor": 2
}
