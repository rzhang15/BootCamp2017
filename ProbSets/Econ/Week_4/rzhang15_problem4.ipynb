{
 "cells": [
  {
   "cell_type": "code",
   "execution_count": 18,
   "metadata": {
    "collapsed": true
   },
   "outputs": [],
   "source": [
    "import numpy as np\n",
    "import numpy.linalg as lin\n",
    "import scipy.stats as sts\n",
    "import scipy.optimize as opt"
   ]
  },
  {
   "cell_type": "code",
   "execution_count": 19,
   "metadata": {
    "collapsed": true
   },
   "outputs": [],
   "source": [
    "data = np.loadtxt('/Users/rubyzhang/Desktop/UChicago/OSML/BootCamp2017/Econ/Wk4_StrEst/data/MacroSeries.txt',delimiter=',')\n",
    "ct = data[:,0]\n",
    "kt = data[:,1]\n",
    "wt = data[:,2]\n",
    "rt = data[:,3]"
   ]
  },
  {
   "cell_type": "code",
   "execution_count": 30,
   "metadata": {
    "collapsed": false
   },
   "outputs": [
    {
     "name": "stdout",
     "output_type": "stream",
     "text": [
      " final_simplex: (array([[ 0.74008036,  0.99      ,  0.61262982,  4.42172958],\n",
      "       [ 0.74010383,  0.99      ,  0.61263218,  4.42177249],\n",
      "       [ 0.74004369,  0.99      ,  0.61262615,  4.42166202],\n",
      "       [ 0.74012625,  0.99      ,  0.61263442,  4.42181385],\n",
      "       [ 0.74004613,  0.99      ,  0.6126264 ,  4.42166686]]), array([  7.25639931e-07,   1.77657760e-06,   1.82933891e-06,\n",
      "         2.86792447e-06,   3.40553805e-06]))\n",
      "           fun: 7.2563993075479137e-07\n",
      "       message: 'Optimization terminated successfully.'\n",
      "          nfev: 425\n",
      "           nit: 247\n",
      "        status: 0\n",
      "       success: True\n",
      "             x: array([ 0.74008036,  0.99      ,  0.61262982,  4.42172958])\n",
      "alpha_MLE= 0.740080357987 beta_MLE 0.989999999929 rho_MLE= 0.612629818747 mu_MLE= 4.42172957875\n",
      "Minimized Criterion: 7.25639930755e-07\n"
     ]
    }
   ],
   "source": [
    "def data_moments(wt,kt,ct,rt,alpha,beta,rho,mu):\n",
    "    zt = np.log(rt/(alpha*(kt**(alpha-1))))\n",
    "    data_moms = np.empty(4)\n",
    "    \n",
    "    et = np.zeros(len(zt)-1)\n",
    "    et = zt[1:]-rho*zt[:-1]-(1-rho)*mu\n",
    "    data_moms[0] = np.mean(et)\n",
    "    \n",
    "    et2 = np.zeros(len(zt)-1)\n",
    "    et2 = et*zt[:-1]\n",
    "    data_moms[1] = np.mean(et2)\n",
    "    \n",
    "    mc1 = np.zeros(len(zt)-1)\n",
    "    mc1 = (beta*alpha*np.exp(zt[1:])*(kt[1:]**(alpha-1))*ct[:-1]/ct[1:])-1\n",
    "    data_moms[2] = np.mean(mc1)\n",
    "    \n",
    "    mc2 = np.zeros(len(zt)-1)\n",
    "    mc2 = mc1*wt[:-1]\n",
    "    data_moms[3] = np.mean(mc2)\n",
    "    \n",
    "    return data_moms\n",
    "\n",
    "def err_vec(wt,kt,ct,rt,alpha,beta,rho,mu,simple):\n",
    "    moms_data = data_moments(wt,kt,ct,rt,alpha,beta,rho,mu)\n",
    "    moms_model = np.zeros_like(moms_data)\n",
    "    if simple:\n",
    "        err_vec = moms_model - moms_data\n",
    "    else:\n",
    "        err_vec = (moms_model - moms_data) / moms_data\n",
    "    return err_vec\n",
    "\n",
    "def criterion(params, *args):\n",
    "    alpha,beta,rho,mu = params\n",
    "    wt,kt,ct,rt = args\n",
    "    W = np.eye(4)\n",
    "    err = err_vec(wt,kt,ct,rt,alpha,beta,rho,mu,simple=True)\n",
    "    crit_val = np.dot(np.dot(err.T, W), err) \n",
    "    return crit_val \n",
    "\n",
    "alpha_init = 0.5\n",
    "beta_init = 0.5\n",
    "rho_init = 0.5\n",
    "mu_init = 9.5\n",
    "params_init = np.array([alpha_init, beta_init, rho_init, mu_init])\n",
    "args = (wt,kt,ct,rt)\n",
    "bounds = ((1e-10,1-1e-10),(1e-10,1-1e-10),(-1+1e-10,1-1e-10),(1e-10,None))\n",
    "results = opt.minimize(criterion, params_init, args=args, method='Nelder-Mead')\n",
    "alpha_MLE, beta_MLE, rho_MLE, mu_MLE= results.x\n",
    "print(results)\n",
    "print('alpha_MLE=', alpha_MLE, 'beta_MLE', beta_MLE, 'rho_MLE=', rho_MLE, 'mu_MLE=', mu_MLE)\n",
    "print('Minimized Criterion:', criterion(results.x, *args))"
   ]
  },
  {
   "cell_type": "code",
   "execution_count": 32,
   "metadata": {
    "collapsed": false
   },
   "outputs": [
    {
     "name": "stdout",
     "output_type": "stream",
     "text": [
      " final_simplex: (array([[ 0.98917017,  0.99      , -0.04591395,  0.1945463 ],\n",
      "       [ 0.98925687,  0.99      , -0.04593904,  0.19452581],\n",
      "       [ 0.98919895,  0.99      , -0.04592227,  0.19453949],\n",
      "       [ 0.98917353,  0.99      , -0.04591492,  0.19454551],\n",
      "       [ 0.98912068,  0.99      , -0.04589963,  0.194558  ]]), array([  9.42684375e-06,   9.99604482e-06,   1.01141137e-05,\n",
      "         1.08530841e-05,   1.38012748e-05]))\n",
      "           fun: 9.4268437484393356e-06\n",
      "       message: 'Optimization terminated successfully.'\n",
      "          nfev: 423\n",
      "           nit: 245\n",
      "        status: 0\n",
      "       success: True\n",
      "             x: array([ 0.98917017,  0.99      , -0.04591395,  0.1945463 ])\n",
      "alpha_MLE= 0.989170174846 beta_MLE 0.989999999925 rho_MLE= -0.0459139487721 mu_MLE= 0.194546302\n",
      "Minimized Criterion: 9.42684374844e-06\n"
     ]
    }
   ],
   "source": [
    "alpha_init = 0.44\n",
    "beta_init = 0.5\n",
    "rho_init = 0.2\n",
    "mu_init = 0.3\n",
    "params_init = np.array([alpha_init, beta_init, rho_init, mu_init])\n",
    "args = (wt,kt,ct,rt)\n",
    "bounds = ((1e-10,1-1e-10),(1e-10,1-1e-10),(-1+1e-10,1-1e-10),(1e-10,None))\n",
    "results = opt.minimize(criterion, params_init, args=args, method='Nelder-Mead')\n",
    "alpha_MLE, beta_MLE, rho_MLE, mu_MLE= results.x\n",
    "print(results)\n",
    "print('alpha_MLE=', alpha_MLE, 'beta_MLE', beta_MLE, 'rho_MLE=', rho_MLE, 'mu_MLE=', mu_MLE)\n",
    "print('Minimized Criterion:', criterion(results.x, *args))"
   ]
  },
  {
   "cell_type": "markdown",
   "metadata": {},
   "source": [
    "It appears that the estimated parameter values except for $\\beta$ are extremely sensitive to initial starting values. The minimized criterion is found when using the answers obtained for problem 2 for $\\alpha, \\rho, \\mu$."
   ]
  },
  {
   "cell_type": "code",
   "execution_count": null,
   "metadata": {
    "collapsed": true
   },
   "outputs": [],
   "source": []
  }
 ],
 "metadata": {
  "kernelspec": {
   "display_name": "Python 3",
   "language": "python",
   "name": "python3"
  },
  "language_info": {
   "codemirror_mode": {
    "name": "ipython",
    "version": 3
   },
   "file_extension": ".py",
   "mimetype": "text/x-python",
   "name": "python",
   "nbconvert_exporter": "python",
   "pygments_lexer": "ipython3",
   "version": "3.6.0"
  }
 },
 "nbformat": 4,
 "nbformat_minor": 2
}
