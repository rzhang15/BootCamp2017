{
 "cells": [
  {
   "cell_type": "code",
   "execution_count": 1,
   "metadata": {
    "collapsed": true
   },
   "outputs": [],
   "source": [
    "import numpy as np\n",
    "import scipy.stats as sts\n",
    "import scipy.optimize as opt"
   ]
  },
  {
   "cell_type": "markdown",
   "metadata": {},
   "source": [
    "## Estimating Parameter Using SMM"
   ]
  },
  {
   "cell_type": "code",
   "execution_count": 2,
   "metadata": {
    "collapsed": false
   },
   "outputs": [],
   "source": [
    "data=np.loadtxt('/Users/rubyzhang/Desktop/UChicago/OSML/BootCamp2017/Econ/Wk4_StrEst/data/MacroSeries.txt',delimiter=',')\n",
    "ct = data[:,0]\n",
    "kt = data[:,1]\n",
    "wt = data[:,2]\n",
    "rt = data[:,3]"
   ]
  },
  {
   "cell_type": "code",
   "execution_count": 3,
   "metadata": {
    "collapsed": false
   },
   "outputs": [],
   "source": [
    "def vcorrcoef(X,Y):\n",
    "    '''Returns a vector of the column by column covariance of two matrices'''\n",
    "    Xm = np.reshape(np.mean(X,axis=0),(1,X.shape[1]))\n",
    "    Ym = np.reshape(np.mean(Y,axis=0),(1,Y.shape[1]))\n",
    "    r_num = np.sum((X-Xm)*(Y-Ym),axis=0)\n",
    "    r_den = np.sqrt(np.sum((X-Xm)**2,axis=0)*np.sum((Y-Ym)**2,axis=0))\n",
    "    r = r_num/r_den\n",
    "    return r\n",
    "\n",
    "def simulate_moments(init_kt,alpha,beta,rho,mu,sigma,T,S):\n",
    "    # Draw TxS matrix of all normally distributed errors\n",
    "    et = np.random.normal(loc=0,scale=(sigma**2),size=(T,S))\n",
    "    kt = np.empty_like(et)\n",
    "    zt = np.empty_like(et)\n",
    "    for i in range(T):\n",
    "        if i==0:\n",
    "            kt[i,:] = init_kt\n",
    "            zt[i,:] = mu\n",
    "        else:\n",
    "            zt[i,:] = rho*zt[i-1,:]+(1-rho)*mu+et[i,:]\n",
    "            kt[i,:] = alpha*beta*np.exp(zt[i-1,:])*(kt[i-1,:]**alpha)\n",
    "    wt = (1-alpha)*np.exp(zt)*(kt**alpha)\n",
    "    rt = alpha*np.exp(zt)*(kt**(alpha-1))\n",
    "    ct = wt+rt*kt\n",
    "    ct[:-1,:] = ct[:-1,:]-kt[1:,:]\n",
    "    \n",
    "    # Scalar values\n",
    "    mean_ct = np.mean(ct)\n",
    "    mean_kt = np.mean(kt)\n",
    "    \n",
    "    # Vector of length S\n",
    "    var_ct = np.var(ct,axis=0)\n",
    "    var_kt = np.var(kt,axis=0)\n",
    "    \n",
    "    # Vector of length S \n",
    "    corr_ct_kt = vcorrcoef(ct,kt)\n",
    "    \n",
    "    # Vector of length S-1\n",
    "    corr_kt = vcorrcoef(kt[:-1,:],kt[1:,:])\n",
    "    \n",
    "    data_moms = np.array([mean_ct,mean_kt,np.mean(var_ct),\n",
    "                          np.mean(var_kt),np.mean(corr_ct_kt),np.mean(corr_kt)])\n",
    "        \n",
    "    return data_moms\n",
    "\n",
    "def err_vec(wt,kt,ct,rt,alpha,beta,rho,mu,sigma,T,S,simple=False):\n",
    "    mean_ct = np.mean(ct)\n",
    "    mean_kt = np.mean(kt)\n",
    "    var_ct = np.var(ct)\n",
    "    var_kt = np.var(kt)\n",
    "    corr_ct_kt = vcorrcoef(np.array([ct]).T,np.array([kt]).T)[0]\n",
    "    corr_kt = vcorrcoef(np.array([kt[:-1]]).T,np.array([kt[1:]]).T)[0]\n",
    "    \n",
    "    moms_model = simulate_moments(mean_kt,alpha,beta,rho,mu,sigma,T,S)\n",
    "    moms_data = np.array([mean_ct,mean_kt,var_ct,var_kt,corr_ct_kt,corr_kt])\n",
    "    \n",
    "    if simple:\n",
    "        err_vec = moms_model - moms_data\n",
    "    else:\n",
    "        err_vec = (moms_model - moms_data) / moms_data\n",
    "    return err_vec\n",
    "\n",
    "def criterion(params, *args):\n",
    "    alpha,beta,rho,mu,sigma = params\n",
    "    wt,kt,ct,rt,T,S = args\n",
    "    W = np.eye(6)\n",
    "    err = err_vec(wt,kt,ct,rt,alpha,beta,rho,mu,sigma,T,S)\n",
    "    crit_val = np.dot(np.dot(err.T, W), err) \n",
    "    return crit_val"
   ]
  },
  {
   "cell_type": "code",
   "execution_count": 5,
   "metadata": {
    "collapsed": false
   },
   "outputs": [
    {
     "name": "stdout",
     "output_type": "stream",
     "text": [
      "      fun: 3.6628823184253023\n",
      " hess_inv: <5x5 LbfgsInvHessProduct with dtype=float64>\n",
      "      jac: array([   5.82554063, -100.6711225 ,  -60.54640576, -126.0900651 ,\n",
      "       -115.97018177])\n",
      "  message: b'CONVERGENCE: REL_REDUCTION_OF_F_<=_FACTR*EPSMCH'\n",
      "     nfev: 144\n",
      "      nit: 2\n",
      "   status: 0\n",
      "  success: True\n",
      "        x: array([ 0.7951161 ,  0.98999999,  0.98999997,  0.27915655,  0.11959156])\n",
      "alpha_MLE= 0.795116104868 beta_MLE= 0.989999985078 rho_MLE= 0.989999968274 mu_MLE= 0.279156546415 sigma_MLE 0.119591563142\n",
      "Minimized Criterion: 3.66288165791\n"
     ]
    }
   ],
   "source": [
    "alpha_init = 0.5\n",
    "beta_init = 0.9\n",
    "rho_init = 0.8\n",
    "mu_init = -0.2\n",
    "sigma_init = 0.022\n",
    "T = 100\n",
    "S = 1000\n",
    "params_init = np.array([alpha_init, beta_init, rho_init, mu_init, sigma_init])\n",
    "args = (wt,kt,ct,rt,T,S)\n",
    "bounds = ((0.01,0.99),(0.01,0.99),(-0.99,0.99),(-0.5,1),(0.001,1))\n",
    "results = opt.minimize(criterion, params_init, args=args, bounds=bounds)\n",
    "alpha_MLE, beta_MLE, rho_MLE, mu_MLE, sigma_MLE= results.x\n",
    "print(results)\n",
    "print('alpha_MLE=', alpha_MLE, 'beta_MLE=', beta_MLE, 'rho_MLE=', rho_MLE, 'mu_MLE=', mu_MLE, 'sigma_MLE', sigma_MLE)\n",
    "print('Minimized Criterion:', criterion(results.x, *args))"
   ]
  },
  {
   "cell_type": "code",
   "execution_count": null,
   "metadata": {
    "collapsed": true
   },
   "outputs": [],
   "source": []
  }
 ],
 "metadata": {
  "kernelspec": {
   "display_name": "Python 3",
   "language": "python",
   "name": "python3"
  },
  "language_info": {
   "codemirror_mode": {
    "name": "ipython",
    "version": 3
   },
   "file_extension": ".py",
   "mimetype": "text/x-python",
   "name": "python",
   "nbconvert_exporter": "python",
   "pygments_lexer": "ipython3",
   "version": "3.6.0"
  }
 },
 "nbformat": 4,
 "nbformat_minor": 2
}
