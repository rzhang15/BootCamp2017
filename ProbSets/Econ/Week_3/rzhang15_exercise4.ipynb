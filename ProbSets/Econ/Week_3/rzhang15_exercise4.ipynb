{
 "cells": [
  {
   "cell_type": "code",
   "execution_count": 7,
   "metadata": {
    "collapsed": true
   },
   "outputs": [],
   "source": [
    "import numpy as np\n",
    "import matplotlib.pyplot as plt\n",
    "import seaborn as sns\n",
    "from numba import jit\n",
    "import ar1_approx as ar\n",
    "import time\n",
    "from scipy.optimize import root as root\n",
    "from scipy.optimize import fminbound as fminbound\n",
    "from math import sqrt\n",
    "%matplotlib inline"
   ]
  },
  {
   "cell_type": "markdown",
   "metadata": {},
   "source": [
    "# Bonus Problem"
   ]
  },
  {
   "cell_type": "markdown",
   "metadata": {},
   "source": [
    "### Parameters"
   ]
  },
  {
   "cell_type": "code",
   "execution_count": 8,
   "metadata": {
    "collapsed": false
   },
   "outputs": [],
   "source": [
    "# Household parameters\n",
    "beta = 0.96\n",
    "h = 6.616\n",
    "r = (1/beta)-1\n",
    "# Firm parameters\n",
    "alpha_k = 0.297\n",
    "alpha_l = 0.65\n",
    "delta = 0.154\n",
    "psi = 1.08\n",
    "betafirm = 1/(1+r)\n",
    "# Parameters regarding shock\n",
    "sigma_eps = 0.213\n",
    "mu = 0.0\n",
    "rho = 0.7605\n",
    "sizez = 9"
   ]
  },
  {
   "cell_type": "markdown",
   "metadata": {},
   "source": [
    "### Capital Stock Grid"
   ]
  },
  {
   "cell_type": "code",
   "execution_count": 9,
   "metadata": {
    "collapsed": false
   },
   "outputs": [],
   "source": [
    "# Discretizing the space of capital stock \n",
    "dens = 1\n",
    "# put in bounds here for the capital stock space\n",
    "kstar = ((((1 / betafirm - 1 + delta) * ((0.7 / alpha_l) **\n",
    "                                         (alpha_l / (1 - alpha_l)))) /\n",
    "         (alpha_k * (1** (1 / (1 - alpha_l))))) **\n",
    "         ((1 - alpha_l) / (alpha_k + alpha_l - 1)))\n",
    "kbar = 2*kstar\n",
    "lb_k = 0.001\n",
    "ub_k = kbar\n",
    "krat = np.log(lb_k / ub_k)\n",
    "numb = np.ceil(krat / np.log(1 - delta))\n",
    "K = np.zeros(int(numb * dens))\n",
    "# we'll create in a way where we pin down the upper bound - since\n",
    "# the distance will be small near the lower bound, we'll miss that by little\n",
    "@jit\n",
    "def create_K(numb,dens,delta,ub_k):\n",
    "    for j in range(int(numb * dens)):\n",
    "        K[j] = ub_k * (1 - delta) ** (j / dens)\n",
    "    return K\n",
    "\n",
    "K = create_K(numb,dens,delta,ub_k)\n",
    "kvec = K[::-1]\n",
    "sizek = kvec.shape[0]"
   ]
  },
  {
   "cell_type": "markdown",
   "metadata": {},
   "source": [
    "### Productivity Shocks"
   ]
  },
  {
   "cell_type": "code",
   "execution_count": 10,
   "metadata": {
    "collapsed": true
   },
   "outputs": [],
   "source": [
    "# Find the Markov process for the shocks\n",
    "z_grid, pi = ar.addacooper(sizez,mu,rho,sigma_eps)\n",
    "z_grid = np.exp(z_grid) #make it to ln"
   ]
  },
  {
   "cell_type": "code",
   "execution_count": 11,
   "metadata": {
    "collapsed": false
   },
   "outputs": [],
   "source": [
    "@jit\n",
    "def find_op(w):\n",
    "    op = np.zeros((sizek,sizez))\n",
    "    for i in range(len(z_grid)):\n",
    "        op[:,i] = ((1 - alpha_l) * ((alpha_l / w) ** (alpha_l / (1 - alpha_l))) *\n",
    "              (z_grid[i] ** (1 / (1 - alpha_l)))*((kvec ** alpha_k) ** (1 / (1 - alpha_l))))\n",
    "    return op\n",
    "\n",
    "@jit \n",
    "def find_labor(w):\n",
    "    labor = np.zeros((sizek,sizez))\n",
    "    for i in range(len(z_grid)):\n",
    "        labor[:,i] = (((alpha_l / w) ** (1 / (1 - alpha_l))) *\n",
    "              (z_grid[i] ** (1 / (1 - alpha_l)))*((kvec ** alpha_k) ** (1 / (1 - alpha_l))))\n",
    "    return labor    \n",
    "\n",
    "@jit\n",
    "def find_earnings(op):\n",
    "    e = np.zeros((sizek,sizek,sizez))\n",
    "    for i in range(sizek):\n",
    "        for j in range(sizek):\n",
    "            for k in range(sizez):\n",
    "                e[i,j,k] = (op[i,k] - kvec[j] + ((1 - delta) * kvec[i]) -\n",
    "                           ((psi / 2) * ((kvec[j] - ((1 - delta) * kvec[i])) ** 2)\n",
    "                            / kvec[i]))\n",
    "    return e\n",
    "\n",
    "@jit\n",
    "def VFI_loop(V,Vmat,e):\n",
    "    for i in range(sizek):  # loop over k\n",
    "            for j in range(sizek):  # loop over k'\n",
    "                for k in range(sizez): #loop over z\n",
    "                    Vmat[i,j,k] = e[i,j,k] + betafirm * (V[j,:]@pi[k,:])\n",
    "    return Vmat\n",
    "\n",
    "@jit\n",
    "def make_gamma(PF):\n",
    "    Gamma = np.ones((sizez, sizek)) * (1 / (sizek * sizez))\n",
    "    SDtol = 1e-12\n",
    "    SDdist = 7\n",
    "    SDiter = 0\n",
    "    SDmaxiter = 1000\n",
    "    while SDdist > SDtol and SDmaxiter > SDiter:\n",
    "        HGamma = np.zeros((sizez, sizek))\n",
    "        for i in range(sizez):  # z\n",
    "            for j in range(sizek):  # k\n",
    "                for m in range(sizez):  # z'\n",
    "                    HGamma[m, PF.T[i, j]] = HGamma[m, PF.T[i, j]] + pi[i, m] * Gamma[i, j]\n",
    "        SDdist = (np.absolute(HGamma - Gamma)).max()\n",
    "        Gamma = HGamma\n",
    "        SDiter += 1\n",
    "    return Gamma\n",
    "\n",
    "@jit\n",
    "def policy_func(PF):\n",
    "    optK = np.zeros((sizek,sizez))\n",
    "    for k in range(sizez):\n",
    "        optK[:,k] = kvec[PF[:,k]]\n",
    "    # Find policy function for investment\n",
    "    optI = np.zeros((sizek,sizez))\n",
    "    for k in range(sizez):\n",
    "        optI[:,k] = optK[:,k]-(1-delta)*kvec\n",
    "    return optK,optI\n",
    "\n",
    "def find_wage(w):\n",
    "    # Operating Profit\n",
    "    op = find_op(w)\n",
    "    # Labor demand\n",
    "    labor = find_labor(w)\n",
    "    # Earnings\n",
    "    e= find_earnings(op)\n",
    "    # Value Function Iteration\n",
    "    VFtol = 1e-6\n",
    "    VFdist = 7.0\n",
    "    VFmaxiter = 3000\n",
    "    V = np.zeros((sizek,sizez))  # initial guess at value function for z and k\n",
    "    Vmat = np.zeros((sizek,sizek,sizez))  # initialize Vmat matrix\n",
    "    VFiter = 1\n",
    "    while VFdist > VFtol and VFiter < VFmaxiter:\n",
    "        TV = np.copy(V)\n",
    "        Vmat = VFI_loop(V,Vmat,e)\n",
    "        V = Vmat.max(axis=1)\n",
    "        PF = np.argmax(Vmat,axis=1)\n",
    "        VFdist = (np.absolute(V - TV)).max()  \n",
    "        VFiter += 1\n",
    "    # Find policy function for capital and investment\n",
    "    optK, optI = policy_func(PF)\n",
    "    # Stationary distribution of firms\n",
    "    Gamma = make_gamma(PF)\n",
    "    # Aggregate Labor\n",
    "    Ld = np.sum(labor*Gamma.T)\n",
    "    # Aggregate Investment\n",
    "    I = np.sum(optI*Gamma.T)\n",
    "    # Aggregate Adjustment costs\n",
    "    costs = np.zeros((sizek,sizez))\n",
    "    for i in range(len(z_grid)):\n",
    "        costs[:,i] = ((psi / 2) * ((optK[:,i] - ((1 - delta) * kvec)) ** 2)/ kvec)\n",
    "    Adj = np.sum(costs*Gamma.T)\n",
    "    # Aggregate Output\n",
    "    outputs = np.zeros((sizek,sizez))\n",
    "    for i in range(len(z_grid)):\n",
    "        outputs[:,i] = z_grid[i]*(kvec**alpha_l)*((labor[:,i])**alpha_l)\n",
    "    Y = np.sum(outputs*Gamma.T)\n",
    "    # Solve for household consumption using aggregate resource constraint\n",
    "    C = Y - I - Adj\n",
    "    # Find household's labor supply\n",
    "    Ls = -(w/(h*C))\n",
    "    return abs(Ld-Ls)"
   ]
  },
  {
   "cell_type": "code",
   "execution_count": 18,
   "metadata": {
    "collapsed": false
   },
   "outputs": [
    {
     "name": "stdout",
     "output_type": "stream",
     "text": [
      "The steady state wage is: 1.05028579144\n",
      "Found in seconds: 7.025708000000002\n"
     ]
    }
   ],
   "source": [
    "start_time = time.clock()\n",
    "SS_wage = root(find_wage,0.8,tol=1e-3)\n",
    "w_time = time.clock() - start_time\n",
    "print(\"The steady state wage is:\", SS_wage.x[0])\n",
    "print(\"Found in seconds:\", w_time)"
   ]
  },
  {
   "cell_type": "code",
   "execution_count": null,
   "metadata": {
    "collapsed": true
   },
   "outputs": [],
   "source": []
  }
 ],
 "metadata": {
  "kernelspec": {
   "display_name": "Python 3",
   "language": "python",
   "name": "python3"
  },
  "language_info": {
   "codemirror_mode": {
    "name": "ipython",
    "version": 3
   },
   "file_extension": ".py",
   "mimetype": "text/x-python",
   "name": "python",
   "nbconvert_exporter": "python",
   "pygments_lexer": "ipython3",
   "version": "3.6.0"
  }
 },
 "nbformat": 4,
 "nbformat_minor": 2
}
