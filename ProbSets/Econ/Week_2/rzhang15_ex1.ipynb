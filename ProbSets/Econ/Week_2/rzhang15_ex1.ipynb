{
 "cells": [
  {
   "cell_type": "code",
   "execution_count": 7,
   "metadata": {
    "collapsed": true
   },
   "outputs": [],
   "source": [
    "import numpy as np\n",
    "import matplotlib.pyplot as plt\n",
    "from math import sqrt\n",
    "from scipy.linalg import eigvals, solve\n",
    "from matplotlib.ticker import MultipleLocator"
   ]
  },
  {
   "cell_type": "code",
   "execution_count": 8,
   "metadata": {
    "collapsed": false
   },
   "outputs": [
    {
     "name": "stdout",
     "output_type": "stream",
     "text": [
      "0.965538166352\n"
     ]
    }
   ],
   "source": [
    "tol = 1e-5\n",
    "\n",
    "# Problem 1\n",
    "A = [[0.6, 0.1, -0.3],\n",
    "     [0.5, -0.4, 0.2],\n",
    "     [1.0, -0.2, 1.1]]\n",
    "\n",
    "b = [[12],\n",
    "     [10],\n",
    "     [-1]]\n",
    "\n",
    "A, b = map(np.asarray, (A, b))\n",
    "\n",
    "evs = eigvals(A)\n",
    "p = max(abs(evs))\n",
    "print(p)"
   ]
  },
  {
   "cell_type": "markdown",
   "metadata": {},
   "source": [
    "Since the largest eigenvalue is less than 1, then the equation $x = Ax + b$\n",
    "has a unique solution since the matrix $I-A$ is invertible."
   ]
  },
  {
   "cell_type": "code",
   "execution_count": 9,
   "metadata": {
    "collapsed": false
   },
   "outputs": [
    {
     "name": "stdout",
     "output_type": "stream",
     "text": [
      "Matrix Algebra: [[ -0.89552239  13.34328358  45.64179104]]\n",
      "Successive Approximation: [[ -0.89550865  13.34328105  45.6417566 ]]\n"
     ]
    }
   ],
   "source": [
    "# Matrix Algebra\n",
    "def mat_alg(A, b):\n",
    "    A_inv = np.linalg.inv(A)\n",
    "    return np.dot(A_inv,b)\n",
    "\n",
    "# Successive Approximations\n",
    "x_0 = np.array([[10],[10],[1]])\n",
    "def suc_approx(A, b, x_init, tol):\n",
    "    err = 100\n",
    "    x_old = x_init\n",
    "    while err > tol:\n",
    "        x_new = np.dot(A,x_old) + b\n",
    "        x_diff = np.square(x_old-x_new)\n",
    "        err = sqrt(np.sum(x_diff))\n",
    "        x_old = x_new\n",
    "        #print (x_old)\n",
    "    return x_new\n",
    "\n",
    "print(\"Matrix Algebra:\", mat_alg(np.eye(3)-A, b).T)\n",
    "print(\"Successive Approximation:\", suc_approx(A, b, x_0, tol).T)"
   ]
  },
  {
   "cell_type": "markdown",
   "metadata": {},
   "source": [
    "Problem 2\n",
    "\n",
    "Let T be the linear operator for the equation:\n",
    "$$Tx = c(1-\\beta) + \\beta\\sum_{k=1}^K \\max\\{w_k,x\\}p_k$$\n",
    "Therefore, $T$ maps $\\mathbb R_+$ to $\\mathbb R_+$ since $c >0$ and $0 < \\beta < 1$.\n",
    "We will show that there exists a unique fixed point by using the contraction mapping\n",
    "theorem in the metric space $(\\mathbb R_+, d)$ where $d$ is the standard Euclidean norm.\n",
    "1. Note that $Tx$ is in $\\mathbb R_+$ if $x \\in \\mathbb R_+$.\n",
    "2. $(\\mathbb R_+, d)$ is a complete metric space since it is a Euclidean space (of nonnegative numbers) with the standard norm.\n",
    "3. If $x,y \\in \\mathbb R_+$ then we have that"
   ]
  },
  {
   "cell_type": "markdown",
   "metadata": {},
   "source": [
    "$\n",
    "\\begin{align*}\n",
    "|Tx - Ty| &= \\beta|\\sum_{k=1}^K \\max\\{w_k,x\\}p_k - \\sum_{k=1}^K \\max\\{w_k,y\\}p_k| \\\\\n",
    "          &= \\beta|\\sum_{k=1}^K p_k \\max\\{w_k,x\\} - \\max\\{w_k,y\\}| \\\\\n",
    "          &\\leq \\beta\\sum_{k=1}^K |p_k \\max\\{w_k,x\\} - \\max\\{w_k,y\\}| \\\\\n",
    "          &= \\beta\\sum_{k=1}^K |p_k||\\max\\{w_k,x\\} - \\max\\{w_k,y\\}| \\\\\n",
    "          &\\leq \\beta\\sum_{k=1}^K |p_k||x-y| \\\\\n",
    "          &= \\beta|x-y|\\sum_{k=1}^K|p_k| \\\\\n",
    "          &= \\beta|x-y|\n",
    "\\end{align*}\n",
    "$"
   ]
  },
  {
   "cell_type": "markdown",
   "metadata": {},
   "source": [
    "Since $0 < \\beta < 1$, then $T$ is a contraction mapping. Therefore, there exists a unique solution\n",
    "that solves the equation due to the contraction mapping theorem.\n",
    "\n",
    "A strategy for computing the problem is by choosing any initial starting point $x$ and\n",
    "successively iterating as in the first exercise since the iteration will converge\n",
    "to the fixed point since $T$ is a contraction mapping in a complete metric space."
   ]
  },
  {
   "cell_type": "code",
   "execution_count": 11,
   "metadata": {
    "collapsed": false
   },
   "outputs": [
    {
     "data": {
      "image/png": "[encoded data removed]",
      "text/plain": [
       "<matplotlib.figure.Figure at 0x10d97a080>"
      ]
     },
     "metadata": {},
     "output_type": "display_data"
    },
    {
     "data": {
      "text/plain": [
       "<function matplotlib.pyplot.close>"
      ]
     },
     "execution_count": 11,
     "metadata": {},
     "output_type": "execute_result"
    }
   ],
   "source": [
    "# Problem 3\n",
    "beta = 0.96\n",
    "wages = np.array([0.5,1.0,1.5])\n",
    "probs = np.array([0.2,0.4,0.4])\n",
    "c_vals = np.linspace(1,2,100)\n",
    "\n",
    "def w_reserv(wages, probs, beta, c_vals, tol):\n",
    "    w_r = np.ones_like(c_vals)\n",
    "    for i in range(len(c_vals)):\n",
    "        err = 100\n",
    "        w_old = w_r\n",
    "        while err > tol:\n",
    "            sum_part = 0\n",
    "            for j in range(len(wages)):\n",
    "                sum_part = sum_part + max((w_old[i],wages[j]))*probs[j]\n",
    "            w_new = c_vals[i]*(1-beta) + beta*sum_part\n",
    "            err = w_new - w_old[i]\n",
    "            w_old[i] = w_new\n",
    "        w_r[i] = w_old[i]\n",
    "    return w_r\n",
    "\n",
    "fig, ax = plt.subplots()\n",
    "plt.plot(c_vals, w_reserv(wages, probs, beta, c_vals, tol))\n",
    "minorLocator = MultipleLocator(1)\n",
    "ax.xaxis.set_minor_locator(minorLocator)\n",
    "plt.grid(b=True, which='major', color='0.65', linestyle='-')\n",
    "plt.title('Reservation Wages for Compensation Values', fontsize=20)\n",
    "plt.xlabel('Compensation Value')\n",
    "plt.ylabel('Reservation Wage')\n",
    "plt.savefig('reservation_wage.png')\n",
    "plt.show()\n",
    "plt.close\n"
   ]
  }
 ],
 "metadata": {
  "kernelspec": {
   "display_name": "Python 3",
   "language": "python",
   "name": "python3"
  },
  "language_info": {
   "codemirror_mode": {
    "name": "ipython",
    "version": 3
   },
   "file_extension": ".py",
   "mimetype": "text/x-python",
   "name": "python",
   "nbconvert_exporter": "python",
   "pygments_lexer": "ipython3",
   "version": "3.6.0"
  }
 },
 "nbformat": 4,
 "nbformat_minor": 2
}
