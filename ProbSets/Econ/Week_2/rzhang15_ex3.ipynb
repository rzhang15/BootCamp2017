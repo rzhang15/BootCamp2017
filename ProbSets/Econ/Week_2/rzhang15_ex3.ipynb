{
 "cells": [
  {
   "cell_type": "code",
   "execution_count": 1,
   "metadata": {
    "collapsed": false
   },
   "outputs": [],
   "source": [
    "import numpy as np\n",
    "from numba import jit\n",
    "from bisect import bisect_right\n",
    "import quantecon as qe"
   ]
  },
  {
   "cell_type": "code",
   "execution_count": 2,
   "metadata": {
    "collapsed": false
   },
   "outputs": [],
   "source": [
    "@jit\n",
    "def my_interp1(x, xp, fp, left=None, right=None, period=None):\n",
    "    # Assumes that given xp is increasing\n",
    "    y = np.empty_like(x)\n",
    "    for n in range(len(x)):\n",
    "        if left==None:\n",
    "            left = fp[0]\n",
    "        if right==None:\n",
    "            right = fp[-1]\n",
    "            \n",
    "        if x[n] < xp[0]:\n",
    "            y[n] = left\n",
    "        elif x[n] > xp[-1]:\n",
    "            y[n] = right\n",
    "        else:\n",
    "            i = bisect_right(xp, x[n])\n",
    "            y[n] = (fp[i]-fp[i-1])*(x[n]-xp[i-1])/(xp[i]-xp[i-1])+fp[i-1]\n",
    "    return y"
   ]
  },
  {
   "cell_type": "code",
   "execution_count": 3,
   "metadata": {
    "collapsed": true
   },
   "outputs": [],
   "source": [
    "@jit\n",
    "def my_interp2(x, xp, fp):\n",
    "    # Assumes that given xp is increasing, and x is not outside range\n",
    "    bins = np.digitize(x,xp)\n",
    "    slope = np.diff(fp)/np.diff(xp)\n",
    "    y = (x-xp[bins-1])*slope[bins-1]+fp[bins-1]\n",
    "    return y"
   ]
  },
  {
   "cell_type": "code",
   "execution_count": 8,
   "metadata": {
    "collapsed": false
   },
   "outputs": [],
   "source": [
    "xp_1 = np.linspace(3, 80, 100)\n",
    "fp_1 = np.exp(xp_1)\n",
    "x_1 = np.linspace(4, 60, 20)"
   ]
  },
  {
   "cell_type": "code",
   "execution_count": 10,
   "metadata": {
    "collapsed": false
   },
   "outputs": [
    {
     "name": "stdout",
     "output_type": "stream",
     "text": [
      "The slowest run took 13.46 times longer than the fastest. This could mean that an intermediate result is being cached.\n",
      "1000000 loops, best of 3: 1.37 µs per loop\n",
      "100000 loops, best of 3: 4.4 µs per loop\n",
      "10000 loops, best of 3: 49.5 µs per loop\n"
     ]
    }
   ],
   "source": [
    "%timeit np.interp(x_1,xp_1,fp_1)\n",
    "%timeit my_interp2(x_1,xp_1,fp_1)\n",
    "%timeit my_interp1(x_1,xp_1,fp_1) #too slow"
   ]
  },
  {
   "cell_type": "code",
   "execution_count": 334,
   "metadata": {
    "collapsed": true
   },
   "outputs": [],
   "source": [
    "def coleman_egm(g, k_grid, beta, u_prime, u_prime_inv, f, f_prime, shocks):\n",
    "    # Allocate memory for value of consumption on endogenous grid points\n",
    "    c = np.empty_like(k_grid)  \n",
    "\n",
    "    # Solve for updated consumption value and endogenous grid\n",
    "    c, y = consumption(g, k_grid, beta, u_prime, u_prime_inv, f, f_prime, shocks)\n",
    "\n",
    "    # Update policy function and return\n",
    "    Kg = lambda x: my_interp2(x, y, c)\n",
    "    return Kg"
   ]
  },
  {
   "cell_type": "code",
   "execution_count": 356,
   "metadata": {
    "collapsed": true
   },
   "outputs": [],
   "source": [
    "@jit\n",
    "def consumption(g, k_grid, beta, u_prime, u_prime_inv, f, f_prime, shocks):\n",
    "    c = np.empty_like(k_grid) \n",
    "    for i, k in enumerate(k_grid):\n",
    "        vals = u_prime(g(f(k) * shocks)) * f_prime(k) * shocks\n",
    "        c[i] = u_prime_inv(beta * np.mean(vals))\n",
    "    y = k_grid+c # y_i = k_i + c_i\n",
    "    return c, y"
   ]
  },
  {
   "cell_type": "code",
   "execution_count": 336,
   "metadata": {
    "collapsed": true
   },
   "outputs": [],
   "source": [
    "def coleman_egm_class(g, k_grid, beta, u_prime, u_prime_inv, f, f_prime, shocks):\n",
    "    # Allocate memory for value of consumption on endogenous grid points\n",
    "    c = np.empty_like(k_grid)  \n",
    "\n",
    "    # Solve for updated consumption value\n",
    "    for i, k in enumerate(k_grid):\n",
    "        vals = u_prime(g(f(k) * shocks)) * f_prime(k) * shocks\n",
    "        c[i] = u_prime_inv(beta * np.mean(vals))\n",
    "    \n",
    "    # Determine endogenous grid\n",
    "    y = k_grid + c  # y_i = k_i + c_i\n",
    "\n",
    "    # Update policy function and return\n",
    "    Kg = lambda x: np.interp(x, y, c)\n",
    "    return Kg"
   ]
  },
  {
   "cell_type": "code",
   "execution_count": 337,
   "metadata": {
    "collapsed": true
   },
   "outputs": [],
   "source": [
    "## Define the model\n",
    "\n",
    "alpha = 0.65\n",
    "beta = 0.95\n",
    "mu = 0\n",
    "s = 0.1\n",
    "grid_min = 1e-6\n",
    "grid_max = 4\n",
    "grid_size = 200\n",
    "shock_size = 250\n",
    "\n",
    "gamma = 1.5   # Preference parameter\n",
    "gamma_inv = 1 / gamma\n",
    "\n",
    "def f(k):\n",
    "    return k**alpha\n",
    "\n",
    "def f_prime(k):\n",
    "    return alpha * k**(alpha - 1)\n",
    "\n",
    "def u(c):\n",
    "    return (c**(1 - gamma) - 1) / (1 - gamma)\n",
    "\n",
    "def u_prime(c):\n",
    "    return c**(-gamma)\n",
    "\n",
    "def u_prime_inv(c):\n",
    "    return c**(-gamma_inv)\n",
    "\n",
    "k_grid = np.linspace(grid_min, grid_max, grid_size)\n",
    "shocks = np.exp(mu + s * np.random.randn(shock_size))\n",
    "\n",
    "## Let's make convenience functions based around these primitives\n",
    "\n",
    "def crra_coleman(g):\n",
    "    return coleman_egm_class(g, k_grid, beta, u_prime, u_prime_inv, f, f_prime, shocks)\n",
    "\n",
    "def crra_coleman_egm(g):\n",
    "    return coleman_egm(g, k_grid, beta, u_prime, u_prime_inv, f, f_prime, shocks)"
   ]
  },
  {
   "cell_type": "code",
   "execution_count": 299,
   "metadata": {
    "collapsed": false
   },
   "outputs": [
    {
     "name": "stdout",
     "output_type": "stream",
     "text": [
      "Timing policy function iteration with endogenous grid without Numba\n",
      "TOC: Elapsed: 0.19562602043151855 seconds.\n",
      "Timing policy function iteration with endogenous grid and Numba\n",
      "TOC: Elapsed: 0.17700409889221191 seconds.\n"
     ]
    },
    {
     "data": {
      "text/plain": [
       "0.17700409889221191"
      ]
     },
     "execution_count": 299,
     "metadata": {},
     "output_type": "execute_result"
    }
   ],
   "source": [
    "## Iterate, compare policies\n",
    "\n",
    "sim_length = 20\n",
    "\n",
    "print(\"Timing policy function iteration with endogenous grid without Numba\")\n",
    "g_init_egm = lambda x: x\n",
    "g = g_init_egm\n",
    "qe.util.tic()\n",
    "for i in range(sim_length):\n",
    "    new_g = crra_coleman(g)\n",
    "    g = new_g\n",
    "qe.util.toc()\n",
    "\n",
    "print(\"Timing policy function iteration with endogenous grid and Numba\")\n",
    "g_init_egm = lambda x: x\n",
    "g = g_init_egm\n",
    "qe.util.tic()\n",
    "for i in range(sim_length):\n",
    "    new_g = crra_coleman_egm(g)\n",
    "    g = new_g\n",
    "qe.util.toc()"
   ]
  }
 ],
 "metadata": {
  "kernelspec": {
   "display_name": "Python 3",
   "language": "python",
   "name": "python3"
  },
  "language_info": {
   "codemirror_mode": {
    "name": "ipython",
    "version": 3
   },
   "file_extension": ".py",
   "mimetype": "text/x-python",
   "name": "python",
   "nbconvert_exporter": "python",
   "pygments_lexer": "ipython3",
   "version": "3.6.0"
  }
 },
 "nbformat": 4,
 "nbformat_minor": 2
}
