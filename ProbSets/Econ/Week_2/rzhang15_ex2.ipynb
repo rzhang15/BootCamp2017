{
 "cells": [
  {
   "cell_type": "code",
   "execution_count": 7,
   "metadata": {
    "collapsed": false
   },
   "outputs": [],
   "source": [
    "import numpy as np\n",
    "import matplotlib.pyplot as plt\n",
    "import quantecon as qe\n",
    "from math import sqrt\n",
    "from scipy.linalg import eigvals, solve\n",
    "from matplotlib.ticker import MultipleLocator\n",
    "import scipy.stats as stats\n",
    "from scipy.optimize import fminbound"
   ]
  },
  {
   "cell_type": "markdown",
   "metadata": {},
   "source": [
    "We must prove that $U$ is a contraction mapping with respect to the supremum norm for a given $g, h \\in C$: \n",
    "$$\n",
    "    \\begin{align*}\n",
    "        \\rho (Ug, Uh) &= sup_{y \\geq 0}|Ug(y)-Uh(y)| \\\\\n",
    "        &= sup_{y \\geq 0}\\beta  | \\int (g(f(y - \\sigma(y))z) - h(f(y - \\sigma(y))z)) \\phi(dz)| \\\\\n",
    "        & \\leq sup_{y \\geq 0}\\beta \\int|(g(f(y - \\sigma(y))z) - h(f(y - \\sigma(y))z))|\\phi(dz) \\\\\n",
    "        & \\leq \\beta \\int sup_{y \\geq 0}|g(y) -h(y)|\\phi(dz) \\text{ by the definition of supremum} \\\\\n",
    "        &= \\beta \\int \\rho(g, h) \\phi(dz) \\\\\n",
    "        &= \\beta \\rho(g, h) \\int  \\phi(dz) \\\\\n",
    "        &= \\beta \\rho(g, h) \\text{ since we are integrating a probability distribution}\n",
    "    \\end{align*}\n",
    "$$\n",
    "Since $0 < \\beta < 1$, then $U$ is a contraction mapping."
   ]
  },
  {
   "cell_type": "markdown",
   "metadata": {},
   "source": [
    "Note that there exist a unique fixed point of $U$: \n",
    "1. Given a continuous function $w$, $U$ maps $w$ to a continuous function since $u, \\sigma, f$ are all continous and $\\phi$ is a continous probability distribution. \n",
    "2. The space of nonnegative, continous, bounded functions with the supremum norm is complete. The main idea is that continuous, bounded functions cannot converge to a discontinuous unbounded function when the largest possible difference between the functions for all points is converging to zero. \n",
    "3. As shown above, U is a contraction mapping.\n",
    "By definition: \n",
    "$$\n",
    "  \\begin{align*}\n",
    "      v_\\sigma &= \\mathbb E \\left[ \\sum_{t = 0}^{\\infty} \\beta^t u(\\sigma(y_t)) \\right] \\\\\n",
    "      &= u(\\sigma(y_0)) + \\beta \\mathbb E \\left[ \\sum_{t = 1}^{\\infty} \\beta^{t-1} u(\\sigma(y_t)) \\right] \\\\\n",
    "      &= u(\\sigma(y)) + \\beta \\mathbb E \\left[ \\sum_{t = 0}^{\\infty} \\beta^{t} u(\\sigma(y_{t+1})) \\right] \\\\\n",
    "      &= u(\\sigma(y)) + \\beta \\mathbb E \\left[ \\sum_{t = 0}^{\\infty} \\beta^{t} u(\\sigma(f(y_t - \\sigma(y_t)) \\xi_{t+1})) \\right] \\\\\n",
    "      &= u(\\sigma(y)) + \\beta \\int v_\\sigma(f(y - \\sigma(y))z \\phi(dz)\n",
    "  \\end{align*}\n",
    "$$\n",
    "Since $U$ has a unique fixed point and $v_\\sigma$ is a fixed point, then it must be the unique fixed point."
   ]
  },
  {
   "cell_type": "code",
   "execution_count": 8,
   "metadata": {
    "collapsed": true
   },
   "outputs": [],
   "source": [
    "class LogLinearOG:\n",
    "    def __init__(self, alpha=0.4, beta=0.96, mu=0, s=0.1):\n",
    "\n",
    "        self.alpha, self.beta, self.mu, self.s = alpha, beta, mu, s \n",
    "\n",
    "        # == Some useful constants == #\n",
    "        self.ab = alpha * beta\n",
    "        self.c1 = np.log(1 - self.ab) / (1 - beta)\n",
    "        self.c2 = (mu + alpha * np.log(self.ab)) / (1 - alpha)\n",
    "        self.c3 = 1 / (1 - beta)\n",
    "        self.c4 = 1 / (1 - self.ab)\n",
    "\n",
    "    def u(self, c):\n",
    "        \" Utility \"\n",
    "        return np.log(c)\n",
    "\n",
    "    def u_prime(self, c):\n",
    "        return 1 / c\n",
    "\n",
    "    def f(self, k):\n",
    "        \" Deterministic part of production function.  \"\n",
    "        return k**self.alpha\n",
    "\n",
    "    def f_prime(self, k):\n",
    "        return self.alpha * k**(self.alpha - 1)\n",
    "\n",
    "    def c_star(self, y):\n",
    "        \" True optimal policy.  \"\n",
    "        return (1 - self.alpha * self.beta) * y\n",
    "\n",
    "    def v_star(self, y):\n",
    "        \" True value function. \"\n",
    "        return self.c1 + self.c2 * (self.c3 - self.c4) + self.c4 * np.log(y)"
   ]
  },
  {
   "cell_type": "code",
   "execution_count": 9,
   "metadata": {
    "collapsed": false
   },
   "outputs": [],
   "source": [
    "lg = LogLinearOG()\n",
    "# == Unpack parameters / functions for convenience == #\n",
    "alpha, beta, mu, s = lg.alpha, lg.beta, lg.mu, lg.s\n",
    "c_star, v_star, u, f = lg.c_star, lg.v_star, lg.u, lg.f\n",
    "\n",
    "grid_max = 4         # Largest grid point\n",
    "grid_size = 200      # Number of grid points\n",
    "shock_size = 250     # Number of shock draws in Monte Carlo integral\n",
    "\n",
    "grid = np.linspace(1e-5, grid_max, grid_size)\n",
    "shocks = np.exp(mu + s * np.random.randn(shock_size))"
   ]
  },
  {
   "cell_type": "code",
   "execution_count": 10,
   "metadata": {
    "collapsed": true
   },
   "outputs": [],
   "source": [
    "def bellman_operator(w, grid, beta, u, f, sigma, shocks, Tw=None):\n",
    "    # === Apply linear interpolation to w === #\n",
    "    w_func = lambda x: np.interp(x, grid, w)\n",
    "    # == Initialize Tw if necessary == #\n",
    "    if Tw is None:\n",
    "        Tw = np.empty_like(w)\n",
    "    # == set Tw[i] = u(c) + beta E w(f(y  - c) z)} == #\n",
    "    for i, y in enumerate(grid):\n",
    "        def objective(c):\n",
    "            return - u(c) - beta * np.mean(w_func(f(y - c) * shocks))\n",
    "        c_star = sigma(y)\n",
    "        Tw[i] = - objective(c_star)\n",
    "    return Tw"
   ]
  },
  {
   "cell_type": "code",
   "execution_count": 20,
   "metadata": {
    "collapsed": false
   },
   "outputs": [],
   "source": [
    "def compute_v(w_init, xi, grid, beta, u, f, sigma, shocks, tol=1e-5, Tw=None):\n",
    "    w_old = w_init\n",
    "    err = 100\n",
    "    while err > tol:\n",
    "        w_new = bellman_operator(w_old, grid, beta, u, f, sigma, shocks, Tw=None)\n",
    "        err = sqrt(np.sum(np.square(w_old-w_new)))\n",
    "        w_old = xi*w_new+(1-xi)*w_old\n",
    "    return w_new"
   ]
  },
  {
   "cell_type": "code",
   "execution_count": 23,
   "metadata": {
    "collapsed": false
   },
   "outputs": [
    {
     "data": {
      "image/png": "[encoded data removed]",
      "text/plain": [
       "<matplotlib.figure.Figure at 0x11f1c9978>"
      ]
     },
     "metadata": {},
     "output_type": "display_data"
    }
   ],
   "source": [
    "Tw = np.empty(len(grid))\n",
    "initial_w = 5 * np.log(grid)\n",
    "xi = 0.5\n",
    "\n",
    "sigma_1 = lambda x: 0.95*x\n",
    "sigma_2 = lambda x: stats.lognorm.cdf(x,0.5)*x\n",
    "\n",
    "w_1 = compute_v(initial_w, xi, grid, beta, u, f, sigma_1, shocks)\n",
    "w_2 = compute_v(initial_w, xi, grid, beta, u, f, sigma_2, shocks)\n",
    "\n",
    "fig, ax = plt.subplots(figsize=(9, 6))\n",
    "ax.set_ylim(-70,-20)\n",
    "ax.set_xlim(np.min(grid), np.max(grid))\n",
    "lb = 'Value Function of Sigma 1'\n",
    "ax.plot(grid, w_1, color=plt.cm.jet(1), lw=2, alpha=0.6, label=lb)\n",
    "lb = 'Value Function of Sigma 2'\n",
    "ax.plot(grid, w_2, color=plt.cm.jet(1/2), lw=2, alpha=0.6, label=lb)\n",
    "lb = 'True Value Function'\n",
    "ax.plot(grid, v_star(grid), 'k-', lw=2, alpha=0.8, label=lb)\n",
    "ax.legend(loc='lower right')\n",
    "\n",
    "plt.show()"
   ]
  },
  {
   "cell_type": "code",
   "execution_count": null,
   "metadata": {
    "collapsed": true
   },
   "outputs": [],
   "source": []
  }
 ],
 "metadata": {
  "kernelspec": {
   "display_name": "Python 3",
   "language": "python",
   "name": "python3"
  },
  "language_info": {
   "codemirror_mode": {
    "name": "ipython",
    "version": 3
   },
   "file_extension": ".py",
   "mimetype": "text/x-python",
   "name": "python",
   "nbconvert_exporter": "python",
   "pygments_lexer": "ipython3",
   "version": "3.6.0"
  }
 },
 "nbformat": 4,
 "nbformat_minor": 2
}
