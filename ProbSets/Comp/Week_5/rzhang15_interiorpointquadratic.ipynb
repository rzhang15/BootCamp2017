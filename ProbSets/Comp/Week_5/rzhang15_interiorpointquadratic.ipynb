{
 "cells": [
  {
   "cell_type": "code",
   "execution_count": 40,
   "metadata": {
    "collapsed": true
   },
   "outputs": [],
   "source": [
    "import numpy as np\n",
    "import scipy.linalg as la\n",
    "from scipy.sparse import spdiags\n",
    "from matplotlib import pyplot as plt\n",
    "from mpl_toolkits.mplot3d import axes3d"
   ]
  },
  {
   "cell_type": "code",
   "execution_count": 37,
   "metadata": {
    "collapsed": true
   },
   "outputs": [],
   "source": [
    "def startingPoint(G, c, A, b, guess):\n",
    "    \"\"\"\n",
    "    Obtain an appropriate initial point for solving the QP \n",
    "    .5 x^T Gx + x^T c s.t. Ax >= b.\n",
    "    Inputs:\n",
    "    G -- symmetric positive semidefinite matrix shape (n,n)\n",
    "    c -- array of length n\n",
    "    A -- constraint matrix shape (m,n)\n",
    "    b -- array of length m\n",
    "    guess -- a tuple of arrays (x, y, l) of lengths n, m, and m, resp.\n",
    "    Returns:\n",
    "    a tuple of arrays (x0, y0, l0) of lengths n, m, and m, resp.\n",
    "    \"\"\"\n",
    "    m,n = A.shape\n",
    "    x0, y0, l0 = guess\n",
    "    # initialize linear system\n",
    "    N = np.zeros((n+m+m, n+m+m))\n",
    "    N[:n,:n] = G\n",
    "    N[:n, n+m:] = -A.T\n",
    "    N[n:n+m, :n] = A\n",
    "    N[n:n+m, n:n+m] = -np.eye(m)\n",
    "    N[n+m:, n:n+m] = np.diag(l0)\n",
    "    N[n+m:, n+m:] = np.diag(y0)\n",
    "    rhs = np.empty(n+m+m)\n",
    "    rhs[:n] = -(G.dot(x0) - A.T.dot(l0)+c)\n",
    "    rhs[n:n+m] = -(A.dot(x0) - y0 - b)\n",
    "    rhs[n+m:] = -(y0*l0)\n",
    "    sol = la.solve(N, rhs)\n",
    "    dx = sol[:n]\n",
    "    dy = sol[n:n+m]\n",
    "    dl = sol[n+m:]\n",
    "    y0 = np.maximum(1, np.abs(y0 + dy))\n",
    "    l0 = np.maximum(1, np.abs(l0+dl))\n",
    "    return x0, y0, l0"
   ]
  },
  {
   "cell_type": "markdown",
   "metadata": {},
   "source": [
    "# Constructing Interior Point Solver \n",
    "# (Problem 1, 2)"
   ]
  },
  {
   "cell_type": "code",
   "execution_count": 38,
   "metadata": {
    "collapsed": true
   },
   "outputs": [],
   "source": [
    "def qInteriorPoint(Q,c,A,b,guess,niter=20,tol=1e-16):\n",
    "    m,n = A.shape\n",
    "    sigma = 1/10\n",
    "    tau = 0.95\n",
    "    row1 = np.hstack((Q,np.zeros((n,m)),-A.T))\n",
    "    row2 = np.hstack((A,-np.eye(m),np.zeros((m,m))))\n",
    "    DF1 = np.vstack((row1,row2))\n",
    "    x,y,mu = startingPoint(Q, c, A, b, guess)\n",
    "    duality = (y@mu)/m\n",
    "    iteration = 0\n",
    "    \n",
    "    def vector_F(x,y,mu):\n",
    "        row1 = Q@x-A.T@mu+c\n",
    "        row2 = A@x-y-b\n",
    "        row3 = np.diag(y)@(np.diag(mu)@np.ones(m))\n",
    "        F = np.hstack((row1,row2,row3))\n",
    "        return F\n",
    "    \n",
    "    while duality >= tol and iteration < niter:\n",
    "        # Find direction\n",
    "        row3 = np.hstack((np.zeros((m,n)),np.diag(mu),np.diag(y)))\n",
    "        DF = np.vstack((DF1,row3))\n",
    "        bvec = np.hstack((np.zeros(n+m),duality*sigma*np.ones(m)))-vector_F(x,y,mu)\n",
    "        direction = la.lu_solve(la.lu_factor(DF),bvec)\n",
    "       \n",
    "        # Find step size\n",
    "        del_x = direction[:n]\n",
    "        del_y = direction[n:-m]\n",
    "        del_mu = direction[-m:]\n",
    "        beta_max = min(1,np.min(-mu[del_mu<0]/del_mu[del_mu<0]))\n",
    "        delta_max = min(1,np.min(-y[del_y<0]/del_y[del_y<0]))\n",
    "        beta = min(1,tau*beta_max)\n",
    "        delta = min(1,tau*delta_max)\n",
    "        alpha = min(beta,delta)\n",
    "\n",
    "        # Next point\n",
    "        x = x+alpha*del_x\n",
    "        y = y+alpha*del_y\n",
    "        mu = mu+alpha*del_mu\n",
    "        duality = (y@mu)/m\n",
    "        iteration += 1\n",
    "        print('Duality:', duality, 'on iteration', iteration)\n",
    "        \n",
    "    return x, c@x"
   ]
  },
  {
   "cell_type": "code",
   "execution_count": 39,
   "metadata": {
    "collapsed": false
   },
   "outputs": [
    {
     "name": "stdout",
     "output_type": "stream",
     "text": [
      "Duality: 0.250466780797 on iteration 1\n",
      "Duality: 0.126003419989 on iteration 2\n",
      "Duality: 0.0428048440472 on iteration 3\n",
      "Duality: 0.00780515664659 on iteration 4\n",
      "Duality: 0.00120645224731 on iteration 5\n",
      "Duality: 0.000176277948144 on iteration 6\n",
      "Duality: 2.55786408208e-05 on iteration 7\n",
      "Duality: 3.70920346842e-06 on iteration 8\n",
      "Duality: 5.37840205737e-07 on iteration 9\n",
      "Duality: 7.79869452909e-08 on iteration 10\n",
      "Duality: 1.13081094625e-08 on iteration 11\n",
      "Duality: 1.6396759222e-09 on iteration 12\n",
      "Duality: 2.37753009771e-10 on iteration 13\n",
      "Duality: 3.44741864389e-11 on iteration 14\n",
      "Duality: 4.9987570341e-12 on iteration 15\n",
      "Duality: 7.24819769955e-13 on iteration 16\n",
      "Duality: 1.05098866644e-13 on iteration 17\n",
      "Duality: 1.52393356633e-14 on iteration 18\n",
      "Duality: 2.20970367118e-15 on iteration 19\n",
      "Duality: 3.20407032322e-16 on iteration 20\n",
      "(array([ 0.66666667,  1.33333333]), -9.3333333333333321)\n"
     ]
    }
   ],
   "source": [
    "x = np.array([1/2,1/2])\n",
    "y = np.ones(5)\n",
    "mu = np.ones(5)\n",
    "guess = (x,y,mu)\n",
    "c = np.array([-2,-6])\n",
    "Q = np.array([[1,-1],[-1,2]])\n",
    "A = np.array([[-1,-1],[1,-2],[-2,-1],[1,0],[0,1]])\n",
    "b = np.array([-2,-2,-3,0,0])\n",
    "print(qInteriorPoint(Q,c,A,b,guess))"
   ]
  },
  {
   "cell_type": "markdown",
   "metadata": {},
   "source": [
    "# Problem 3"
   ]
  },
  {
   "cell_type": "code",
   "execution_count": null,
   "metadata": {
    "collapsed": true
   },
   "outputs": [],
   "source": [
    "def circus_tent(n):\n",
    "    def laplacian(n):\n",
    "    \"\"\"Construct the discrete Dirichlet energy matrix H for an n x n grid.\"\"\"\n",
    "    data = -1*np.ones((5, n**2))\n",
    "    data[2,:] = 4\n",
    "    data[1, n-1::n] = 0\n",
    "    data[3, ::n] = 0\n",
    "    diags = np.array([-n, -1, 0, 1, n])\n",
    "    return spdiags(data, diags, n**2, n**2).toarray()\n",
    "    \n",
    "    # Create the tent pole configuration.\n",
    "    L = np.zeros((n,n))\n",
    "    L[n//2-1:n//2+1,n//2-1:n//2+1] = .5\n",
    "    m = [n//6-1, n//6, int(5*(n/6.))-1, int(5*(n/6.))]\n",
    "    mask1, mask2 = np.meshgrid(m, m)\n",
    "    L[mask1, mask2] = .3\n",
    "    L = L.ravel()\n",
    "    \n",
    "    # Set initial guesses.\n",
    "    x = np.ones((n,n)).ravel()\n",
    "    y = np.ones(n**2)\n",
    "    mu = np.ones(n**2)\n",
    "    \n",
    "    # INITIALIZE c, A, H "
   ]
  }
 ],
 "metadata": {
  "kernelspec": {
   "display_name": "Python 3",
   "language": "python",
   "name": "python3"
  },
  "language_info": {
   "codemirror_mode": {
    "name": "ipython",
    "version": 3
   },
   "file_extension": ".py",
   "mimetype": "text/x-python",
   "name": "python",
   "nbconvert_exporter": "python",
   "pygments_lexer": "ipython3",
   "version": "3.6.0"
  }
 },
 "nbformat": 4,
 "nbformat_minor": 2
}
