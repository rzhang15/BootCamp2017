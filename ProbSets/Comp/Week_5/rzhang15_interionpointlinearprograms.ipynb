{
 "cells": [
  {
   "cell_type": "code",
   "execution_count": 17,
   "metadata": {
    "collapsed": true
   },
   "outputs": [],
   "source": [
    "import numpy as np\n",
    "import scipy.linalg as la"
   ]
  },
  {
   "cell_type": "markdown",
   "metadata": {},
   "source": [
    "# Finding the Initial Point (provided)"
   ]
  },
  {
   "cell_type": "code",
   "execution_count": 18,
   "metadata": {
    "collapsed": true
   },
   "outputs": [],
   "source": [
    "def starting_point(A, b, c):\n",
    "    \"\"\"Calculate an initial guess to the solution of the linear program\n",
    "    min c^T x, Ax = b, x>=0.\n",
    "    Reference: Nocedal and Wright, p. 410.\n",
    "    \"\"\"\n",
    "    # Calculate x, lam, mu of minimal norm satisfying both\n",
    "    # the primal and dual constraints.\n",
    "    B = la.inv(A.dot(A.T))\n",
    "    x = A.T.dot(B.dot(b))\n",
    "    lam = B.dot(A.dot(c))\n",
    "    mu = c - A.T.dot(lam)\n",
    "    \n",
    "    # Perturb x and s so they are nonnegative.\n",
    "    dx = max((-3./2)*x.min(), 0)\n",
    "    dmu = max((-3./2)*mu.min(), 0)\n",
    "    x += dx*np.ones_like(x)\n",
    "    mu += dmu*np.ones_like(mu)\n",
    "    \n",
    "    # Perturb x and mu so they are not too small and not too dissimilar.\n",
    "    dx = .5*(x*mu).sum()/mu.sum()\n",
    "    dmu = .5*(x*mu).sum()/x.sum()\n",
    "    x += dx*np.ones_like(x)\n",
    "    mu += dmu*np.ones_like(mu)\n",
    "    \n",
    "    return x, lam, mu"
   ]
  },
  {
   "cell_type": "markdown",
   "metadata": {},
   "source": [
    "# Constructing Interior Point Solver"
   ]
  },
  {
   "cell_type": "code",
   "execution_count": 19,
   "metadata": {
    "collapsed": true
   },
   "outputs": [],
   "source": [
    "def interiorPoint(A,b,c,niter=20,tol=1e-16):\n",
    "    m,n = A.shape\n",
    "    sigma = 1/10\n",
    "    row1 = np.hstack((np.zeros((n,n)),A.T,np.eye(n)))\n",
    "    row2 = np.hstack((A,np.zeros((m,m+n))))\n",
    "    DF1 = np.vstack((row1,row2))\n",
    "    x, lam, mu = starting_point(A, b, c)\n",
    "    duality = (x@mu)/n\n",
    "    iteration = 0\n",
    "    \n",
    "    def vector_F(x,lam,mu):\n",
    "        row1 = A.T@lam+mu-c\n",
    "        row2 = A@x-b\n",
    "        row3 = np.diag(mu)@x\n",
    "        F = np.hstack((row1,row2,row3))\n",
    "        return F\n",
    "    \n",
    "    while duality >= tol and iteration < niter:\n",
    "        # Find direction\n",
    "        row3 = np.hstack((np.diag(mu),np.zeros((n,m)),np.diag(x)))\n",
    "        DF = np.vstack((DF1,row3))\n",
    "        bvec = np.hstack((np.zeros(n+m),duality*sigma*np.ones(n)))-vector_F(x,lam,mu)\n",
    "        direction = la.lu_solve(la.lu_factor(DF),bvec)\n",
    "       \n",
    "        # Find step size\n",
    "        del_x = direction[:n]\n",
    "        del_lam = direction[n:-n]\n",
    "        del_mu = direction[-n:]\n",
    "        alpha_max = min(1,np.min(-mu[del_mu<0]/del_mu[del_mu<0]))\n",
    "        delta_max = min(1,np.min(-x[del_x<0]/del_x[del_x<0]))\n",
    "        alpha = min(1,0.95*alpha_max)\n",
    "        delta = min(1,0.95*delta_max)\n",
    "\n",
    "        # Next point\n",
    "        x = x+delta*del_x\n",
    "        lam = lam+alpha*del_lam\n",
    "        mu = mu+alpha*del_mu\n",
    "        duality = (x@mu)/n\n",
    "        iteration += 1\n",
    "        print('Duality:', duality, 'on iteration', iteration)\n",
    "        \n",
    "    return x, c@x"
   ]
  },
  {
   "cell_type": "markdown",
   "metadata": {},
   "source": [
    "# Testing"
   ]
  },
  {
   "cell_type": "code",
   "execution_count": 20,
   "metadata": {
    "collapsed": false
   },
   "outputs": [
    {
     "name": "stdout",
     "output_type": "stream",
     "text": [
      "Duality: 0.463320949873 on iteration 1\n",
      "Duality: 0.101424537586 on iteration 2\n",
      "Duality: 0.0204064470219 on iteration 3\n",
      "Duality: 0.00364355921276 on iteration 4\n",
      "Duality: 0.00110451797748 on iteration 5\n",
      "Duality: 0.000203806949413 on iteration 6\n",
      "Duality: 2.95529821505e-05 on iteration 7\n",
      "Duality: 4.28522300846e-06 on iteration 8\n",
      "Duality: 6.2135771426e-07 on iteration 9\n",
      "Duality: 9.0096871522e-08 on iteration 10\n",
      "Duality: 1.30640463927e-08 on iteration 11\n",
      "Duality: 1.8942867271e-09 on iteration 12\n",
      "Duality: 2.7467157543e-10 on iteration 13\n",
      "Duality: 3.98273784374e-11 on iteration 14\n",
      "Duality: 5.77496987342e-12 on iteration 15\n",
      "Duality: 8.37370631646e-13 on iteration 16\n",
      "Duality: 1.21418741589e-13 on iteration 17\n",
      "Duality: 1.76057175304e-14 on iteration 18\n",
      "Duality: 2.5528290419e-15 on iteration 19\n",
      "Duality: 3.70160211076e-16 on iteration 20\n",
      "True\n"
     ]
    }
   ],
   "source": [
    "def randomLP(m,n):\n",
    "    \"\"\"Generate a linear program min c^T x s.t. Ax = b, x>=0.\n",
    "    First generate m feasible constraints, then add\n",
    "    slack variables to convert it into the above form.\n",
    "    Inputs:\n",
    "    m (int >= n): number of desired constraints.\n",
    "    n (int): dimension of space in which to optimize.\n",
    "    Outputs:\n",
    "    A ((m,n+m) ndarray): Constraint matrix.\n",
    "    b ((m,) ndarray): Constraint vector.\n",
    "    c ((n+m,), ndarray): Objective function with m trailing 0s.\n",
    "    x ((n,) ndarray): The first 'n' terms of the solution to the LP.\n",
    "    \"\"\"\n",
    "    A = np.random.random((m,n))*20 - 10\n",
    "    A[A[:,-1]<0] *= -1\n",
    "    x = np.random.random(n)*10\n",
    "    b = np.zeros(m)\n",
    "    b[:n] = A[:n,:].dot(x)\n",
    "    b[n:] = A[n:,:].dot(x) + np.random.random(m-n)*10\n",
    "    c = np.zeros(n+m)\n",
    "    c[:n] = A[:n,:].sum(axis=0)/n\n",
    "    A = np.hstack((A, np.eye(m)))\n",
    "    return A, b, -c, x\n",
    "\n",
    "m, n = 7, 5\n",
    "A, b, c, x = randomLP(m, n)\n",
    "point, value = interiorPoint(A, b, c)\n",
    "print(np.allclose(x, point[:n]))"
   ]
  },
  {
   "cell_type": "markdown",
   "metadata": {},
   "source": [
    "# Problem 5"
   ]
  },
  {
   "cell_type": "code",
   "execution_count": null,
   "metadata": {
    "collapsed": true
   },
   "outputs": [],
   "source": []
  }
 ],
 "metadata": {
  "kernelspec": {
   "display_name": "Python 3",
   "language": "python",
   "name": "python3"
  },
  "language_info": {
   "codemirror_mode": {
    "name": "ipython",
    "version": 3
   },
   "file_extension": ".py",
   "mimetype": "text/x-python",
   "name": "python",
   "nbconvert_exporter": "python",
   "pygments_lexer": "ipython3",
   "version": "3.6.0"
  }
 },
 "nbformat": 4,
 "nbformat_minor": 2
}
