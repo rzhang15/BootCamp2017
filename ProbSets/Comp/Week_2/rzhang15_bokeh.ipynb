{
 "cells": [
  {
   "cell_type": "markdown",
   "metadata": {},
   "source": [
    "Skip Bokeh Prob 5"
   ]
  },
  {
   "cell_type": "code",
   "execution_count": 13,
   "metadata": {
    "collapsed": false
   },
   "outputs": [],
   "source": [
    "from pyproj import Proj, transform\n",
    "import pickle\n",
    "import pandas as pd\n",
    "import numpy as np\n",
    "import matplotlib.pyplot as plt\n",
    "from bokeh.plotting import figure, output_file, show, Figure\n",
    "from bokeh.models import ColumnDataSource, WMTSTileSource"
   ]
  },
  {
   "cell_type": "code",
   "execution_count": 14,
   "metadata": {
    "collapsed": false
   },
   "outputs": [],
   "source": [
    "accidents = pd.read_pickle(\"/Users/rubyzhang/Desktop/UChicago/OSML/BootCamp2017/Computation/Wk2_VisPandas/fars_data/final_accidents2.pickle\")\n",
    "drivers = pd.read_pickle(\"/Users/rubyzhang/Desktop/UChicago/OSML/BootCamp2017/Computation/Wk2_VisPandas/fars_data/final_drivers.pickle\")\n",
    "\n",
    "from_proj = Proj(init=\"epsg:4326\")\n",
    "to_proj = Proj(init=\"epsg:3857\")\n",
    "\n",
    "def convert(longitudes, latitudes):\n",
    "    \"\"\"Converts latlon coordinates to meters.\n",
    "    Inputs:\n",
    "    longitudes (array-like) : array of longitudes\n",
    "    latitudes (array-like) : array of latitudes\n",
    "    Example:\n",
    "    x,y = convert(accidents.LONGITUD, accidents.LATITUDE)\n",
    "    \"\"\"\n",
    "    x_vals = []\n",
    "    y_vals = []\n",
    "    for lon, lat in zip(longitudes, latitudes):\n",
    "        x, y = transform(from_proj, to_proj, lon, lat)\n",
    "        x_vals.append(x)\n",
    "        y_vals.append(y)\n",
    "    return x_vals, y_vals\n",
    "accidents[\"x\"], accidents[\"y\"] = convert(accidents.LONGITUD, accidents.LATITUDE)"
   ]
  },
  {
   "cell_type": "code",
   "execution_count": 15,
   "metadata": {
    "collapsed": false
   },
   "outputs": [
    {
     "data": {
      "text/html": [
       "<div style=\"display: table;\"><div style=\"display: table-row;\"><div style=\"display: table-cell;\"><b title=\"bokeh.models.renderers.TileRenderer\">TileRenderer</b>(</div><div style=\"display: table-cell;\">id&nbsp;=&nbsp;'b5f51c53-4ef4-4998-b338-2a9871c7631b', <span id=\"dc8b77be-ca61-40fd-bc99-ef59dbe9aa20\" style=\"cursor: pointer;\">&hellip;)</span></div></div><div class=\"6cd0df35-0949-4b0c-860f-bc60c02d32ba\" style=\"display: none;\"><div style=\"display: table-cell;\"></div><div style=\"display: table-cell;\">alpha&nbsp;=&nbsp;1.0,</div></div><div class=\"6cd0df35-0949-4b0c-860f-bc60c02d32ba\" style=\"display: none;\"><div style=\"display: table-cell;\"></div><div style=\"display: table-cell;\">js_callbacks&nbsp;=&nbsp;{},</div></div><div class=\"6cd0df35-0949-4b0c-860f-bc60c02d32ba\" style=\"display: none;\"><div style=\"display: table-cell;\"></div><div style=\"display: table-cell;\">level&nbsp;=&nbsp;'underlay',</div></div><div class=\"6cd0df35-0949-4b0c-860f-bc60c02d32ba\" style=\"display: none;\"><div style=\"display: table-cell;\"></div><div style=\"display: table-cell;\">name&nbsp;=&nbsp;None,</div></div><div class=\"6cd0df35-0949-4b0c-860f-bc60c02d32ba\" style=\"display: none;\"><div style=\"display: table-cell;\"></div><div style=\"display: table-cell;\">render_parents&nbsp;=&nbsp;True,</div></div><div class=\"6cd0df35-0949-4b0c-860f-bc60c02d32ba\" style=\"display: none;\"><div style=\"display: table-cell;\"></div><div style=\"display: table-cell;\">tags&nbsp;=&nbsp;[],</div></div><div class=\"6cd0df35-0949-4b0c-860f-bc60c02d32ba\" style=\"display: none;\"><div style=\"display: table-cell;\"></div><div style=\"display: table-cell;\">tile_source&nbsp;=&nbsp;WMTSTileSource(id='d4d61235-d051-4563-8cf4-3c6f23f7df09', ...),</div></div><div class=\"6cd0df35-0949-4b0c-860f-bc60c02d32ba\" style=\"display: none;\"><div style=\"display: table-cell;\"></div><div style=\"display: table-cell;\">visible&nbsp;=&nbsp;True,</div></div><div class=\"6cd0df35-0949-4b0c-860f-bc60c02d32ba\" style=\"display: none;\"><div style=\"display: table-cell;\"></div><div style=\"display: table-cell;\">x_range_name&nbsp;=&nbsp;'default',</div></div><div class=\"6cd0df35-0949-4b0c-860f-bc60c02d32ba\" style=\"display: none;\"><div style=\"display: table-cell;\"></div><div style=\"display: table-cell;\">y_range_name&nbsp;=&nbsp;'default')</div></div></div>\n",
       "<script>\n",
       "(function() {\n",
       "  var expanded = false;\n",
       "  var ellipsis = document.getElementById(\"dc8b77be-ca61-40fd-bc99-ef59dbe9aa20\");\n",
       "  ellipsis.addEventListener(\"click\", function() {\n",
       "    var rows = document.getElementsByClassName(\"6cd0df35-0949-4b0c-860f-bc60c02d32ba\");\n",
       "    for (var i = 0; i < rows.length; i++) {\n",
       "      var el = rows[i];\n",
       "      el.style.display = expanded ? \"none\" : \"table-row\";\n",
       "    }\n",
       "    ellipsis.innerHTML = expanded ? \"&hellip;)\" : \"&lsaquo;&lsaquo;&lsaquo;\";\n",
       "    expanded = !expanded;\n",
       "  });\n",
       "})();\n",
       "</script>\n"
      ],
      "text/plain": [
       "TileRenderer(id='b5f51c53-4ef4-4998-b338-2a9871c7631b', ...)"
      ]
     },
     "execution_count": 15,
     "metadata": {},
     "output_type": "execute_result"
    }
   ],
   "source": [
    "fig = Figure(plot_width=1100, plot_height=650,\n",
    "    x_range=(-13000000, -7000000), y_range=(2750000, 6250000),\n",
    "    tools=[\"wheel_zoom\", \"pan\"], active_scroll=\"wheel_zoom\", webgl=True)\n",
    "fig.axis.visible = False\n",
    "\n",
    "STAMEN_TONER_BACKGROUND = WMTSTileSource(\n",
    "    url='http://tile.stamen.com/toner-background/{Z}/{X}/{Y}.png',\n",
    "    attribution=(\n",
    "    'Map tiles by <a href=\"http://stamen.com\">Stamen Design</a>, '\n",
    "    'under <a href=\"http://creativecommons.org/licenses/by/3.0\">CC BY3.0</a>.'\n",
    "    'Data by <a href=\"http://openstreetmap.org\">OpenStreetMap</a>, '\n",
    "    'under <a href=\"http://www.openstreetmap.org/copyright\">ODbL</a>'\n",
    "    )\n",
    ")\n",
    "fig.add_tile(STAMEN_TONER_BACKGROUND)"
   ]
  },
  {
   "cell_type": "code",
   "execution_count": 16,
   "metadata": {
    "collapsed": true
   },
   "outputs": [],
   "source": [
    "# SKIP PROBLEM 5,8-10 (DRAWING THE BORDER FOR ALL THE STATES)"
   ]
  },
  {
   "cell_type": "code",
   "execution_count": 17,
   "metadata": {
    "collapsed": false
   },
   "outputs": [],
   "source": [
    "sp_data = accidents[accidents['SP']==1]\n",
    "dr_data = accidents[accidents['DRUNK_DR']==1]\n",
    "other_data = accidents[(accidents['DRUNK_DR']!=1)&(accidents['SP']!=1)]\n",
    "\n",
    "sp_source = ColumnDataSource(sp_data)\n",
    "dr_source = ColumnDataSource(dr_data)\n",
    "other_source = ColumnDataSource(other_data)\n",
    "\n",
    "sp = fig.circle(x='x',y='y',source=sp_source,size=0.5,fill_color=\"red\",line_width=0)\n",
    "dr = fig.circle(x='x',y='y',source=dr_source,size=0.5,fill_color=\"limegreen\",line_width=0)\n",
    "other = fig.circle(x='x',y='y',source=other_source,size=0.5,fill_color=\"blue\",line_width=0)\n",
    "\n",
    "show(fig)"
   ]
  }
 ],
 "metadata": {
  "kernelspec": {
   "display_name": "Python 3",
   "language": "python",
   "name": "python3"
  },
  "language_info": {
   "codemirror_mode": {
    "name": "ipython",
    "version": 3
   },
   "file_extension": ".py",
   "mimetype": "text/x-python",
   "name": "python",
   "nbconvert_exporter": "python",
   "pygments_lexer": "ipython3",
   "version": "3.6.0"
  }
 },
 "nbformat": 4,
 "nbformat_minor": 2
}
