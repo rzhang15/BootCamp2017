{
 "cells": [
  {
   "cell_type": "code",
   "execution_count": 1,
   "metadata": {
    "collapsed": true
   },
   "outputs": [],
   "source": [
    "import numpy as np\n",
    "import scipy.stats as st\n",
    "import scipy.optimize as opt"
   ]
  },
  {
   "cell_type": "markdown",
   "metadata": {},
   "source": [
    "# 14.1"
   ]
  },
  {
   "cell_type": "code",
   "execution_count": 194,
   "metadata": {
    "collapsed": false
   },
   "outputs": [],
   "source": [
    "def newton_cotes(f, a, b, N, method):\n",
    "    interval = (b-a)/N\n",
    "    func = np.vectorize(f)\n",
    "    x_1 = np.sum(func(np.linspace(a+(0.5*interval),b-(0.5*interval),N)))\n",
    "    x_2 = np.sum(func(np.linspace(a+interval,b-interval,N-1)))\n",
    "    if method=='midpoint':\n",
    "        integral = interval*x_1\n",
    "    elif method=='trapezoid':\n",
    "        integral = 0.5*interval*(f(a)+f(b)+2*x_2)\n",
    "    elif method=='Simpsons':\n",
    "        integral = (1/6)*interval*(f(a)+f(b)+4*x_1+2*x_2)\n",
    "    else:\n",
    "        raise ValueError\n",
    "    return integral"
   ]
  },
  {
   "cell_type": "code",
   "execution_count": 195,
   "metadata": {
    "collapsed": false
   },
   "outputs": [
    {
     "name": "stdout",
     "output_type": "stream",
     "text": [
      "Midpoint Difference: -0.0547465173313\n",
      "Trapezoid Difference: 0.109493162669\n",
      "Simpsons Difference: 4.26689439337e-08\n"
     ]
    }
   ],
   "source": [
    "g = lambda x: 0.1*x**4-1.5*x**3+0.53*x**2+2*x+1\n",
    "N = 500\n",
    "A = 4373+(1/3)\n",
    "print(\"Midpoint Difference:\", newton_cotes(g, -10, 10, N, 'midpoint')-A)\n",
    "print(\"Trapezoid Difference:\", newton_cotes(g, -10, 10, N, 'trapezoid')-A)\n",
    "print(\"Simpsons Difference:\", newton_cotes(g, -10, 10, N, 'Simpsons')-A)"
   ]
  },
  {
   "cell_type": "markdown",
   "metadata": {},
   "source": [
    "# 14.2"
   ]
  },
  {
   "cell_type": "code",
   "execution_count": 196,
   "metadata": {
    "collapsed": true
   },
   "outputs": [],
   "source": [
    "def newton_norm(mu, sigma, N, k):\n",
    "    a = mu-sigma*k\n",
    "    b = mu+sigma*k\n",
    "    z = np.linspace(a,b,N)\n",
    "    w = np.empty(N)\n",
    "    w[0] = st.norm.cdf(0.5*(z[0]+z[1]),loc=mu,scale=sigma)\n",
    "    w[N-1] = 1-st.norm.cdf(0.5*(z[N-2]+z[N-1]),loc=mu,scale=sigma)\n",
    "    for i in range(1,N-1):\n",
    "        zmin = (z[i-1]+z[i])*0.5\n",
    "        zmax = (z[i+1]+z[i])*0.5\n",
    "        f = lambda x: st.norm.pdf(z[i],loc=mu,scale=sigma)\n",
    "        w[i] = newton_cotes(f, zmin, zmax, N, 'Simpsons')\n",
    "    return z,w"
   ]
  },
  {
   "cell_type": "code",
   "execution_count": 197,
   "metadata": {
    "collapsed": false
   },
   "outputs": [
    {
     "name": "stdout",
     "output_type": "stream",
     "text": [
      "For N=1, mu=0, and sigma=1:\n",
      "Nodes: [-2.  -1.6 -1.2 -0.8 -0.4  0.   0.4  0.8  1.2  1.6  2. ]\n",
      "Weights: [ 0.03593032  0.04436833  0.07767442  0.11587662  0.14730806  0.15957691\n",
      "  0.14730806  0.11587662  0.07767442  0.04436833  0.03593032]\n"
     ]
    }
   ],
   "source": [
    "Z, w = newton_norm(0,1,11,2)\n",
    "print('For N=1, mu=0, and sigma=1:')\n",
    "print('Nodes:', Z)\n",
    "print('Weights:', w)"
   ]
  },
  {
   "cell_type": "markdown",
   "metadata": {},
   "source": [
    "# 14.3"
   ]
  },
  {
   "cell_type": "code",
   "execution_count": 198,
   "metadata": {
    "collapsed": false
   },
   "outputs": [
    {
     "name": "stdout",
     "output_type": "stream",
     "text": [
      "For N=1, mu=0, and sigma=1, the lognormal distribution is:\n",
      "Nodes: [ 0.13533528  0.20189652  0.30119421  0.44932896  0.67032005  1.          1.4918247\n",
      "  2.22554093  3.32011692  4.95303242  7.3890561 ]\n",
      "Weights: [ 0.03593032  0.04436833  0.07767442  0.11587662  0.14730806  0.15957691\n",
      "  0.14730806  0.11587662  0.07767442  0.04436833  0.03593032]\n"
     ]
    }
   ],
   "source": [
    "def lognormal(mu, sigma, N, k):\n",
    "    Z, w = newton_norm(mu, sigma, N, k)\n",
    "    A = np.exp(Z)\n",
    "    return A,w\n",
    "A, w = lognormal(0,1,11,2)\n",
    "print('For N=1, mu=0, and sigma=1, the lognormal distribution is:')\n",
    "print('Nodes:', A)\n",
    "print('Weights:', w)"
   ]
  },
  {
   "cell_type": "markdown",
   "metadata": {},
   "source": [
    "# 14.4"
   ]
  },
  {
   "cell_type": "code",
   "execution_count": 199,
   "metadata": {
    "collapsed": false
   },
   "outputs": [
    {
     "name": "stdout",
     "output_type": "stream",
     "text": [
      "Actual Expected Value: 50011.0870085\n",
      "Approximate Expected Value: 49858.2898986\n"
     ]
    }
   ],
   "source": [
    "def expectation(nodes, weights):\n",
    "    return np.sum(nodes@weights)\n",
    "mu = 10.5\n",
    "sigma = 0.8\n",
    "N = 100\n",
    "k = 3\n",
    "N, W= lognormal(mu, sigma, N, k)\n",
    "income_expect = expectation(N, W)\n",
    "actual_expect = np.exp(mu+(sigma**2)/2)\n",
    "print('Actual Expected Value:', actual_expect)\n",
    "print('Approximate Expected Value:', income_expect)"
   ]
  },
  {
   "cell_type": "markdown",
   "metadata": {},
   "source": [
    "# 14.5"
   ]
  },
  {
   "cell_type": "code",
   "execution_count": 84,
   "metadata": {
    "collapsed": false
   },
   "outputs": [
    {
     "name": "stdout",
     "output_type": "stream",
     "text": [
      "Gaussian Quadrature Difference: -9.09494701773e-13\n"
     ]
    }
   ],
   "source": [
    "a = -10\n",
    "b = 10\n",
    "\n",
    "def v_func(x):\n",
    "    vec = np.empty(6)\n",
    "    for i in range(6):\n",
    "        j = i+1\n",
    "        rhs = 0\n",
    "        for k in range(3):\n",
    "            rhs += x[k]*(x[k+3]**i)\n",
    "        vec[i] = (b**j-a**j)/j - rhs\n",
    "    return vec\n",
    "\n",
    "x_0 = np.ones(6)\n",
    "x = opt.root(v_func,x_0,tol=1e-14).x\n",
    "integral = 0\n",
    "for k in range(3):\n",
    "    integral += x[k]*(g(x[k+3]))\n",
    "actual = 4373+(1/3) \n",
    "print('Gaussian Quadrature Difference:', integral-actual)"
   ]
  },
  {
   "cell_type": "markdown",
   "metadata": {},
   "source": [
    "# 14.6"
   ]
  },
  {
   "cell_type": "code",
   "execution_count": 82,
   "metadata": {
    "collapsed": false
   },
   "outputs": [
    {
     "name": "stdout",
     "output_type": "stream",
     "text": [
      "Scipy Quadrature Difference: 9.094947017729282e-13\n"
     ]
    }
   ],
   "source": [
    "from scipy.integrate import quad as quad\n",
    "scipy_estimate = quad(g,a,b)[0]\n",
    "print('Scipy Quadrature Difference:', scipy_estimate-actual)"
   ]
  },
  {
   "cell_type": "markdown",
   "metadata": {},
   "source": [
    "# 14.7"
   ]
  },
  {
   "cell_type": "code",
   "execution_count": 103,
   "metadata": {
    "collapsed": false
   },
   "outputs": [
    {
     "name": "stdout",
     "output_type": "stream",
     "text": [
      "Approx of pi using monte carlo: 3.1424108\n"
     ]
    }
   ],
   "source": [
    "g = lambda x: 1 if x[0]**2+x[1]**2 <= 1 else 0\n",
    "omega = np.array([[-1,1],[-1,1]])\n",
    "def monte_carlo_int(g,omega,N):\n",
    "    m,n = omega.shape\n",
    "    draws = np.empty((N,n))\n",
    "    summation = 0\n",
    "    for i in range(N):\n",
    "        draws[i,:] = np.random.uniform(omega[0,0],omega[0,1],n)\n",
    "        summation+=g(draws[i,:])\n",
    "    return (4/N)*summation\n",
    "N = int(1e7)\n",
    "print('Approx of pi using monte carlo:', monte_carlo_int(g,omega,N))"
   ]
  },
  {
   "cell_type": "markdown",
   "metadata": {},
   "source": [
    "As seen, the Monte Carlo method requires an extremely large number of draws.\n",
    "\n",
    "# 14.8"
   ]
  },
  {
   "cell_type": "code",
   "execution_count": 2,
   "metadata": {
    "collapsed": false
   },
   "outputs": [],
   "source": [
    "from sympy import sieve\n",
    "\n",
    "# Generate nth rational number using binary representation\n",
    "def leaf2frac(leaf,m=0,n=1):\n",
    "    for bit in leaf:\n",
    "        if bit=='0': n += m\n",
    "        if bit=='1': m += n\n",
    "    return m/n\n",
    "    \n",
    "def equidistribute(n,d,sequence):\n",
    "    if sequence=='Weyl':\n",
    "        sieve.extend_to_no(d)\n",
    "        primes = np.array(sieve._list)[:d]\n",
    "        element = np.modf(n*(primes**0.5))[0]\n",
    "    elif sequence=='Haber':\n",
    "        sieve.extend_to_no(d)\n",
    "        primes = np.array(sieve._list)[:d]\n",
    "        s = 0.5*n*(n+1)\n",
    "        element = np.modf(s*(primes**0.5))[0]\n",
    "    elif sequence=='Niederreiter':\n",
    "        powers = np.linspace(1,d,d)/np.linspace(2,d+1,d)\n",
    "        element = np.modf(n*((2*np.ones(d))**powers))[0]\n",
    "    elif sequence=='Baker':\n",
    "        element = np.empty(d)\n",
    "        for i in range(d):\n",
    "            leaf = format(i+1,'b')\n",
    "            element[i] = n*np.exp(leaf2frac(leaf))\n",
    "        element = np.modf(element)[0]\n",
    "    else:\n",
    "        raise ValueError\n",
    "    return element"
   ]
  },
  {
   "cell_type": "markdown",
   "metadata": {},
   "source": [
    "# 14.9"
   ]
  },
  {
   "cell_type": "code",
   "execution_count": 3,
   "metadata": {
    "collapsed": false
   },
   "outputs": [
    {
     "name": "stdout",
     "output_type": "stream",
     "text": [
      "Approx of pi using Weyl monte carlo: 3.141364\n",
      "Approx of pi using Haber monte carlo: 3.1374359999999997\n",
      "Approx of pi using Niederreiter monte carlo: 3.141768\n",
      "Approx of pi using Baker monte carlo: 3.1415919999999997\n"
     ]
    }
   ],
   "source": [
    "g = lambda x: 1 if x[0]**2+x[1]**2 <= 1 else 0\n",
    "omega = np.array([[-1,1],[-1,1]])\n",
    "def quasi_monte_carlo(g,omega,N,method):\n",
    "    m,d = omega.shape\n",
    "    draws = np.empty((N,d))\n",
    "    summation = 0\n",
    "    low = omega[0,0]\n",
    "    high = omega[0,1]\n",
    "    interval = high-low\n",
    "    for i in range(N):\n",
    "        draws[i,:]=low+interval*equidistribute(i,d,method)\n",
    "        summation+=g(draws[i,:])\n",
    "    return (4/N)*summation\n",
    "\n",
    "N = int(1e6)\n",
    "print('Approx of pi using Weyl monte carlo:', quasi_monte_carlo(g,omega,N,'Weyl'))\n",
    "print('Approx of pi using Haber monte carlo:', quasi_monte_carlo(g,omega,N,'Haber'))\n",
    "print('Approx of pi using Niederreiter monte carlo:', quasi_monte_carlo(g,omega,N,'Niederreiter'))\n",
    "print('Approx of pi using Baker monte carlo:', quasi_monte_carlo(g,omega,N,'Baker'))\n"
   ]
  },
  {
   "cell_type": "markdown",
   "metadata": {},
   "source": [
    "As seen, the rate of convergence for the quasi-Monte Carlo integration seems to converge faster towards pi than for pseudorandom Monte Carlo simulation. That being said, it appears that Baker has the most accurate approximation."
   ]
  },
  {
   "cell_type": "code",
   "execution_count": null,
   "metadata": {
    "collapsed": true
   },
   "outputs": [],
   "source": []
  }
 ],
 "metadata": {
  "kernelspec": {
   "display_name": "Python 3",
   "language": "python",
   "name": "python3"
  },
  "language_info": {
   "codemirror_mode": {
    "name": "ipython",
    "version": 3
   },
   "file_extension": ".py",
   "mimetype": "text/x-python",
   "name": "python",
   "nbconvert_exporter": "python",
   "pygments_lexer": "ipython3",
   "version": "3.6.0"
  }
 },
 "nbformat": 4,
 "nbformat_minor": 2
}
