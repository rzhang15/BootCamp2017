{
 "cells": [
  {
   "cell_type": "code",
   "execution_count": 137,
   "metadata": {
    "collapsed": false
   },
   "outputs": [],
   "source": [
    "import numpy as np\n",
    "import scipy.optimize as opt\n",
    "import sympy as sy\n",
    "from matplotlib import pyplot as plt\n",
    "import math"
   ]
  },
  {
   "cell_type": "markdown",
   "metadata": {},
   "source": [
    "# Problem 1"
   ]
  },
  {
   "cell_type": "code",
   "execution_count": 105,
   "metadata": {
    "collapsed": true
   },
   "outputs": [],
   "source": [
    "def golden_section(f,a,b,niter):\n",
    "    rho = 0.5*(3-np.sqrt(5))\n",
    "    iteration = 0\n",
    "    while iteration < niter:\n",
    "        a1 = a+rho*(b-a)\n",
    "        b1 = a+(1-rho)*(b-a)\n",
    "        if f(a1)>=f(b1):\n",
    "            a=a1\n",
    "        else:\n",
    "            b=b1\n",
    "        iteration+=1\n",
    "    return (a+b)/2"
   ]
  },
  {
   "cell_type": "code",
   "execution_count": 106,
   "metadata": {
    "collapsed": false
   },
   "outputs": [
    {
     "name": "stdout",
     "output_type": "stream",
     "text": [
      "Golden Section Min: 1.38557821677\n",
      "Actual Min: 1.38629414311\n",
      "Takes 13 steps to hit within 0.001 of true value.\n"
     ]
    }
   ],
   "source": [
    "f = lambda x: sy.exp(x)-4*x\n",
    "a = 0\n",
    "b = 3\n",
    "niter = 13\n",
    "gold = golden_section(f,a,b,niter)\n",
    "actual = opt.minimize(f,1).x[0]\n",
    "print('Golden Section Min:', gold)\n",
    "print('Actual Min:', actual)\n",
    "print('Takes', niter, 'steps to hit within 0.001 of true value.')"
   ]
  },
  {
   "cell_type": "markdown",
   "metadata": {},
   "source": [
    "# Problem 2"
   ]
  },
  {
   "cell_type": "code",
   "execution_count": 107,
   "metadata": {
    "collapsed": true
   },
   "outputs": [],
   "source": [
    "def bisection(f,a,b,niter):\n",
    "    iteration = 0\n",
    "    while iteration < niter:\n",
    "        m = (a+b)/2\n",
    "        der = sy.mpmath.diff(f,m)\n",
    "        if der>0:\n",
    "            b=m\n",
    "        elif der<0:\n",
    "            a=m\n",
    "        else:\n",
    "            return m\n",
    "        iteration+=1\n",
    "    return (a+b)/2"
   ]
  },
  {
   "cell_type": "code",
   "execution_count": 108,
   "metadata": {
    "collapsed": false
   },
   "outputs": [
    {
     "name": "stdout",
     "output_type": "stream",
     "text": [
      "Bisection Min: 1.3857421875\n",
      "Actual Min: 1.38629414311\n",
      "Takes 9 steps to hit within 0.001 of true value.\n"
     ]
    }
   ],
   "source": [
    "niter2 = 9\n",
    "bisect = bisection(f,a,b,niter2)\n",
    "print('Bisection Min:', bisect)\n",
    "print('Actual Min:', actual)\n",
    "print('Takes', niter2, 'steps to hit within 0.001 of true value.')"
   ]
  },
  {
   "cell_type": "code",
   "execution_count": 109,
   "metadata": {
    "collapsed": false
   },
   "outputs": [
    {
     "name": "stdout",
     "output_type": "stream",
     "text": [
      "1000 loops, best of 3: 1.07 ms per loop\n",
      "1000 loops, best of 3: 1.16 ms per loop\n"
     ]
    }
   ],
   "source": [
    "%timeit golden_section(f,a,b,niter)\n",
    "%timeit bisection(f,a,b,niter2)"
   ]
  },
  {
   "cell_type": "markdown",
   "metadata": {},
   "source": [
    "Therefore, bisection takes less step but takes more time computationally (due to finding the derivative)"
   ]
  },
  {
   "cell_type": "markdown",
   "metadata": {},
   "source": [
    "# Problem 3"
   ]
  },
  {
   "cell_type": "code",
   "execution_count": 125,
   "metadata": {
    "collapsed": true
   },
   "outputs": [],
   "source": [
    "def newton_method(x0,f,f1,f2):\n",
    "    err=1e10\n",
    "    reach = False\n",
    "    epsilon = 1e-10\n",
    "    iteration=0\n",
    "    while not reach and iteration<1e5:\n",
    "        x1 = x0-(f1(x0)/f2(x0))\n",
    "        err = abs(x1-x0)\n",
    "        if err < epsilon*abs(x0):\n",
    "            reach=True\n",
    "        x0 = x1\n",
    "        iteration+=1\n",
    "    return x0"
   ]
  },
  {
   "cell_type": "code",
   "execution_count": 126,
   "metadata": {
    "collapsed": false
   },
   "outputs": [
    {
     "name": "stdout",
     "output_type": "stream",
     "text": [
      "Newton method with x0= 0 : -1.4473142236328096\n",
      "Newton method with x0= 1 : 0.8712810830760778\n",
      "Newton method with x0= 4 : 6.067548627507285\n"
     ]
    }
   ],
   "source": [
    "f = lambda x: x**2+math.sin(5*x)\n",
    "f1 = lambda x: 2*x+5*math.cos(5*x)\n",
    "f2 = lambda x: 2-25*math.sin(5*x)\n",
    "x0 = 0\n",
    "print('Newton method with x0=', x0, \":\", newton_method(x0,f,f1,f2))\n",
    "x0=1\n",
    "print('Newton method with x0=', x0, \":\", newton_method(x0,f,f1,f2))\n",
    "x0=4\n",
    "print('Newton method with x0=', x0, \":\", newton_method(x0,f,f1,f2))"
   ]
  },
  {
   "cell_type": "markdown",
   "metadata": {},
   "source": [
    "# Problem 4"
   ]
  },
  {
   "cell_type": "code",
   "execution_count": 130,
   "metadata": {
    "collapsed": true
   },
   "outputs": [],
   "source": [
    "def secant_method(x0,x1,f,f1):\n",
    "    err=1e10\n",
    "    reach = False\n",
    "    epsilon = 1e-10\n",
    "    iteration=0\n",
    "    while not reach and iteration<1e5:\n",
    "        f2 = (f1(x1)-f1(x0))/(x1-x0)\n",
    "        x2 = x1-(f1(x1))/f2\n",
    "        err = abs(x2-x1)\n",
    "        if err < epsilon*abs(x1):\n",
    "            reach=True\n",
    "        x0 = x1\n",
    "        x1 = x2\n",
    "        iteration+=1\n",
    "    return x2"
   ]
  },
  {
   "cell_type": "code",
   "execution_count": 133,
   "metadata": {
    "collapsed": false
   },
   "outputs": [
    {
     "name": "stdout",
     "output_type": "stream",
     "text": [
      "Secant method with initial points [ 0 -1 ]: -0.163677221182\n",
      "Secant method with initial points [ 3 2 ]: -4.35450730766\n"
     ]
    }
   ],
   "source": [
    "f = lambda x: x**2+np.sin(x)+np.sin(10*x)\n",
    "f1 = lambda x: 2*x+np.cos(x)+10*np.cos(10*x)\n",
    "x0=0\n",
    "x1=-1\n",
    "print('Secant method with initial points [', x0, x1,']:', secant_method(x0,x1,f,f1))\n",
    "x0=3\n",
    "x1=2\n",
    "print('Secant method with initial points [', x0, x1,']:', secant_method(x0,x1,f,f1))"
   ]
  },
  {
   "cell_type": "code",
   "execution_count": 141,
   "metadata": {
    "collapsed": false
   },
   "outputs": [
    {
     "data": {
      "image/png": "[encoded data removed]",
      "text/plain": [
       "<matplotlib.figure.Figure at 0x10bac2780>"
      ]
     },
     "metadata": {},
     "output_type": "display_data"
    },
    {
     "name": "stdout",
     "output_type": "stream",
     "text": [
      "As seen, this function is highly sensitive to the starting point\n"
     ]
    }
   ],
   "source": [
    "x = np.linspace(-3,3,100)\n",
    "y = np.vectorize(f)(x)\n",
    "plt.plot(x,y)\n",
    "plt.grid()\n",
    "plt.show()\n",
    "print('As seen, this function is highly sensitive to the starting point')"
   ]
  },
  {
   "cell_type": "markdown",
   "metadata": {},
   "source": [
    "# Problem 5"
   ]
  },
  {
   "cell_type": "code",
   "execution_count": 155,
   "metadata": {
    "collapsed": true
   },
   "outputs": [],
   "source": [
    "def armijo(f,Df,x0,p):\n",
    "    alpha = 1\n",
    "    rho = 0.5\n",
    "    c = 0.5\n",
    "    val = Df(x0).T@p\n",
    "    calc = f(x0+alpha*p)\n",
    "    calc2 = f(x0)+c*alpha*val\n",
    "    while calc>calc2:\n",
    "        alpha = rho*alpha\n",
    "        calc = f(x0+alpha*p)\n",
    "        calc2 = f(x0)+c*alpha*val\n",
    "    return alpha"
   ]
  },
  {
   "cell_type": "code",
   "execution_count": 157,
   "metadata": {
    "collapsed": false
   },
   "outputs": [
    {
     "name": "stdout",
     "output_type": "stream",
     "text": [
      "Actual step size: 0.125649913345\n",
      "Implemented step size: 0.125\n"
     ]
    }
   ],
   "source": [
    "from scipy.optimize import line_search\n",
    "def objective(x):\n",
    "    return x[0]**2 + 4*x[1]**2\n",
    "def grad(x):\n",
    "    return np.array([2*x[0], 8*x[1]])\n",
    "\n",
    "x = np.array([1., 3.]) # current point\n",
    "p = -grad(x) # current search direction\n",
    "a = line_search(objective, grad, x, p)[0]\n",
    "print('Actual step size:', a)\n",
    "\n",
    "alpha = armijo(objective,grad,x,p)\n",
    "print('Implemented step size:', alpha)"
   ]
  },
  {
   "cell_type": "code",
   "execution_count": null,
   "metadata": {
    "collapsed": true
   },
   "outputs": [],
   "source": []
  }
 ],
 "metadata": {
  "kernelspec": {
   "display_name": "Python 3",
   "language": "python",
   "name": "python3"
  },
  "language_info": {
   "codemirror_mode": {
    "name": "ipython",
    "version": 3
   },
   "file_extension": ".py",
   "mimetype": "text/x-python",
   "name": "python",
   "nbconvert_exporter": "python",
   "pygments_lexer": "ipython3",
   "version": "3.6.0"
  }
 },
 "nbformat": 4,
 "nbformat_minor": 2
}
