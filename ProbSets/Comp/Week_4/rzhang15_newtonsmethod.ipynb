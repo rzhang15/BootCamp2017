{
 "cells": [
  {
   "cell_type": "code",
   "execution_count": 1,
   "metadata": {
    "collapsed": true
   },
   "outputs": [],
   "source": [
    "import numpy as np\n",
    "from scipy import optimize as opt\n",
    "from matplotlib import pyplot as plt"
   ]
  },
  {
   "cell_type": "markdown",
   "metadata": {},
   "source": [
    "# Problem 1, 3, 5"
   ]
  },
  {
   "cell_type": "code",
   "execution_count": 150,
   "metadata": {
    "collapsed": true
   },
   "outputs": [],
   "source": [
    "def newtons_method(f,f1,x0,tol=1e-5,maxiters=15,alpha=1):\n",
    "    if np.isscalar(x0):\n",
    "        for k in range(maxiters):\n",
    "            x1 = x0-alpha*(f(x0)/f1(x0))\n",
    "            if abs(x1-x0)<tol:\n",
    "                converge=True\n",
    "                break\n",
    "            converge=False\n",
    "            x0=x1\n",
    "    else:\n",
    "         for k in range(maxiters):\n",
    "            m = 1e-10\n",
    "            # Problem of Singular Matrix\n",
    "            Dmat = f1(x0) + np.eye(f1(x0).shape[1])*m\n",
    "            y = np.linalg.solve(Dmat,f(x0))\n",
    "            x1 = x0-alpha*y\n",
    "            if np.linalg.norm(x1-x0)<tol:\n",
    "                converge=True\n",
    "                break\n",
    "            converge=False\n",
    "            x0=x1\n",
    "    return x1,converge,k+1"
   ]
  },
  {
   "cell_type": "code",
   "execution_count": 75,
   "metadata": {
    "collapsed": false
   },
   "outputs": [
    {
     "name": "stdout",
     "output_type": "stream",
     "text": [
      "Newton's Method Root: (0.6931471805599454, True, 4)\n",
      "Actual Root: 0.69314718056\n",
      "Newton's Method Root: (1.3160740129524924, True, 11)\n",
      "Actual Root: 1.316074012952492\n"
     ]
    }
   ],
   "source": [
    "f=lambda x: np.exp(x)-2\n",
    "f1 = lambda x:np.exp(x)\n",
    "x0 = 0.5\n",
    "print('Newton\\'s Method Root:', newtons_method(f,f1,x0))\n",
    "print('Actual Root:', opt.newton(f,x0))\n",
    "\n",
    "f=lambda x: x**4-3\n",
    "f1 = lambda x:4*x**3\n",
    "x0 = 0.5\n",
    "print('Newton\\'s Method Root:', newtons_method(f,f1,x0))\n",
    "print('Actual Root:', opt.newton(f,x0))"
   ]
  },
  {
   "cell_type": "markdown",
   "metadata": {},
   "source": [
    "# Problem 2"
   ]
  },
  {
   "cell_type": "code",
   "execution_count": 76,
   "metadata": {
    "collapsed": true
   },
   "outputs": [],
   "source": [
    "def find_r(N1,N2,P1,P2):\n",
    "    r0 = 0.1\n",
    "    f = lambda r: P1*((1+r)**N1 - 1)-P2*(1-(1+r)**(-N2))\n",
    "    f1 = lambda r: P1*N1*((1+r)**(N1-1)) - P2*N2*((1+r)**(-N2-1))\n",
    "    r = newtons_method(f,f1,r0)\n",
    "    return r"
   ]
  },
  {
   "cell_type": "code",
   "execution_count": 77,
   "metadata": {
    "collapsed": false
   },
   "outputs": [
    {
     "name": "stdout",
     "output_type": "stream",
     "text": [
      "R: 0.03877843223027751\n"
     ]
    }
   ],
   "source": [
    "N1 = 30\n",
    "N2 = 20\n",
    "P1 = 2000\n",
    "P2 = 8000\n",
    "print(\"R:\", find_r(N1,N2,P1,P2)[0])"
   ]
  },
  {
   "cell_type": "markdown",
   "metadata": {},
   "source": [
    "# Problem 3"
   ]
  },
  {
   "cell_type": "code",
   "execution_count": 78,
   "metadata": {
    "collapsed": false
   },
   "outputs": [
    {
     "name": "stdout",
     "output_type": "stream",
     "text": [
      "Newton's Method Root: (-5368709.1199999908, False, 15)\n",
      "Newton's Method Root: (9.9999999999982102e-09, True, 3)\n"
     ]
    }
   ],
   "source": [
    "f = lambda x: np.sign(x) * np.power(np.abs(x), 1./3)\n",
    "f1 = lambda x: np.sign(x) * (1/3)*np.power(np.abs(x),-2/3)\n",
    "alpha = 1\n",
    "x0 = 0.01\n",
    "print('Newton\\'s Method Root:', newtons_method(f,f1,x0,alpha=alpha))\n",
    "\n",
    "alpha = 0.33\n",
    "x0 = 0.01\n",
    "print('Newton\\'s Method Root:', newtons_method(f,f1,x0,maxiters=20,alpha=alpha))"
   ]
  },
  {
   "cell_type": "markdown",
   "metadata": {},
   "source": [
    "# Problem 4"
   ]
  },
  {
   "cell_type": "code",
   "execution_count": 79,
   "metadata": {
    "collapsed": false
   },
   "outputs": [],
   "source": [
    "def plot_alpha(f,f1,x0,tol=1e-5,maxiters=15):\n",
    "    alpha = np.linspace(0.1,1,20)\n",
    "    iterations = np.empty_like(alpha)\n",
    "    for k in range(len(alpha)):\n",
    "        iterations[k] = newtons_method(f,f1,x0,tol=tol,maxiters=maxiters,alpha=alpha[k])[2]\n",
    "    plt.plot(alpha,iterations)\n",
    "    plt.xlabel('Alpha Values')\n",
    "    plt.ylabel('Iterations')\n",
    "    plt.show()\n",
    "    alpha_min = alpha[np.argmin(iterations)]\n",
    "    return alpha_min"
   ]
  },
  {
   "cell_type": "code",
   "execution_count": 80,
   "metadata": {
    "collapsed": false
   },
   "outputs": [
    {
     "data": {
      "image/png": "[encoded data removed]",
      "text/plain": [
       "<matplotlib.figure.Figure at 0x10b7da978>"
      ]
     },
     "metadata": {},
     "output_type": "display_data"
    },
    {
     "name": "stdout",
     "output_type": "stream",
     "text": [
      "Ideal alpha: 0.289473684211\n"
     ]
    }
   ],
   "source": [
    "print('Ideal alpha:',plot_alpha(f,f1,x0,maxiters=20))"
   ]
  },
  {
   "cell_type": "markdown",
   "metadata": {},
   "source": [
    "# Problem 6"
   ]
  },
  {
   "cell_type": "code",
   "execution_count": 145,
   "metadata": {
    "collapsed": false
   },
   "outputs": [],
   "source": [
    "def find_init(gamma=5,delta=1,tol=1e-5,maxiters=15):\n",
    "    x = np.linspace(0,1,20)\n",
    "    y = np.linspace(0,0.25,20)\n",
    "    sol1 = np.array([0,1])\n",
    "    sol2 = np.array([0,-1])\n",
    "    sol3 = np.array([3.75,0.25])\n",
    "    f = lambda v: np.array([gamma*v[0]*v[1]-v[0]*(1+v[1]),-v[0]*v[1]+(delta-v[1])*(1+v[1])])\n",
    "    def f1(v):\n",
    "        D = np.empty((2,2))\n",
    "        D[0,:] = np.array([gamma*v[1]-(1+v[1]),gamma*v[0]-v[0]])\n",
    "        D[1,:] = np.array([-v[1],-v[0]+delta-1-2*v[1]])\n",
    "        return D\n",
    "    for i in x:\n",
    "        for j in y:\n",
    "            x0 = np.array([i,j])\n",
    "            guess, conv, it = newtons_method(f,f1,x0,tol=tol,maxiters=maxiters)\n",
    "            if np.linalg.norm(guess-sol1)<tol or np.linalg.norm(guess-sol2)<tol:\n",
    "                guess2, conv, it = newtons_method(f,f1,x0,tol=tol,maxiters=maxiters,alpha=0.55)\n",
    "                if np.linalg.norm(guess2-sol3)<tol:\n",
    "                    return x0\n",
    "    print('Did not find solution')"
   ]
  },
  {
   "cell_type": "code",
   "execution_count": 147,
   "metadata": {
    "collapsed": false
   },
   "outputs": [
    {
     "name": "stdout",
     "output_type": "stream",
     "text": [
      "Point of convergence: [ 0.52631579  0.15789474]\n"
     ]
    }
   ],
   "source": [
    "print('Point of convergence:', find_init())"
   ]
  },
  {
   "cell_type": "markdown",
   "metadata": {},
   "source": [
    "# Problem 7"
   ]
  },
  {
   "cell_type": "code",
   "execution_count": 6,
   "metadata": {
    "collapsed": true
   },
   "outputs": [],
   "source": [
    "def complex(f,f1,roots,bounds,res,iters):\n",
    "    x_real = np.linspace(bounds[0],bounds[1],res)\n",
    "    x_imag = np.linspace(bounds[2],bounds[3],res)\n",
    "    X_real, X_imag = np.meshgrid(x_real,x_imag)\n",
    "    X_0 = X_real+1j*X_imag\n",
    "    for k in range(iters):\n",
    "        X_1 = X_0 - f(X_0)/f1(X_0)\n",
    "        X_0 = X_1\n",
    "    print(X_0)\n",
    "    root_ind = np.vectorize(lambda x: np.argmin(np.abs(roots-x)))\n",
    "    Y_0 = root_ind(X_0).astype(int)\n",
    "    plt.pcolormesh(X_real,X_imag,Y_0,cmap='brg')\n",
    "    plt.colorbar()\n",
    "    plt.show()"
   ]
  },
  {
   "cell_type": "code",
   "execution_count": 8,
   "metadata": {
    "collapsed": false
   },
   "outputs": [
    {
     "name": "stdout",
     "output_type": "stream",
     "text": [
      "[[-1.+0.j -1.+0.j -1.+0.j ...,  1.+0.j  1.+0.j  1.+0.j]\n",
      " [-1.+0.j -1.+0.j -1.+0.j ...,  1.+0.j  1.+0.j  1.+0.j]\n",
      " [-1.+0.j -1.+0.j -1.+0.j ...,  1.+0.j  1.+0.j  1.+0.j]\n",
      " ..., \n",
      " [-1.+0.j -1.+0.j -1.+0.j ...,  1.+0.j  1.+0.j  1.+0.j]\n",
      " [-1.+0.j -1.+0.j -1.+0.j ...,  1.+0.j  1.+0.j  1.+0.j]\n",
      " [-1.+0.j -1.+0.j -1.+0.j ...,  1.+0.j  1.+0.j  1.+0.j]]\n"
     ]
    },
    {
     "data": {
      "image/png": "[encoded data removed]",
      "text/plain": [
       "<matplotlib.figure.Figure at 0x10dac65c0>"
      ]
     },
     "metadata": {},
     "output_type": "display_data"
    }
   ],
   "source": [
    "bounds = np.array([-1.5,1.5,-1.5,1.5])\n",
    "iters = 20\n",
    "res = 200\n",
    "\n",
    "f = lambda x: x**3 - 1\n",
    "f1 = lambda x: 3*x**2\n",
    "roots = np.array([1,-0.5+1j*0.5*np.sqrt(3),-0.5-1j*0.5*np.sqrt(3)])\n",
    "#complex(f,f1,roots,bounds,res,iters)\n",
    "\n",
    "f = lambda x: x**3 - x\n",
    "f1 = lambda x: 3*x**2 - 1\n",
    "roots = np.array([0,1,-1])\n",
    "complex(f,f1,roots,bounds,res,iters)"
   ]
  },
  {
   "cell_type": "code",
   "execution_count": null,
   "metadata": {
    "collapsed": true
   },
   "outputs": [],
   "source": []
  }
 ],
 "metadata": {
  "kernelspec": {
   "display_name": "Python 3",
   "language": "python",
   "name": "python3"
  },
  "language_info": {
   "codemirror_mode": {
    "name": "ipython",
    "version": 3
   },
   "file_extension": ".py",
   "mimetype": "text/x-python",
   "name": "python",
   "nbconvert_exporter": "python",
   "pygments_lexer": "ipython3",
   "version": "3.6.0"
  }
 },
 "nbformat": 4,
 "nbformat_minor": 2
}
