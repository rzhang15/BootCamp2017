{
 "cells": [
  {
   "cell_type": "code",
   "execution_count": 65,
   "metadata": {
    "collapsed": true
   },
   "outputs": [],
   "source": [
    "import numpy as np"
   ]
  },
  {
   "cell_type": "code",
   "execution_count": 202,
   "metadata": {
    "collapsed": false
   },
   "outputs": [],
   "source": [
    "class SimplexSolver(object):\n",
    "    def __init__(self,c,A,b):\n",
    "        m,n = A.shape\n",
    "        x = np.zeros(n)\n",
    "        # Check if feasible\n",
    "        feasible = True\n",
    "        for i in range(m):\n",
    "            k = b[i]-A[i,:]@x\n",
    "            if k<0:\n",
    "                feasible = False\n",
    "                break\n",
    "        if feasible==False:\n",
    "            raise ValueError(\"Infeasible problem\")\n",
    "        # Keep track of variables\n",
    "        var = np.empty(n+m)\n",
    "        var[:n] = x\n",
    "        var[n:] = b\n",
    "        # index list for basic and nonbasic\n",
    "        L = np.empty_like(var)\n",
    "        L[:m] = np.arange(n,n+m,1)\n",
    "        L[m:] = np.arange(0,n,1)\n",
    "        \n",
    "        self.A = A\n",
    "        self.c = c\n",
    "        self.b = b\n",
    "        self.var = var\n",
    "        self.L = L\n",
    "        \n",
    "    def init_tableau(self):\n",
    "        A = self.A\n",
    "        b = self.b\n",
    "        c = self.c\n",
    "        m,n = A.shape\n",
    "        Abar = np.hstack((A,np.eye(m)))\n",
    "        cbarT = np.hstack((c,np.zeros(m)))\n",
    "        col1 = np.hstack((np.array([0]),b))\n",
    "        col2 = np.vstack((-cbarT,Abar))\n",
    "        col3 = np.hstack((np.array([1]), np.zeros(m)))\n",
    "        T = np.vstack((col1,col2.T,col3)).T\n",
    "        self.T = T\n",
    "    \n",
    "    def pivot(self):\n",
    "        T = np.copy(self.T)\n",
    "        m,n = T.shape\n",
    "        L = np.copy(self.L)\n",
    "        # Find pivot column and rows\n",
    "        col = np.argmin(T[0,1:])+1\n",
    "        check = np.argmax(T[1:,col])+1\n",
    "        if T[check,col]<=0:\n",
    "            raise ValueError('Solution is unbounded')\n",
    "        no_zeros = np.copy(T[1:,col])\n",
    "        no_zeros[no_zeros==0]=-1\n",
    "        ratios = T[1:,0]/no_zeros\n",
    "        ratios[T[1:,col]<=0] = np.inf\n",
    "        row = np.argmin(ratios)+1\n",
    "        ent = np.where(L==(col-1))[0]\n",
    "        # Swap entering and leaving\n",
    "        L[ent], L[row-1] = L[row-1], L[ent]\n",
    "        # Operations on tableau\n",
    "        pivot = T[row,col]\n",
    "        T[row,:] = T[row,:]/pivot\n",
    "        for i in range(m):\n",
    "            if i!=row:\n",
    "                k = T[i,col]\n",
    "                T[i,:] = T[i,:]-k*T[row,:]\n",
    "        # Update L and T\n",
    "        return T,L\n",
    "    \n",
    "    def solve(self):\n",
    "        self.init_tableau()\n",
    "        check = np.argmin(self.T[0,1:])+1\n",
    "        sol = self.T[0,check]\n",
    "        # Check if solution found\n",
    "        while sol < 0: \n",
    "            T1, L1 = self.pivot()\n",
    "            self.T = T1\n",
    "            self.L = L1\n",
    "            check = np.argmin(self.T[0,1:])+1\n",
    "            sol = self.T[0,check]\n",
    "        T = self.T\n",
    "        L = self.L.astype(int)\n",
    "        T = np.round(T,2).astype(str)\n",
    "        optimum = T[0,0]\n",
    "        m,n = self.A.shape\n",
    "        basic = dict(zip(L[:m],T[1:,0]))\n",
    "        nonbasic = dict(zip(L[m:],np.zeros(n).astype(str)))\n",
    "        return (optimum, basic, nonbasic)"
   ]
  },
  {
   "cell_type": "code",
   "execution_count": 203,
   "metadata": {
    "collapsed": false
   },
   "outputs": [
    {
     "name": "stdout",
     "output_type": "stream",
     "text": [
      "('5.2', {2: '0.6', 0: '1.6', 1: '0.2'}, {3: '0.0', 4: '0.0'})\n"
     ]
    }
   ],
   "source": [
    "c = np.array([3., 2])\n",
    "b = np.array([2., 5, 7])\n",
    "A = np.array([[1., -1], [3, 1], [4, 3]])\n",
    "solver = SimplexSolver(c,A,b)\n",
    "sol = solver.solve()\n",
    "print(sol)"
   ]
  },
  {
   "cell_type": "markdown",
   "metadata": {},
   "source": [
    "# Product Mix Problem"
   ]
  },
  {
   "cell_type": "code",
   "execution_count": 204,
   "metadata": {
    "collapsed": false
   },
   "outputs": [
    {
     "name": "stdout",
     "output_type": "stream",
     "text": [
      "('7453.6', {1: '6.19', 3: '1.79', 6: '0.97', 0: '10.0', 8: '13.81', 2: '12.0', 10: '8.21'}, {7: '0.0', 4: '0.0', 9: '0.0', 5: '0.0'})\n"
     ]
    }
   ],
   "source": [
    "data = np.load('/Users/rubyzhang/Desktop/UChicago/OSML/BootCamp2017/Computation/Wk4_DifIntOpt/productMix.npz')\n",
    "A = data['A']\n",
    "c = data['p']\n",
    "b = np.hstack((data['m'],data['d']))\n",
    "i,j = A.shape\n",
    "for k in range(j):\n",
    "    A = np.vstack((A,np.eye(1,j,k)))\n",
    "solver = SimplexSolver(c,A,b)\n",
    "sol = solver.solve()\n",
    "print(sol)"
   ]
  },
  {
   "cell_type": "code",
   "execution_count": null,
   "metadata": {
    "collapsed": true
   },
   "outputs": [],
   "source": []
  }
 ],
 "metadata": {
  "kernelspec": {
   "display_name": "Python 3",
   "language": "python",
   "name": "python3"
  },
  "language_info": {
   "codemirror_mode": {
    "name": "ipython",
    "version": 3
   },
   "file_extension": ".py",
   "mimetype": "text/x-python",
   "name": "python",
   "nbconvert_exporter": "python",
   "pygments_lexer": "ipython3",
   "version": "3.6.0"
  }
 },
 "nbformat": 4,
 "nbformat_minor": 2
}
