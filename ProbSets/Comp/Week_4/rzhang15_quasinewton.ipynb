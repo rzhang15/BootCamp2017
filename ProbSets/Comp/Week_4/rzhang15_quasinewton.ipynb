{
 "cells": [
  {
   "cell_type": "code",
   "execution_count": 4,
   "metadata": {
    "collapsed": true
   },
   "outputs": [],
   "source": [
    "import numpy as np\n",
    "from scipy import optimize as opt\n",
    "from matplotlib import pyplot as plt"
   ]
  },
  {
   "cell_type": "markdown",
   "metadata": {},
   "source": [
    "# Problem 1"
   ]
  },
  {
   "cell_type": "code",
   "execution_count": 5,
   "metadata": {
    "collapsed": true
   },
   "outputs": [],
   "source": [
    "def newtons_method(f,f1,x0,tol=1e-5,maxiters=15,alpha=1):\n",
    "    if np.isscalar(x0):\n",
    "        for k in range(maxiters):\n",
    "            x1 = x0-alpha*(f(x0)/f1(x0))\n",
    "            if abs(x1-x0)<tol:\n",
    "                converge=True\n",
    "                break\n",
    "            converge=False\n",
    "            x0=x1\n",
    "    else:\n",
    "         for k in range(maxiters):\n",
    "            m = 1e-10\n",
    "            # Problem of Singular Matrix\n",
    "            Dmat = f1(x0) + np.eye(f1(x0).shape[1])*m\n",
    "            y = np.linalg.solve(Dmat,f(x0))\n",
    "            x1 = x0-alpha*y\n",
    "            if np.linalg.norm(x1-x0)<tol:\n",
    "                converge=True\n",
    "                break\n",
    "            converge=False\n",
    "            x0=x1\n",
    "    return x1,converge,k+1"
   ]
  },
  {
   "cell_type": "code",
   "execution_count": null,
   "metadata": {
    "collapsed": true
   },
   "outputs": [],
   "source": []
  }
 ],
 "metadata": {
  "kernelspec": {
   "display_name": "Python 3",
   "language": "python",
   "name": "python3"
  },
  "language_info": {
   "codemirror_mode": {
    "name": "ipython",
    "version": 3
   },
   "file_extension": ".py",
   "mimetype": "text/x-python",
   "name": "python",
   "nbconvert_exporter": "python",
   "pygments_lexer": "ipython3",
   "version": "3.6.0"
  }
 },
 "nbformat": 4,
 "nbformat_minor": 2
}
