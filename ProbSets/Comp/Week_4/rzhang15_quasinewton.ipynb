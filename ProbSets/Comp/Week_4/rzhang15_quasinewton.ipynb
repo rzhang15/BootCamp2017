{
 "cells": [
  {
   "cell_type": "code",
   "execution_count": 97,
   "metadata": {
    "collapsed": true
   },
   "outputs": [],
   "source": [
    "import numpy as np\n",
    "from scipy import optimize as opt\n",
    "from matplotlib import pyplot as plt"
   ]
  },
  {
   "cell_type": "markdown",
   "metadata": {},
   "source": [
    "# Newton's"
   ]
  },
  {
   "cell_type": "code",
   "execution_count": 98,
   "metadata": {
    "collapsed": false
   },
   "outputs": [],
   "source": [
    "def newtons_method(Df,D2f,x0,tol=1e-5,maxiters=50):\n",
    "    for k in range(maxiters): \n",
    "        b = D2f(x0)@x0-Df(x0)\n",
    "        x1 = np.linalg.solve(D2f(x0),b)\n",
    "        if np.linalg.norm(x1-x0)<tol:\n",
    "            converge=True\n",
    "            break\n",
    "        converge=False\n",
    "        x0=x1\n",
    "    return x1,converge,(k+1)"
   ]
  },
  {
   "cell_type": "code",
   "execution_count": 99,
   "metadata": {
    "collapsed": false
   },
   "outputs": [
    {
     "name": "stdout",
     "output_type": "stream",
     "text": [
      "Newton Rosenbrock initial 1: (array([ 1.,  1.]), True, 6)\n",
      "Newton Rosenbrock initial 2: (array([ 1.,  1.]), True, 5)\n"
     ]
    }
   ],
   "source": [
    "Rosenbrock = lambda x: 100*((x[1]-x[0]**2)**2)+(1-x[0])**2\n",
    "def rosen_jacob(x):\n",
    "    jacob = np.zeros(2)\n",
    "    jacob[0] = 400*(x[0]**3)+2*x[0]-2-400*x[0]*x[1]\n",
    "    jacob[1] = -200*(x[0])**2+200*x[1]\n",
    "    return jacob\n",
    "def hessian_jacob(x):\n",
    "    hess = np.zeros((2,2))\n",
    "    hess[0,0] = 1200*(x[0]**2)+2-400*x[1]\n",
    "    hess[0,1] = -400*x[0]\n",
    "    hess[1,0] = -400*x[0] \n",
    "    hess[1,1] = 200\n",
    "    return hess\n",
    "init1 = np.array([-2,2])\n",
    "init2 = np.array([10,-10])\n",
    "print('Newton Rosenbrock initial 1:', newtons_method(rosen_jacob,hessian_jacob,init1))\n",
    "print('Newton Rosenbrock initial 2:', newtons_method(rosen_jacob,hessian_jacob,init2))"
   ]
  },
  {
   "cell_type": "markdown",
   "metadata": {},
   "source": [
    "# Broyden"
   ]
  },
  {
   "cell_type": "code",
   "execution_count": 100,
   "metadata": {
    "collapsed": false
   },
   "outputs": [],
   "source": [
    "def broyden(Df,A0,x0,tol=1e-5,maxiters=150):\n",
    "    for k in range(maxiters): \n",
    "        b = A0@x0-Df(x0)\n",
    "        x1 = np.linalg.solve(A0,b)\n",
    "        y = Df(x1)-Df(x0)\n",
    "        s = x1-x0\n",
    "        A1 = A0+(y-A0@s)@(s/np.linalg.norm(s))\n",
    "        if np.linalg.norm(s)<tol:\n",
    "            converge=True\n",
    "            break\n",
    "        converge=False\n",
    "        x0=x1\n",
    "        A0=A1\n",
    "    return x1,converge,(k+1)"
   ]
  },
  {
   "cell_type": "code",
   "execution_count": 101,
   "metadata": {
    "collapsed": false
   },
   "outputs": [
    {
     "name": "stdout",
     "output_type": "stream",
     "text": [
      "Broyden initial 1: (array([ 0.79611962,  1.20389324]), True, 18)\n",
      "Broyden initial 2: (array([ 0.79614324,  1.20390998]), True, 112)\n"
     ]
    }
   ],
   "source": [
    "f = lambda x: np.exp(x[0]-1)+np.exp(1-x[1])+(x[0]-x[1])**2\n",
    "def Df(x):\n",
    "    jacob = np.zeros(2)\n",
    "    jacob[0] = np.exp(x[0]-1)+2*x[0]-2*x[1]\n",
    "    jacob[1] = -np.exp(1-x[1])+2*x[1]-2*x[0]\n",
    "    return jacob\n",
    "J1=lambda x: np.array([2.*(x[0]-x[1])+np.exp(x[0]-1),-2.*(x[0]-x[1])-np.exp(1.-x[1])])\n",
    "init1 = np.array([2,3])\n",
    "init2 = np.array([3,2])\n",
    "print('Broyden initial 1:', broyden(Df,H1(init1),init1))\n",
    "print('Broyden initial 2:', broyden(Df,H1(init2),init2))"
   ]
  },
  {
   "cell_type": "markdown",
   "metadata": {},
   "source": [
    "# BFGS"
   ]
  },
  {
   "cell_type": "code",
   "execution_count": 118,
   "metadata": {
    "collapsed": true
   },
   "outputs": [],
   "source": [
    "def BFGS(Df,A0,x0,tol=1e-5,maxiters=150):\n",
    "    for k in range(maxiters): \n",
    "        b = A0@x0-Df(x0)\n",
    "        x1 = np.linalg.solve(A0,b)\n",
    "        y = np.array([Df(x1)-Df(x0)]).T\n",
    "        s = np.array([x1-x0]).T\n",
    "        A1 = A0+(y@y.T)/(y.T@s)-(A0@s@s.T@A0)/(s.T@A0@s)\n",
    "        if np.linalg.norm(s)<tol:\n",
    "            converge=True\n",
    "            break\n",
    "        converge=False\n",
    "        x0=x1\n",
    "        A0=A1\n",
    "    return x1,converge,(k+1)      "
   ]
  },
  {
   "cell_type": "code",
   "execution_count": 119,
   "metadata": {
    "collapsed": false
   },
   "outputs": [
    {
     "name": "stdout",
     "output_type": "stream",
     "text": [
      "Broyden initial 1: (array([ 0.79611165,  1.20388835]), True, 7)\n",
      "Broyden initial 2: (array([ 0.79611164,  1.20388835]), True, 8)\n"
     ]
    }
   ],
   "source": [
    "f = lambda x: np.exp(x[0]-1)+np.exp(1-x[1])+(x[0]-x[1])**2\n",
    "def Df(x):\n",
    "    jacob = np.zeros(2)\n",
    "    jacob[0] = np.exp(x[0]-1)+2*x[0]-2*x[1]\n",
    "    jacob[1] = -np.exp(1-x[1])+2*x[1]-2*x[0]\n",
    "    return jacob\n",
    "J1=lambda x: np.array([2.*(x[0]-x[1])+np.exp(x[0]-1),-2.*(x[0]-x[1])-np.exp(1.-x[1])])\n",
    "init1 = np.array([2,3])\n",
    "init2 = np.array([3,2])\n",
    "print('Broyden initial 1:', BFGS(Df,H1(init1),init1))\n",
    "print('Broyden initial 2:', BFGS(Df,H1(init2),init2))"
   ]
  },
  {
   "cell_type": "markdown",
   "metadata": {},
   "source": [
    "Note that Broyden's method does it in much fewer iterations."
   ]
  },
  {
   "cell_type": "markdown",
   "metadata": {},
   "source": [
    "# Gauss-Newton"
   ]
  },
  {
   "cell_type": "code",
   "execution_count": null,
   "metadata": {
    "collapsed": true
   },
   "outputs": [],
   "source": []
  }
 ],
 "metadata": {
  "kernelspec": {
   "display_name": "Python 3",
   "language": "python",
   "name": "python3"
  },
  "language_info": {
   "codemirror_mode": {
    "name": "ipython",
    "version": 3
   },
   "file_extension": ".py",
   "mimetype": "text/x-python",
   "name": "python",
   "nbconvert_exporter": "python",
   "pygments_lexer": "ipython3",
   "version": "3.6.0"
  }
 },
 "nbformat": 4,
 "nbformat_minor": 2
}
