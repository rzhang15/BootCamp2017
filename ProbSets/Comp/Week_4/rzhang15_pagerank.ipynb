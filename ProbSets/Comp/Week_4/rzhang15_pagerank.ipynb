{
 "cells": [
  {
   "cell_type": "code",
   "execution_count": 126,
   "metadata": {
    "collapsed": true
   },
   "outputs": [],
   "source": [
    "import numpy as np\n",
    "from scipy import linalg as la\n",
    "from scipy.sparse import dok_matrix\n",
    "import pandas as pd"
   ]
  },
  {
   "cell_type": "markdown",
   "metadata": {},
   "source": [
    "# Problem 1"
   ]
  },
  {
   "cell_type": "code",
   "execution_count": 49,
   "metadata": {
    "collapsed": true
   },
   "outputs": [],
   "source": [
    "def problem_1(filename, N):\n",
    "    #Open matrix with read\n",
    "    A = dok_matrix((N,N))\n",
    "    with open (filename,'r') as myfile:\n",
    "        for line in myfile:\n",
    "            line = line.strip().split()\n",
    "            try:\n",
    "                i = int(line[0])\n",
    "                j = int(line[1])\n",
    "                A[i,j] = 1\n",
    "            except:\n",
    "                continue\n",
    "    return A"
   ]
  },
  {
   "cell_type": "code",
   "execution_count": 55,
   "metadata": {
    "collapsed": false
   },
   "outputs": [
    {
     "name": "stdout",
     "output_type": "stream",
     "text": [
      "[[ 0.  0.  0.  0.  0.  0.  0.  1.]\n",
      " [ 1.  0.  0.  0.  0.  0.  0.  0.]\n",
      " [ 0.  0.  0.  0.  0.  0.  0.  0.]\n",
      " [ 1.  0.  1.  0.  0.  0.  1.  0.]\n",
      " [ 1.  0.  0.  0.  0.  1.  1.  0.]\n",
      " [ 1.  0.  0.  0.  0.  0.  1.  0.]\n",
      " [ 1.  0.  0.  0.  0.  0.  0.  0.]\n",
      " [ 1.  0.  0.  0.  0.  0.  0.  0.]]\n"
     ]
    }
   ],
   "source": [
    "A = problem_1(\"/Users/rubyzhang/Desktop/UChicago/OSML/BootCamp2017/Computation/Wk4_DifIntOpt/matrix.txt\",8)\n",
    "print(A.toarray())"
   ]
  },
  {
   "cell_type": "code",
   "execution_count": 73,
   "metadata": {
    "collapsed": true
   },
   "outputs": [],
   "source": [
    "def problem_2(A):\n",
    "    A = A.toarray()\n",
    "    rows = np.sum(A,axis=1)\n",
    "    A[rows==0,:] = 1\n",
    "    D = np.sum(A,axis=1)\n",
    "    K = (A.T/D)\n",
    "    return K"
   ]
  },
  {
   "cell_type": "code",
   "execution_count": 74,
   "metadata": {
    "collapsed": false
   },
   "outputs": [
    {
     "name": "stdout",
     "output_type": "stream",
     "text": [
      "[[ 0.          1.          0.125       0.33333333  0.33333333  0.5         1.\n",
      "   1.        ]\n",
      " [ 0.          0.          0.125       0.          0.          0.          0.\n",
      "   0.        ]\n",
      " [ 0.          0.          0.125       0.33333333  0.          0.          0.\n",
      "   0.        ]\n",
      " [ 0.          0.          0.125       0.          0.          0.          0.\n",
      "   0.        ]\n",
      " [ 0.          0.          0.125       0.          0.          0.          0.\n",
      "   0.        ]\n",
      " [ 0.          0.          0.125       0.          0.33333333  0.          0.\n",
      "   0.        ]\n",
      " [ 0.          0.          0.125       0.33333333  0.33333333  0.5         0.\n",
      "   0.        ]\n",
      " [ 1.          0.          0.125       0.          0.          0.          0.\n",
      "   0.        ]]\n"
     ]
    }
   ],
   "source": [
    "print(problem_2(A))"
   ]
  },
  {
   "cell_type": "code",
   "execution_count": 102,
   "metadata": {
    "collapsed": false
   },
   "outputs": [],
   "source": [
    "def problem_3(A, N=None, d=0.85, tol=1e-5):\n",
    "    K = problem_2(A)\n",
    "    A = A.toarray()\n",
    "    n = A.shape[0]\n",
    "    if N==None:\n",
    "        N=n\n",
    "    p = np.zeros(N)\n",
    "    K = K[:N,:N]\n",
    "    err = 1\n",
    "    while err>tol:\n",
    "        p_new = d*(K@p.T)+((1-d)/N)\n",
    "        err = np.sqrt(np.sum((p_new-p)**2))\n",
    "        p = p_new\n",
    "    return p"
   ]
  },
  {
   "cell_type": "code",
   "execution_count": 103,
   "metadata": {
    "collapsed": false
   },
   "outputs": [
    {
     "name": "stdout",
     "output_type": "stream",
     "text": [
      "[ 0.43865799  0.02171029  0.02786154  0.02171029  0.02171029  0.02786154\n",
      "  0.04585394  0.39456563]\n"
     ]
    }
   ],
   "source": [
    "print(problem_3(A))"
   ]
  },
  {
   "cell_type": "code",
   "execution_count": 118,
   "metadata": {
    "collapsed": true
   },
   "outputs": [],
   "source": [
    "def problem_4(A,N=None,d=0.85):\n",
    "    K = problem_2(A)\n",
    "    A = A.toarray()\n",
    "    n = A.shape[0]\n",
    "    if N!=None:\n",
    "        K = K[:N,:N]\n",
    "    else:\n",
    "        N=A.shape[0]\n",
    "    B = d*K+((1-d)/N)\n",
    "    eigs, vec= la.eig(B)\n",
    "    return (vec[:,0]/np.sum(vec[:,0]))"
   ]
  },
  {
   "cell_type": "code",
   "execution_count": 119,
   "metadata": {
    "collapsed": false
   },
   "outputs": [
    {
     "name": "stdout",
     "output_type": "stream",
     "text": [
      "[ 0.43869288  0.02171029  0.02786154  0.02171029  0.02171029  0.02786154\n",
      "  0.04585394  0.39459924]\n"
     ]
    }
   ],
   "source": [
    "print(problem_4(A))"
   ]
  },
  {
   "cell_type": "code",
   "execution_count": 151,
   "metadata": {
    "collapsed": false
   },
   "outputs": [],
   "source": [
    "def problem_5(filename,d=0.7):\n",
    "    data = pd.read_csv(filename,header=0,index_col=False).astype(str)\n",
    "    mat_data = data.as_matrix()\n",
    "    m,n = mat_data.shape\n",
    "    names, inv = np.unique(mat_data, return_inverse=True)\n",
    "    inv = inv.reshape((m,n))\n",
    "    A = dok_matrix((len(names),len(names)))\n",
    "                   \n",
    "    for i in range(m):\n",
    "        A[inv[i,1],inv[i,0]] = 1\n",
    "    \n",
    "    p = problem_3(A,d=0.7)\n",
    "    sort = names[np.argsort(-p)]\n",
    "    return sort"
   ]
  },
  {
   "cell_type": "code",
   "execution_count": 154,
   "metadata": {
    "collapsed": false
   },
   "outputs": [
    {
     "name": "stdout",
     "output_type": "stream",
     "text": [
      "['Duke' 'Butler' 'Louisville' 'Illinois' 'Indiana']\n"
     ]
    }
   ],
   "source": [
    "print(problem_5('/Users/rubyzhang/Desktop/UChicago/OSML/BootCamp2017/Computation/Wk4_DifIntOpt/ncaa2013.csv')[:5])"
   ]
  },
  {
   "cell_type": "code",
   "execution_count": null,
   "metadata": {
    "collapsed": true
   },
   "outputs": [],
   "source": []
  }
 ],
 "metadata": {
  "kernelspec": {
   "display_name": "Python 3",
   "language": "python",
   "name": "python3"
  },
  "language_info": {
   "codemirror_mode": {
    "name": "ipython",
    "version": 3
   },
   "file_extension": ".py",
   "mimetype": "text/x-python",
   "name": "python",
   "nbconvert_exporter": "python",
   "pygments_lexer": "ipython3",
   "version": "3.6.0"
  }
 },
 "nbformat": 4,
 "nbformat_minor": 2
}
