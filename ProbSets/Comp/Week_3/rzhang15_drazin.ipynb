{
 "cells": [
  {
   "cell_type": "code",
   "execution_count": 2,
   "metadata": {
    "collapsed": true
   },
   "outputs": [],
   "source": [
    "import numpy as np\n",
    "from scipy import linalg as la\n",
    "import pandas as pd"
   ]
  },
  {
   "cell_type": "code",
   "execution_count": 3,
   "metadata": {
    "collapsed": false
   },
   "outputs": [],
   "source": [
    "def problem_1(A,k,Ad):\n",
    "    cond1 = np.allclose(np.dot(A,Ad),np.dot(Ad,A))\n",
    "    cond2 = np.allclose(np.dot(np.linalg.matrix_power(A,k+1),Ad),np.linalg.matrix_power(A,k))\n",
    "    cond3 = np.allclose(np.dot(np.dot(Ad,A),Ad),Ad)\n",
    "    if cond1 and cond2 and cond3:\n",
    "        return True\n",
    "    else:\n",
    "        return False"
   ]
  },
  {
   "cell_type": "code",
   "execution_count": 4,
   "metadata": {
    "collapsed": true
   },
   "outputs": [],
   "source": [
    "def problem_2(A,tol=1e-7):\n",
    "    n,n=A.shape\n",
    "    f = lambda x: abs(x)>tol\n",
    "    g = lambda x: abs(x)<=tol\n",
    "    Q1,S,k1 = la.schur(A,sort=f)\n",
    "    Q2,T,k2 = la.schur(A,sort=g)\n",
    "    U = np.hstack((S[:,:k1],T[:,:n-k1]))\n",
    "    U1 = np.linalg.inv(U)\n",
    "    V = np.dot(np.dot(U1,A),U)\n",
    "    Z = np.zeros((n,n),dtype=float)\n",
    "    if k1!=0:\n",
    "        M1 = np.linalg.inv(V[:k1,:k1])\n",
    "        Z[:k1,:k1] = M1\n",
    "    return np.dot(np.dot(U,Z),U1)"
   ]
  },
  {
   "cell_type": "code",
   "execution_count": 5,
   "metadata": {
    "collapsed": true
   },
   "outputs": [],
   "source": [
    "# Following function helps with testing, finds index of matrix\n",
    "def index(A, tol=1e-5):\n",
    "    \"\"\"Compute the index of the matrix A. Used for testing\n",
    "\n",
    "    Parameters:\n",
    "        A ((n,n) ndarray): An nxn matrix.\n",
    "\n",
    "    Returns:\n",
    "        k (int): The index of A.\n",
    "    \"\"\"\n",
    "\n",
    "    # test for non-singularity\n",
    "    if not np.allclose(la.det(A),0):\n",
    "        return 0\n",
    "\n",
    "    n = len(A)\n",
    "    k = 1\n",
    "    Ak = A.copy()\n",
    "    while k <= n:\n",
    "        r1 = np.linalg.matrix_rank(Ak)\n",
    "        r2 = np.linalg.matrix_rank(np.dot(A,Ak))\n",
    "        if r1 == r2:\n",
    "            return k\n",
    "        Ak = np.dot(A,Ak)\n",
    "        k += 1\n",
    "\n",
    "    return k"
   ]
  },
  {
   "cell_type": "code",
   "execution_count": 6,
   "metadata": {
    "collapsed": false
   },
   "outputs": [
    {
     "name": "stdout",
     "output_type": "stream",
     "text": [
      "True\n"
     ]
    }
   ],
   "source": [
    "# Testing the Drazin Inverse\n",
    "A = np.random.random((6,6))\n",
    "k = index(A)\n",
    "Ad = problem_2(A)\n",
    "print(problem_1(A,k,Ad))"
   ]
  },
  {
   "cell_type": "code",
   "execution_count": 7,
   "metadata": {
    "collapsed": true
   },
   "outputs": [],
   "source": [
    "def problem_3(A):\n",
    "    n,n=A.shape\n",
    "    L = np.diag(np.sum(A,axis=0)) - A # Laplacian matrix\n",
    "    I = np.eye(n,dtype=float)\n",
    "    R = np.empty_like(A,dtype=float)\n",
    "    for j in range(n):\n",
    "        Lj = np.empty_like(L)\n",
    "        Lj = np.copy(L)\n",
    "        Lj[j,:] = I[j,:]\n",
    "        Ljd = problem_2(Lj)\n",
    "        for i in range(n):\n",
    "            if i == j:\n",
    "                R[i,j] = 0\n",
    "            else:\n",
    "                R[i,j] = Ljd[i,i]\n",
    "    return R"
   ]
  },
  {
   "cell_type": "code",
   "execution_count": 8,
   "metadata": {
    "collapsed": false
   },
   "outputs": [
    {
     "name": "stdout",
     "output_type": "stream",
     "text": [
      "True\n",
      "True\n",
      "True\n"
     ]
    }
   ],
   "source": [
    "A=np.array([[0, 4],[4,0]])\n",
    "B=np.array([[0,1,1],[1,0,1],[1,1,0]])\n",
    "C=np.array([[0,1,0,0],[1,0,1,0],[0,1,0,1],[0,0,1,0]])\n",
    "print(problem_3(A)[0,1]==0.25)\n",
    "print(problem_3(B)[0,1]==2/3)\n",
    "print(problem_3(C)[0,3]-3.0<1e-10)"
   ]
  },
  {
   "cell_type": "code",
   "execution_count": 133,
   "metadata": {
    "collapsed": true
   },
   "outputs": [],
   "source": [
    "# Problem 4 and 5\n",
    "class LinkPredictor(object):\n",
    "    def __init__(self,filename):\n",
    "        data = pd.read_csv(filename,header=None,index_col=False).astype(str)\n",
    "        mat_data = data.as_matrix()\n",
    "        m,n = mat_data.shape\n",
    "        names, inv = np.unique(mat_data, return_inverse=True)\n",
    "        inv = inv.reshape((m,n))\n",
    "        \n",
    "        A = np.zeros([len(names),len(names)],dtype=float)\n",
    "        for i in range(m):\n",
    "            A[inv[i,0],inv[i,1]] = 1\n",
    "            A[inv[i,1],inv[i,0]] = 1\n",
    "        R = problem_3(A)\n",
    "        \n",
    "        self.names = names\n",
    "        self.adjacency = A\n",
    "        self.resistance = R\n",
    "    \n",
    "    def predict_link(self,node=None):\n",
    "        resis = self.resistance\n",
    "        resis[resis==0] = 1e10\n",
    "        \n",
    "        if node!=None:\n",
    "            if np.any(self.names[self.names==node]):\n",
    "                index = np.where(self.names==node)[0][0]\n",
    "                resis = resis[index,:]\n",
    "                mask = self.adjacency[index,:]!=1\n",
    "                min_val = np.min(resis[mask])\n",
    "                loc = np.where(resis==min_val)\n",
    "                return self.names[loc[0]]\n",
    "            else:\n",
    "                raise ValueError(\"Given name doesn't exist in network.\")\n",
    "        else:\n",
    "            mask = self.adjacency!=1\n",
    "            minval = np.min(resis[mask])\n",
    "            loc1,loc2 = np.where(resis==minval)\n",
    "            return (self.names[loc1[0]],self.names[loc2[0]])\n",
    "        \n",
    "    def add_link(self,name1,name2):\n",
    "        if np.any(self.names[self.names==name1]) and np.any(self.names[self.names==name2]):\n",
    "            loc1 = np.where(self.names==name1)[0][0]\n",
    "            loc2 = np.where(self.names==name2)[0][0]\n",
    "            self.adjacency[loc1,loc2] = self.adjacency[loc1,loc2]+1\n",
    "            self.adjacency[loc2,loc1] = self.adjacency[loc2,loc1]+1\n",
    "            self.resistance = problem_3(self.adjacency)\n",
    "        else:\n",
    "            raise ValueError(\"Given name doesn't exist in network.\")"
   ]
  },
  {
   "cell_type": "code",
   "execution_count": 134,
   "metadata": {
    "collapsed": false
   },
   "outputs": [
    {
     "name": "stdout",
     "output_type": "stream",
     "text": [
      "True\n",
      "[ True]\n",
      "[ True]\n",
      "[ True]\n",
      "[ True]\n"
     ]
    }
   ],
   "source": [
    "social = LinkPredictor(\"/Users/rubyzhang/Desktop/UChicago/OSML/BootCamp2017/Computation/Wk3_Decomp/social_network.csv\")\n",
    "print(social.predict_link()==('Oliver','Emily'))\n",
    "print(social.predict_link('Melanie')==['Carol'])\n",
    "print(social.predict_link('Alan')==['Sonia'])\n",
    "social.add_link('Alan','Sonia')\n",
    "print(social.predict_link('Alan')==['Piers'])\n",
    "social.add_link('Alan','Piers')\n",
    "print(social.predict_link('Alan')==['Abigail'])"
   ]
  },
  {
   "cell_type": "code",
   "execution_count": null,
   "metadata": {
    "collapsed": true
   },
   "outputs": [],
   "source": []
  }
 ],
 "metadata": {
  "kernelspec": {
   "display_name": "Python 3",
   "language": "python",
   "name": "python3"
  },
  "language_info": {
   "codemirror_mode": {
    "name": "ipython",
    "version": 3
   },
   "file_extension": ".py",
   "mimetype": "text/x-python",
   "name": "python",
   "nbconvert_exporter": "python",
   "pygments_lexer": "ipython3",
   "version": "3.6.0"
  }
 },
 "nbformat": 4,
 "nbformat_minor": 2
}
