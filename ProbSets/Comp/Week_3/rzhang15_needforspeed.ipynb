{
 "cells": [
  {
   "cell_type": "code",
   "execution_count": 17,
   "metadata": {
    "collapsed": false
   },
   "outputs": [],
   "source": [
    "import matplotlib.pyplot as plt\n",
    "import numpy as np\n",
    "from numba import jit\n",
    "from scipy.stats import bernoulli"
   ]
  },
  {
   "cell_type": "code",
   "execution_count": 18,
   "metadata": {
    "collapsed": true
   },
   "outputs": [],
   "source": [
    "def python_v(hh=0.8, hl=0.2, ll=0.9, lh=0.1, n=100000):\n",
    "    # let high state=1, low state=0\n",
    "    states = np.empty(n)\n",
    "    states[0] = 1\n",
    "    sum = states[0]\n",
    "    for i in range(1,n):\n",
    "        if states[i-1]==1:\n",
    "            states[i] = bernoulli.rvs(0.8)\n",
    "        elif states[i-1]==0:\n",
    "            states[i] = bernoulli.rvs(0.1)\n",
    "        sum += states[i]\n",
    "    return 1-sum/n"
   ]
  },
  {
   "cell_type": "code",
   "execution_count": 19,
   "metadata": {
    "collapsed": false
   },
   "outputs": [],
   "source": [
    "numba_v = jit(python_v)"
   ]
  },
  {
   "cell_type": "code",
   "execution_count": 20,
   "metadata": {
    "collapsed": false
   },
   "outputs": [
    {
     "name": "stdout",
     "output_type": "stream",
     "text": [
      "The Cython extension is already loaded. To reload it, use:\n",
      "  %reload_ext Cython\n"
     ]
    }
   ],
   "source": [
    "%load_ext Cython"
   ]
  },
  {
   "cell_type": "code",
   "execution_count": 24,
   "metadata": {
    "collapsed": false
   },
   "outputs": [],
   "source": [
    "%%cython\n",
    "import numpy as np\n",
    "from scipy.stats import bernoulli\n",
    "from numpy cimport int_t\n",
    "def cython_v(double hh=0.8, double hl=0.2, double ll=0.9, double lh=0.1, int n=100000):\n",
    "    # let high state=1, low state=0\n",
    "    states = np.empty(n, dtype=int)\n",
    "    cdef int_t [:] x = states\n",
    "    states[0] = 1\n",
    "    cdef int sum = states[0]\n",
    "    for i in range(1,n):\n",
    "        if states[i-1]==1:\n",
    "            states[i] = bernoulli.rvs(0.8)\n",
    "        elif states[i-1]==0:\n",
    "            states[i] = bernoulli.rvs(0.1)\n",
    "        sum += states[i]\n",
    "    return 1-sum/n"
   ]
  },
  {
   "cell_type": "code",
   "execution_count": 27,
   "metadata": {
    "collapsed": false
   },
   "outputs": [
    {
     "name": "stdout",
     "output_type": "stream",
     "text": [
      "Python: 0.66238\n",
      "10000000 loops, best of 3: 27.6 ns per loop\n",
      "Numba: 0.66233\n",
      "10000000 loops, best of 3: 23.4 ns per loop\n",
      "Cython: 0.6692\n",
      "10000000 loops, best of 3: 26 ns per loop\n"
     ]
    }
   ],
   "source": [
    "print(\"Python:\", python_v())\n",
    "%timeit python_v\n",
    "print(\"Numba:\", numba_v())\n",
    "%timeit numba_v\n",
    "print(\"Cython:\", cython_v())\n",
    "%timeit cython_v"
   ]
  },
  {
   "cell_type": "code",
   "execution_count": null,
   "metadata": {
    "collapsed": true
   },
   "outputs": [],
   "source": []
  }
 ],
 "metadata": {
  "kernelspec": {
   "display_name": "Python 3",
   "language": "python",
   "name": "python3"
  },
  "language_info": {
   "codemirror_mode": {
    "name": "ipython",
    "version": 3
   },
   "file_extension": ".py",
   "mimetype": "text/x-python",
   "name": "python",
   "nbconvert_exporter": "python",
   "pygments_lexer": "ipython3",
   "version": "3.6.0"
  }
 },
 "nbformat": 4,
 "nbformat_minor": 2
}
