{
 "cells": [
  {
   "cell_type": "code",
   "execution_count": 5,
   "metadata": {
    "collapsed": true
   },
   "outputs": [],
   "source": [
    "import numpy as np\n",
    "from scipy import linalg as la"
   ]
  },
  {
   "cell_type": "code",
   "execution_count": 35,
   "metadata": {
    "collapsed": false
   },
   "outputs": [],
   "source": [
    "def problem_1(A):\n",
    "    (m, n) = A.shape \n",
    "    Q = A.copy().astype(np.float64)\n",
    "    R = np.zeros((n,n)).astype(np.float64)\n",
    "    for i in range(n):\n",
    "        R[i,i] = la.norm(Q[:,i])\n",
    "        Q[:,i] = Q[:,i]/R[i,i]\n",
    "        for j in range(i+1,n):\n",
    "            R[i,j] = np.dot(Q[:,j].T, Q[:,i])\n",
    "            Q[:,j] = Q[:,j]- R[i,j]*Q[:,i]\n",
    "    return Q,R"
   ]
  },
  {
   "cell_type": "code",
   "execution_count": 36,
   "metadata": {
    "collapsed": false
   },
   "outputs": [
    {
     "name": "stdout",
     "output_type": "stream",
     "text": [
      "(9, 6) (9, 6) (6, 6)\n",
      "True\n",
      "True\n",
      "True\n"
     ]
    }
   ],
   "source": [
    "A = np.random.random((9,6))\n",
    "Q,R = problem_1(A)\n",
    "print(A.shape, Q.shape, R.shape)\n",
    "print(np.allclose(np.triu(R), R))\n",
    "print(np.allclose(np.dot(Q.T, Q), np.identity(6)))\n",
    "print(np.allclose(np.dot(Q, R), A))"
   ]
  },
  {
   "cell_type": "code",
   "execution_count": 46,
   "metadata": {
    "collapsed": true
   },
   "outputs": [],
   "source": [
    "def problem_2(A):\n",
    "    return np.prod(problem_1(A)[1].diagonal())"
   ]
  },
  {
   "cell_type": "code",
   "execution_count": 47,
   "metadata": {
    "collapsed": false
   },
   "outputs": [
    {
     "name": "stdout",
     "output_type": "stream",
     "text": [
      "True\n",
      "2.0\n",
      "2.0\n"
     ]
    }
   ],
   "source": [
    "A = np.array([[1,0,4],[1,1,6],[-3,0,-10]])\n",
    "print(abs(abs(la.det(A))-problem_2(A))<1e-10)\n",
    "print(problem_2(A))\n",
    "print(la.det(A))"
   ]
  },
  {
   "cell_type": "code",
   "execution_count": 59,
   "metadata": {
    "collapsed": true
   },
   "outputs": [],
   "source": [
    "def problem_3(A, b):\n",
    "    Q, R = problem_1(A)\n",
    "    y = np.dot(Q.T,b)\n",
    "    x = np.zeros_like(y)\n",
    "    for i in range(x.shape[0]-1,-1,-1):\n",
    "        x[i] = (y[i]-np.dot(R[i,:].T,x))/R[i,i]\n",
    "    return x"
   ]
  },
  {
   "cell_type": "code",
   "execution_count": 61,
   "metadata": {
    "collapsed": false
   },
   "outputs": [
    {
     "name": "stdout",
     "output_type": "stream",
     "text": [
      "True\n"
     ]
    }
   ],
   "source": [
    "A = np.array([[1,0,4],[1,1,6],[-3,0,-10]])\n",
    "b = np.array([3, 5, 2])\n",
    "x = problem_3(A, b)\n",
    "print(np.allclose(np.dot(A, x), b))"
   ]
  },
  {
   "cell_type": "code",
   "execution_count": 69,
   "metadata": {
    "collapsed": false
   },
   "outputs": [],
   "source": [
    "def problem_4(A):\n",
    "    (m,n) = A.shape\n",
    "    R = A.copy().astype(np.float64)\n",
    "    Q = np.eye(m,dtype=float)\n",
    "    sign = lambda x: 1 if x>=0 else -1\n",
    "    for k in range(n):\n",
    "        u = R[k:,k].copy()\n",
    "        u[0] = u[0] + sign(u[0])*la.norm(u)\n",
    "        u = u/la.norm(u)\n",
    "        R[k:,k:]=R[k:,k:]-2*np.outer(u,(np.dot(u.T,R[k:,k:])))\n",
    "        Q[k:,:]=Q[k:,:]-2*np.outer(u,(np.dot(u.T,Q[k:,:])))\n",
    "    return Q.T, R"
   ]
  },
  {
   "cell_type": "code",
   "execution_count": 73,
   "metadata": {
    "collapsed": false
   },
   "outputs": [
    {
     "name": "stdout",
     "output_type": "stream",
     "text": [
      "(7, 4) (7, 7) (7, 4)\n",
      "True\n",
      "True\n",
      "True\n"
     ]
    }
   ],
   "source": [
    "A = np.random.random((7,4))\n",
    "Q,R = problem_4(A)\n",
    "print(A.shape, Q.shape, R.shape)\n",
    "print(np.allclose(np.triu(R), R))\n",
    "print(np.allclose(np.dot(Q.T, Q), np.identity(7)))\n",
    "print(np.allclose(np.dot(Q, R), A))"
   ]
  },
  {
   "cell_type": "code",
   "execution_count": 74,
   "metadata": {
    "collapsed": true
   },
   "outputs": [],
   "source": [
    "def problem_5(A):\n",
    "    (m,n)=A.shape\n",
    "    H = A.copy().astype(np.float64)\n",
    "    Q = np.eye(m,dtype=float)\n",
    "    sign = lambda x: 1 if x>=0 else -1\n",
    "    for k in range(n-2):\n",
    "        u = H[k+1:,k].copy()\n",
    "        u[0] = u[0] + sign(u[0])*la.norm(u)\n",
    "        u = u/la.norm(u)\n",
    "        H[k+1:,k:]=H[k+1:,k:]-2*np.outer(u,(np.dot(u.T,H[k+1:,k:])))\n",
    "        H[:,k+1:]=H[:,k+1:]-2*np.outer((np.dot(H[:,k+1:],u)),u.T)\n",
    "        Q[k+1:,:]=Q[k+1:,:]-2*np.outer(u,(np.dot(u.T,Q[k+1:,:])))\n",
    "    return H, Q.T"
   ]
  },
  {
   "cell_type": "code",
   "execution_count": 77,
   "metadata": {
    "collapsed": false
   },
   "outputs": [
    {
     "name": "stdout",
     "output_type": "stream",
     "text": [
      "True\n",
      "True\n"
     ]
    }
   ],
   "source": [
    "A = np.random.random((10,10))\n",
    "H,Q=problem_5(A)\n",
    "print(np.allclose(np.triu(H, -1), H))\n",
    "print(np.allclose(np.dot(np.dot(Q, H), Q.T), A))"
   ]
  }
 ],
 "metadata": {
  "kernelspec": {
   "display_name": "Python 3",
   "language": "python",
   "name": "python3"
  },
  "language_info": {
   "codemirror_mode": {
    "name": "ipython",
    "version": 3
   },
   "file_extension": ".py",
   "mimetype": "text/x-python",
   "name": "python",
   "nbconvert_exporter": "python",
   "pygments_lexer": "ipython3",
   "version": "3.6.0"
  }
 },
 "nbformat": 4,
 "nbformat_minor": 2
}
