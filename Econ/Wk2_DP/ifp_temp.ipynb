{
 "cells": [
  {
   "cell_type": "markdown",
   "metadata": {},
   "source": [
    "## New IFP Code"
   ]
  },
  {
   "cell_type": "markdown",
   "metadata": {},
   "source": [
    "To be completed.\n",
    "\n",
    "We will use the following libraries:"
   ]
  },
  {
   "cell_type": "code",
   "execution_count": 1,
   "metadata": {
    "collapsed": true
   },
   "outputs": [],
   "source": [
    "import numpy as np\n",
    "import matplotlib.pyplot as plt\n",
    "import quantecon as qe"
   ]
  },
  {
   "cell_type": "markdown",
   "metadata": {},
   "source": [
    "### Exercise 4\n",
    "\n",
    "Adapt the endogenous grid method to solve the income fluctuation problem described in [this lecture](https://lectures.quantecon.org/py/ifp.html).  Using the default parameters from the `ConsumerProblem` class in that lecture, compute and plot the optimal policy.  Compare it with the policy produced by time iteration with an exogenous grid, as per the code for the Coleman operator in `ConsumerProblem`.  (See exercise 1 of the lecture.)\n",
    "\n"
   ]
  },
  {
   "cell_type": "markdown",
   "metadata": {},
   "source": [
    "#### Solution"
   ]
  },
  {
   "cell_type": "code",
   "execution_count": null,
   "metadata": {
    "collapsed": true
   },
   "outputs": [],
   "source": [
    "\n",
    "from scipy.optimize import fminbound, brentq\n",
    "\n",
    "class IFP:\n",
    "    \n",
    "    def __init__(self,\n",
    "                    r=0.01\n",
    "                    beta=0.96\n",
    "                    Pi=((0.6, 0.4), (0.05, 0.95))\n",
    "                    Pi = np.asarray(Pi)\n",
    "                    z_vals=(0.5, 1.0)\n",
    "                    b=0\n",
    "                    grid_max=16,\n",
    "                    grid_size=50,\n",
    "                    u=np.log,\n",
    "                    du=lambda x: 1/x\n",
    "                    du_inv=x):\n",
    "        \n",
    "        self.r, self.beta, self.Pi, self.z_vals = r, beta, Pi, z_vals\n",
    "        self.b, self.u, self.du, self.du_inv = b, u, du, du_inv\n",
    "        \n",
    "        self.R = 1 + r\n",
    "        self.gamma = self.R * self.beta\n",
    "        self.asset_grid = np.linspace(-b, grid_max, grid_size)\n",
    "\n",
    "        # === linear interpolation to get consumption function === #\n",
    "        def cf(self, a, c):\n",
    "            \"\"\"\n",
    "            Returns an array containing the values c(a,z) for each z in z_vals.  \n",
    "            For each such z, the value c(a, z)\n",
    "            is constructed by univariate linear approximation over asset\n",
    "            space, based on the values in the array c.\n",
    "            \"\"\"\n",
    "            for i_z in range(z_size):\n",
    "                vals[i_z] = np.interp(a, asset_grid, c[:, i_z])\n",
    "            return vals\n",
    "\n",
    "def coleman_operator_ifp(c, ifp):\n",
    "    \"\"\"\n",
    "    The approximate Coleman operator.\n",
    "\n",
    "    Parameters\n",
    "    ----------\n",
    "    c : array_like(float)\n",
    "        A NumPy array of dim len(cp.asset_grid) times len(cp.z_vals)\n",
    "    ifp : instance of IFP\n",
    "        Stores model parameters\n",
    "        \n",
    "    Returns\n",
    "    -------\n",
    "    array_like(float)\n",
    "        The updated policy, where updating is by the Coleman\n",
    "        operator. function TV.\n",
    "\n",
    "    \"\"\"\n",
    "    # === simplify names, set up arrays === #\n",
    "    R, Pi, beta, du, b = ifp.R, ifp.Pi, ifp.beta, ifp.du, ifp.b\n",
    "    asset_grid, z_vals = ifp.asset_grid, ipf.z_vals\n",
    "    cf = lambda a: ifp.cf(a, c)\n",
    "    z_size = len(z_vals)\n",
    "    vals = np.empty(z_size)\n",
    "\n",
    "    # === solve for root to get Kc === #\n",
    "    Kc = np.empty(c.shape)\n",
    "    for i_a, a in enumerate(asset_grid):\n",
    "        for i_z, z in enumerate(z_vals):\n",
    "            def h(t):\n",
    "                expectation = np.dot(du(cf(R * a + z - t)), Pi[i_z, :])\n",
    "                return du(t) - max(gamma * expectation, du(R * a + z + b))\n",
    "            Kc[i_a, i_z] = brentq(h, 1e-8, R * a + z + b)\n",
    "\n",
    "    return Kc"
   ]
  },
  {
   "cell_type": "code",
   "execution_count": null,
   "metadata": {
    "collapsed": true
   },
   "outputs": [],
   "source": [
    "def coleman_ifp_egm(c, ifp):\n",
    "    \"\"\"\n",
    "    The approximate Coleman operator, using EGM.\n",
    "\n",
    "    Parameters\n",
    "    ----------\n",
    "    cp : an instance of ConsumerProblem\n",
    "        Contains parameters, primitives and grid information\n",
    "        \n",
    "    c : array_like(float)\n",
    "        A NumPy array of dim len(cp.asset_grid) times len(cp.z_vals)\n",
    "        \n",
    "    Returns\n",
    "    -------\n",
    "    array_like(float)\n",
    "        The updated policy.\n",
    "\n",
    "    \"\"\"\n",
    "    # === simplify names, set up arrays === #\n",
    "    R, Pi, beta, du, b = ifp.R, ifp.Pi, ifp.beta, ipf.du, ifp.b\n",
    "    asset_grid, z_vals = ifp.asset_grid, ifp.z_vals\n",
    "    z_size = len(z_vals)\n",
    "    gamma = R * beta\n",
    "    vals = np.empty(z_size)\n",
    "\n",
    "    # === linear interpolation to get consumption function === #\n",
    "    def cf(a):\n",
    "        \"\"\"\n",
    "        The call cf(a) returns an array containing the values c(a,\n",
    "        z) for each z in z_vals.  For each such z, the value c(a, z)\n",
    "        is constructed by univariate linear approximation over asset\n",
    "        space, based on the values in the array c\n",
    "        \"\"\"\n",
    "        for i in range(z_size):\n",
    "            vals[i] = np.interp(a, asset_grid, c[:, i])\n",
    "        return vals\n",
    "\n",
    "    # === solve for root to get Kc === #\n",
    "    Kc = np.empty(c.shape)\n",
    "    for i_z, z in enumerate(z_vals):\n",
    "        \n",
    "        for i_a, a in enumerate(asset_grid):\n",
    "        \n",
    "            def h(t):\n",
    "                expectation = np.dot(du(cf(R * a + z - t)), Pi[i_z, :])\n",
    "                return du(t) - max(gamma * expectation, du(R * a + z + b))\n",
    "            Kc[i_a, i_z] = brentq(h, 1e-8, R * a + z + b)\n",
    "\n",
    "    return Kc\n",
    "    "
   ]
  },
  {
   "cell_type": "code",
   "execution_count": 4,
   "metadata": {
    "collapsed": true
   },
   "outputs": [],
   "source": [
    "ifp = IFP()\n",
    "shape = len(asset_grid), len(z_vals)\n",
    "V, c = np.empty(shape), np.empty(shape)\n",
    "\n",
    "# === Populate V and c === #\n",
    "for i_a, a in enumerate(asset_grid):\n",
    "    for i_z, z in enumerate(z_vals):\n",
    "        c_max = R * a + z + b\n",
    "        c[i_a, i_z] = c_max\n",
    "        V[i_a, i_z] = u(c_max) / (1 - beta)"
   ]
  },
  {
   "cell_type": "code",
   "execution_count": 2,
   "metadata": {
    "collapsed": true
   },
   "outputs": [],
   "source": [
    "from quantecon import compute_fixed_point"
   ]
  },
  {
   "cell_type": "code",
   "execution_count": 3,
   "metadata": {},
   "outputs": [
    {
     "name": "stdout",
     "output_type": "stream",
     "text": [
      "Starting value function iteration\n",
      "Starting policy function iteration\n"
     ]
    },
    {
     "data": {
      "image/png": "[encoded data removed]",
      "text/plain": [
       "<matplotlib.figure.Figure at 0x7fdcec477860>"
      ]
     },
     "metadata": {},
     "output_type": "display_data"
    }
   ],
   "source": [
    "cp = ConsumerProblem()\n",
    "K = 80\n",
    "\n",
    "# Policy iteration\n",
    "print(\"Starting policy function iteration\")\n",
    "V, c2 = cp.initialize()\n",
    "for i in range(K):\n",
    "    # print \"Current iterate = \" + str(i)\n",
    "    c2 = cp.coleman_operator(c2)\n",
    "\n",
    "fig, ax = plt.subplots(figsize=(10, 8))\n",
    "ax.plot(cp.asset_grid, c1[:, 0], label='value function iteration')\n",
    "ax.plot(cp.asset_grid, c2[:, 0], label='policy function iteration')\n",
    "ax.set_xlabel('asset level')\n",
    "ax.set_ylabel('consumption (low income)')\n",
    "ax.legend(loc='upper left')\n",
    "plt.show()\n"
   ]
  },
  {
   "cell_type": "code",
   "execution_count": null,
   "metadata": {
    "collapsed": true
   },
   "outputs": [],
   "source": []
  }
 ],
 "metadata": {
  "kernelspec": {
   "display_name": "Python 3",
   "language": "python",
   "name": "python3"
  },
  "language_info": {
   "codemirror_mode": {
    "name": "ipython",
    "version": 3
   },
   "file_extension": ".py",
   "mimetype": "text/x-python",
   "name": "python",
   "nbconvert_exporter": "python",
   "pygments_lexer": "ipython3",
   "version": "3.6.1"
  }
 },
 "nbformat": 4,
 "nbformat_minor": 2
}
