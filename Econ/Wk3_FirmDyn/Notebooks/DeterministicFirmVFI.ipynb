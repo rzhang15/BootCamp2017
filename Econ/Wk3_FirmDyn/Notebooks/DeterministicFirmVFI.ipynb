{
 "cells": [
  {
   "cell_type": "markdown",
   "metadata": {},
   "source": [
    "# Solving the Deterministic Firm Investment Problem Through Value Function Iteration\n",
    "### by [Jason DeBacker](http://jasondebacker.com), July 2017\n",
    "This Jupyter notebook was written using Python 3.6. \n"
   ]
  },
  {
   "cell_type": "markdown",
   "metadata": {},
   "source": [
    "## 1. Overview of the Theory\n",
    "The firm's optimization problem can be written as:\n",
    "\n",
    "$$ V(z,k) = max_{k'} \\pi(z,k) - p^{k}(k'-(1-\\delta)k) - c(k',k) + \\beta V(z',k') $$\n",
    "\n",
    "We going to assume that $z$ is deterministic and stationary.  Thus we'll set $z=1$ for all time and drop it from our vector of state variables.  In addition, assume that the price of new capital is equal to one; $p^{k}=1$.  Rewriting the problem we have:\n",
    "\n",
    "$$ V(k) = max_{k'} \\pi(k) - (k'-(1-\\delta)k) - c(k',k) + \\beta V(k') \\ \\ (1) $$ \n",
    "\n",
    "We need to solve for $V(k)$ and the policy function, $k'=h(k)$.  To do this, we are going to use the recursive nature of the problem.  In particular, we are going to use a fixed point algorithm and the fact that the value funciton, $V(\\cdot)$ appears on both sides of the equation above.\n",
    "\n",
    "In particular, we are going to look for the fixed point for the mapping $T(V(k))$ defined as \n",
    "\n",
    "$$ T(V(k)) = max_{k'} \\pi(k) - (k'-(1-\\delta)k) - c(k',k) + \\beta V(k') $$\n",
    "\n",
    "Here, $V(k)$ represents a proposed solution to the Equation (1) above.  If $T(V(k))=V(k)$ then $V(k)$ *is* the solution to (1).  Value function iteration uses this mapping to find the solution.  Under certain assumptions, it is shown that such a solution exists, is unique, and can be found by iterating on any initial proposed value function.  See Stokey, Lucas, and Prescott (1989, pp. 49-55) for details on the necessary conditions for the existence and uniqueness of a solution.  Suffice it to say, those conditions are met in the problem as parameterized below.\n",
    "\n",
    "The approach we'll take, then, is to guess an initial value function, $V_{0}(k)$ and then iterate on this guess with the operators $T(v(k))$ so that we have:\n",
    "\n",
    "$$ V_{i+1}(k) = max_{k'} \\pi(k) - (k'-(1-\\delta)k) - c(k',k) + \\beta V_{i}(k') $$\n",
    "\n",
    "Where $i$ denotes the iteration.  These iterations will continue until $V_{i+1}(k)=V_{i}(k)$, i.e., when we've found the fixed point.  This fixed point will be the solution to our problem, $V(k)=V_{i}(k)$.  With this found, we can then find the policy function, $h(k)$ that corresponds to this value function.\n",
    "\n",
    "## 2. Setting things up."
   ]
  },
  {
   "cell_type": "code",
   "execution_count": 1,
   "metadata": {
    "collapsed": true
   },
   "outputs": [],
   "source": [
    "# Import packages\n",
    "import numpy as np\n",
    "import matplotlib.pyplot as plt\n",
    "import time\n",
    "\n",
    "# to print plots inline\n",
    "%matplotlib inline"
   ]
  },
  {
   "cell_type": "markdown",
   "metadata": {},
   "source": [
    "### 2.1 Parameterization\n",
    "To solve a numerical problem, we need to set values to the parameters.  We also need to specify the adjustment cost function.  Adjustment costs will be assumed to be quadratic:\n",
    "\n",
    "$$ c(k',k) = \\frac{\\psi}{2}\\left(\\frac{k'-(1-\\delta)k}{k}\\right)^{2}k $$\n",
    "\n",
    "Operating profits are given by $zk^{alpha_{k}}l^{\\alpha_{l}} - wl$.  After solving the firm's intra-temporal problem for the optimal choice of $l$ given $k4$, we find\n",
    "\n",
    "$$ \\pi(z,k)=\\left(1-\\alpha_{l}\\right)\\left(\\frac{\\alpha_{l}}{w}\\right)^{\\frac{\\alpha_{l}}{1-\\alpha_{l}}} z^{\\frac{1}{1-\\alpha_{l}}}k^{\\frac{\\alpha_{k}}{1-\\alpha_{l}}} $$\n",
    "\n",
    "Or, noting that $z=1$ in the deterministic model we're studying here:\n",
    "\n",
    "$$ \\pi(k)=\\left(1-\\alpha_{l}\\right)\\left(\\frac{\\alpha_{l}}{w}\\right)^{\\frac{\\alpha_{l}}{1-\\alpha_{l}}} k^{\\frac{\\alpha_{k}}{1-\\alpha_{l}}} $$\n",
    "\n",
    "We then choose the following parameterization:\n",
    "\n",
    "| Paramter | Description   | Value|\n",
    "|------|------||------|\n",
    "    | $\\alpha_{k}$ | Capital's share of output | 0.297 |\n",
    "   | $\\alpha_{l}$ | Labor's share of output | 0.650 |\n",
    "   | $\\delta$ | Depreciation rate | 0.154 |\n",
    "   | $\\psi$ | Coefficient on quadratic adjustment costs | 1.080 |\n",
    "   | $w$   | Wage rate | 0.700 |\n",
    "   | $r$   | Interest rate | 0.040 |\n",
    "   | $z$   | Productivity | 1.000 |\n",
    "\n"
   ]
  },
  {
   "cell_type": "code",
   "execution_count": 2,
   "metadata": {
    "collapsed": true
   },
   "outputs": [],
   "source": [
    "# specify parameters\n",
    "alpha_k = 0.29715\n",
    "alpha_l = 0.65\n",
    "delta = 0.154\n",
    "psi = 1.08\n",
    "w = 0.7\n",
    "r= 0.04\n",
    "z = 1"
   ]
  },
  {
   "cell_type": "markdown",
   "metadata": {},
   "source": [
    "To determine the discount rate of the firm, we have:\n",
    "\n"
   ]
  },
  {
   "cell_type": "code",
   "execution_count": 3,
   "metadata": {
    "collapsed": true
   },
   "outputs": [],
   "source": [
    "betafirm = (1 / (1 + r))"
   ]
  },
  {
   "cell_type": "markdown",
   "metadata": {},
   "source": [
    "### 2.2 Discretizing the state space for capital\n",
    "\n",
    "To solve this problem we will be evaluating the value function over a discrete grid of points in the state space.  Our state space are the possible values of the firm's capital stock.  We need to put some thought into how to choose these grid points, since we are approximating the continuous value function over this grid.  \n",
    "\n",
    "As a starting point, recall the solution to the firm's problem without adjustment costs:\n",
    "\n",
    "$$ k_{t+1} = \\left[\\left(\\frac{\\alpha_{k}}{\\bar{r}  + \\delta}\\right)^{1-\\alpha_{l}}\\left(\\frac{\\alpha_{l}}{w}\\right)^{\\alpha_{l}}z_{t+1}^{\\alpha_{l}}\\right]^{1-\\alpha_{k}-\\alpha_{l}} $$\n",
    "\n",
    "In this case, we are setting $z=1$, so we have:\n",
    "\n",
    "$$ k_{t+1} = \\left[\\left(\\frac{\\alpha_{k}}{\\bar{r}  + \\delta}\\right)^{1-\\alpha_{l}}\\left(\\frac{\\alpha_{l}}{w}\\right)^{\\alpha_{l}}\\right]^{1-\\alpha_{k}-\\alpha_{l}} \\ \\ \\ (2) $$\n",
    "\n",
    "This value for $k'$ in the model with no adjustment costs is a good place to center the grid as it's close to the steady-state value of the problem with adjustment costs.  In the steady-state, the firm's capital stock does not change and thus with the adjustment cost function specified, only small costs are paid as investment is just enough to offset depreciation.\n",
    "\n",
    "Next, we need to think about how to space the grid points.  One consideration here is that since we are approximating a value function that is concave, we want to have more grid points in the space where there is more curvature in the function.  That is, we want more grid points on the part of the grid with smaller amounts of capital as the value function will have more curvature in this range since it's a concave function.  Second, there is some convenience in spacing the grid points out so that we know the number of points between the points for $k$ and $(1-\\delta)k$ (this will be more apparent when we get to models with other types of adjustment costs).\n",
    "\n",
    "Given these two considerations, let us define `dens` as the number of grid points between $k$ and $(1-\\delta)k$ and then define the sequence of grid points by\n",
    "\n",
    "$$ k^{i} = (1-\\delta)^{\\frac{1}{\\texttt{dens}}}k^{i+1} $$\n",
    "\n",
    "We implement this in the code below, setting the lower bound of the capital grid to a small, positive number, the upper bound to a multiple of the $k'$ implied by Equation (2), and then determining the number of grid points between these bounds given our rule for spacing described above."
   ]
  },
  {
   "cell_type": "code",
   "execution_count": 4,
   "metadata": {
    "collapsed": false
   },
   "outputs": [],
   "source": [
    "dens = 1\n",
    "# put in bounds here for the capital stock space\n",
    "kstar = ((((1 / betafirm - 1 + delta) * ((w / alpha_l) **\n",
    "                                         (alpha_l / (1 - alpha_l)))) /\n",
    "         (alpha_k * (z ** (1 / (1 - alpha_l))))) **\n",
    "         ((1 - alpha_l) / (alpha_k + alpha_l - 1)))\n",
    "kbar = 2*kstar\n",
    "lb_k = 0.001\n",
    "ub_k = kbar\n",
    "krat = np.log(lb_k / ub_k)\n",
    "numb = np.ceil(krat / np.log(1 - delta))\n",
    "K = np.zeros(int(numb * dens))\n",
    "# we'll create in a way where we pin down the upper bound - since\n",
    "# the distance will be small near the lower bound, we'll miss that by little\n",
    "for j in range(int(numb * dens)):\n",
    "    K[j] = ub_k * (1 - delta) ** (j / dens)\n",
    "kvec = K[::-1]\n",
    "sizek = kvec.shape[0]"
   ]
  },
  {
   "cell_type": "markdown",
   "metadata": {},
   "source": [
    "Let's look at this grid..."
   ]
  },
  {
   "cell_type": "code",
   "execution_count": 5,
   "metadata": {
    "collapsed": false
   },
   "outputs": [
    {
     "data": {
      "text/plain": [
       "<matplotlib.collections.PathCollection at 0x10fba27f0>"
      ]
     },
     "execution_count": 5,
     "metadata": {},
     "output_type": "execute_result"
    },
    {
     "data": {
      "image/png": "[encoded data removed]",
      "text/plain": [
       "<matplotlib.figure.Figure at 0x10c82d828>"
      ]
     },
     "metadata": {},
     "output_type": "display_data"
    }
   ],
   "source": [
    "k_linear = np.linspace(lb_k, ub_k, num=sizek)\n",
    "plt.scatter(k_linear, kvec)"
   ]
  },
  {
   "cell_type": "markdown",
   "metadata": {},
   "source": [
    "### 2.3 Grid of per period flows\n",
    "\n",
    "In order to evaluate our value functions, we will need to know the per period flows to the firm.  These are given by operating profits, $\\pi(k)$, less investment expenses plus adjustment costs, $I + c(k',k)$.\n",
    "\n",
    "As noted above, operating profits (with $z=1$) are given by:\n",
    "\n",
    "$$\\pi(k) =\\left(1-\\alpha_{l}\\right)\\left(\\frac{\\alpha_{l}}{w}\\right)^{\\frac{\\alpha_{l}}{1-\\alpha_{l}}}k^{\\frac{\\alpha_{k}}{1-\\alpha_{l}}} $$\n",
    "\n",
    "Per period flows are then:\n",
    "\n",
    "$$ e(k,k') = \\pi(k) - (k'-(1-\\delta)k) - \\frac{\\psi}{2}\\left(\\frac{k'-(1-\\delta)k}{k}\\right)^{2}k $$"
   ]
  },
  {
   "cell_type": "code",
   "execution_count": 6,
   "metadata": {
    "collapsed": false
   },
   "outputs": [],
   "source": [
    "# operating profits, op\n",
    "op = ((1 - alpha_l) * ((alpha_l / w) ** (alpha_l / (1 - alpha_l))) *\n",
    "      ((kvec ** alpha_k) ** (1 / (1 - alpha_l))))\n",
    "\n",
    "# firm cash flow, e\n",
    "e = np.zeros((sizek, sizek))\n",
    "for i in range(sizek):\n",
    "    for j in range(sizek):\n",
    "            e[i, j] = (op[i] - kvec[j] + ((1 - delta) * kvec[i]) -\n",
    "                       ((psi / 2) * ((kvec[j] - ((1 - delta) * kvec[i])) ** 2)\n",
    "                        / kvec[i]))"
   ]
  },
  {
   "cell_type": "markdown",
   "metadata": {},
   "source": [
    "## 3. Value Function Iteration\n",
    "\n",
    "We've now determined all the fundamental objects we need to do value function iteration over a discete grid.  There are a few more objects we need to create that determine when convergence has been reached and to ensure that our `while` loops end.  We'll also want to intialize arrays that will be populated in our VFI.  \n",
    "\n",
    "Note that any initial guess at the value function $V_{0}$ will work.  But closer guesses will mean less iterations until convergence.  Here, we just guess a vector of zeros.  We know it's not the solution, but it gives us a starting point."
   ]
  },
  {
   "cell_type": "code",
   "execution_count": 7,
   "metadata": {
    "collapsed": true
   },
   "outputs": [],
   "source": [
    "VFtol = 1e-6\n",
    "VFdist = 7.0\n",
    "VFmaxiter = 3000\n",
    "V = np.zeros(sizek)  # initial guess at value function\n",
    "Vmat = np.zeros((sizek, sizek))  # initialize Vmat matrix\n",
    "Vstore = np.zeros((sizek, VFmaxiter))  # initialize Vstore array\n",
    "VFiter = 1\n",
    "start_time = time.clock()"
   ]
  },
  {
   "cell_type": "markdown",
   "metadata": {},
   "source": [
    "With these objects of the VFI procedure defined, we now write the loop that is the VFI prodecure.  We are iterating over the operator $T(V(k))$, so our outer most loop will represent our updating of the value function $V_{i}(k)$ that happens with each iteration of VFI.  Inside this loop, we need to apply the operator.  We do this by evaluating the finding the optimal choice of $k'$ given $k$ and $V_{i}(k)$.  Note that as we find the optimal choice of $k'$ we'll store both the value function evaluated at this $k'$ and also the value of $k'$ (because these choices define our policy function)."
   ]
  },
  {
   "cell_type": "code",
   "execution_count": 8,
   "metadata": {
    "collapsed": false
   },
   "outputs": [
    {
     "name": "stdout",
     "output_type": "stream",
     "text": [
      "Value function converged after this many iterations: 310\n",
      "VFI took  0.7032750000000001  seconds to solve\n"
     ]
    }
   ],
   "source": [
    "while VFdist > VFtol and VFiter < VFmaxiter:\n",
    "    TV = V\n",
    "    for i in range(sizek):  # loop over k\n",
    "        for j in range(sizek):  # loop over k'\n",
    "            Vmat[i, j] = e[i, j] + betafirm * V[j]\n",
    "    Vstore[:, VFiter] = V.reshape(sizek,)  # store value function at each\n",
    "    # iteration for graphing later\n",
    "    V = Vmat.max(axis=1)  # apply max operator to Vmat (to get V(k))\n",
    "    PF = np.argmax(Vmat, axis=1)  # find the index of the optimal k'\n",
    "    VFdist = (np.absolute(V - TV)).max()  # check distance between value\n",
    "    # function for this iteration and value function from past iteration\n",
    "    VFiter += 1\n",
    "\n",
    "VFI_time = time.clock() - start_time\n",
    "if VFiter < VFmaxiter:\n",
    "    print('Value function converged after this many iterations:', VFiter)\n",
    "else:\n",
    "    print('Value function did not converge')\n",
    "print('VFI took ', VFI_time, ' seconds to solve')\n",
    "\n",
    "VF = V  # solution to the functional equation"
   ]
  },
  {
   "cell_type": "markdown",
   "metadata": {},
   "source": [
    "## 4. Determining the policy functions\n",
    "\n",
    "We've already done the work to recover our policy functions, since we saved them along the way in our VFI loop.  From here, it's straight forward to get the policy functions."
   ]
  },
  {
   "cell_type": "code",
   "execution_count": 17,
   "metadata": {
    "collapsed": false
   },
   "outputs": [
    {
     "name": "stdout",
     "output_type": "stream",
     "text": [
      "[13 13 14 14 15 16 16 17 18 18 19 20 20 21 22 22 23 24 24 25 26 27 27 28 29\n",
      " 30 30 31 32 33 33 34 35 36 36 37 38 39 40 40 41 42 43 44 45 46 47 47 48 49\n",
      " 49 50 51 52 53 54 55]\n",
      "0.0101961309976\n"
     ]
    }
   ],
   "source": [
    "'''\n",
    "------------------------------------------------------------------------\n",
    "Find optimal capital and investment policy functions\n",
    "------------------------------------------------------------------------\n",
    "optK = (sizek,) vector, optimal choice of k' for each k\n",
    "optI = (sizek,) vector, optimal choice of investment for each k\n",
    "------------------------------------------------------------------------\n",
    "'''\n",
    "optK = kvec[PF]\n",
    "optI = optK - (1 - delta) * kvec\n",
    "print(PF)\n",
    "print(kvec[13])"
   ]
  },
  {
   "cell_type": "markdown",
   "metadata": {},
   "source": [
    "## 5. Check output!\n",
    "\n",
    "Congratulations!  You solved the model and determined the optimal firm value, $V(k)$ and the it's optimal choice of investment, $h(k)$.  Now let's look over the output to be sure this makes sense.\n",
    "\n",
    "## 5.1 Plotting the value function."
   ]
  },
  {
   "cell_type": "code",
   "execution_count": 10,
   "metadata": {
    "collapsed": false
   },
   "outputs": [
    {
     "data": {
      "text/plain": [
       "<matplotlib.text.Text at 0x10fbe1898>"
      ]
     },
     "execution_count": 10,
     "metadata": {},
     "output_type": "execute_result"
    },
    {
     "data": {
      "image/png": "[encoded data removed]",
      "text/plain": [
       "<matplotlib.figure.Figure at 0x10c84b518>"
      ]
     },
     "metadata": {},
     "output_type": "display_data"
    }
   ],
   "source": [
    "plt.plot(kvec, VF, 'k')\n",
    "plt.xlabel('Size of Capital Stock')\n",
    "plt.ylabel('Value Function')\n",
    "plt.title('Value Function - deterministic firm w/ adjustment costs')"
   ]
  },
  {
   "cell_type": "markdown",
   "metadata": {},
   "source": [
    "## 5.2 Plot the policy functions\n",
    "\n",
    "Here we'll plot investment policy function as a rate, $\\frac{I}{k}$."
   ]
  },
  {
   "cell_type": "code",
   "execution_count": 14,
   "metadata": {
    "collapsed": false
   },
   "outputs": [
    {
     "data": {
      "text/plain": [
       "<matplotlib.text.Text at 0x1104575f8>"
      ]
     },
     "execution_count": 14,
     "metadata": {},
     "output_type": "execute_result"
    },
    {
     "data": {
      "image/png": "[encoded data removed]",
      "text/plain": [
       "<matplotlib.figure.Figure at 0x110195668>"
      ]
     },
     "metadata": {},
     "output_type": "display_data"
    }
   ],
   "source": [
    "# Plot optimal capital stock rule as a function of firm size\n",
    "fig, ax = plt.subplots()\n",
    "ax.plot(kvec, optK, 'k--', label='Capital Next Period')\n",
    "ax.plot(kvec, kvec, 'k:', label='45 degree line')\n",
    "ax.plot(kvec, (1-delta)*kvec, 'r--', label='Depreciation')\n",
    "# Now add the legend with some customizations.\n",
    "legend = ax.legend(loc='upper left', shadow=True)\n",
    "# The frame is matplotlib.patches.Rectangle instance surrounding the legend.\n",
    "frame = legend.get_frame()\n",
    "frame.set_facecolor('0.90')\n",
    "# Set the fontsize\n",
    "for label in legend.get_texts():\n",
    "    label.set_fontsize('large')\n",
    "for label in legend.get_lines():\n",
    "    label.set_linewidth(1.5)  # the legend line width\n",
    "plt.xlabel('Size of Capital Stock')\n",
    "plt.ylabel('Optimal Choice of Capital Next Period')\n",
    "plt.title('Policy Function, Next Period Capoital - deterministic firm w/ ' +\n",
    "          'adjustment costs')"
   ]
  },
  {
   "cell_type": "code",
   "execution_count": 15,
   "metadata": {
    "collapsed": false
   },
   "outputs": [
    {
     "data": {
      "text/plain": [
       "<matplotlib.text.Text at 0x1105d16a0>"
      ]
     },
     "execution_count": 15,
     "metadata": {},
     "output_type": "execute_result"
    },
    {
     "data": {
      "image/png": "[encoded data removed]",
      "text/plain": [
       "<matplotlib.figure.Figure at 0x1105810f0>"
      ]
     },
     "metadata": {},
     "output_type": "display_data"
    }
   ],
   "source": [
    "# Plot investment rule as a function of firm size\n",
    "fig, ax = plt.subplots()\n",
    "ax.plot(kvec, (optI/kvec), 'k--', label='Investment rate')\n",
    "ax.plot(kvec, (np.ones(sizek)*delta), 'k:', label='Depreciation rate')\n",
    "# Now add the legend with some customizations.\n",
    "legend = ax.legend(loc='upper left', shadow=True)\n",
    "# The frame is matplotlib.patches.Rectangle instance surrounding the legend.\n",
    "frame = legend.get_frame()\n",
    "frame.set_facecolor('0.90')\n",
    "# Set the fontsize\n",
    "for label in legend.get_texts():\n",
    "    label.set_fontsize('large')\n",
    "for label in legend.get_lines():\n",
    "    label.set_linewidth(1.5)  # the legend line width\n",
    "plt.xlabel('Size of Capital Stock')\n",
    "plt.grid()\n",
    "plt.ylabel('Optimal Investment')\n",
    "plt.title('Policy Function, Investment - deterministic firm w/ adjustment ' +\n",
    "          'costs')"
   ]
  },
  {
   "cell_type": "markdown",
   "metadata": {},
   "source": [
    "## 7. References\n",
    "* Stokey, Nancy L. and Robert E. Lucas and Edward C. Prescott, *Recursive Methods in Economic Dynamics*, Harvard University Press (1989)."
   ]
  },
  {
   "cell_type": "code",
   "execution_count": null,
   "metadata": {
    "collapsed": true
   },
   "outputs": [],
   "source": []
  }
 ],
 "metadata": {
  "kernelspec": {
   "display_name": "Python 3",
   "language": "python",
   "name": "python3"
  },
  "language_info": {
   "codemirror_mode": {
    "name": "ipython",
    "version": 3
   },
   "file_extension": ".py",
   "mimetype": "text/x-python",
   "name": "python",
   "nbconvert_exporter": "python",
   "pygments_lexer": "ipython3",
   "version": "3.6.0"
  }
 },
 "nbformat": 4,
 "nbformat_minor": 2
}
