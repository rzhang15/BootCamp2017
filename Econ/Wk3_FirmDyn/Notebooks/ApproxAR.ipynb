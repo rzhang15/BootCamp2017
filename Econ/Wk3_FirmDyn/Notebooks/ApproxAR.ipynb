{
 "cells": [
  {
   "cell_type": "markdown",
   "metadata": {},
   "source": [
    "# Approximating Autoregressive Processes\n",
    "### by [Jason DeBacker](http://jasondebacker.com), July 2017\n",
    "This Jupyter notebook was written using Python 3.6. To execute all the code here, one will need a the Python script `ar1_approx.py` to be located in a directory with the relative path `..\\Code\\`.\n",
    "\n",
    "Consider the AR(1) process given by:\n",
    "\n",
    "$$ ln(z_{t+1}) = \\rho ln(z_{t}) + (1-\\rho)\\mu + \\varepsilon_{t}, $$\n",
    "\n",
    "where $\\varepsilon_{t}\\sim N(0,\\sigma_{\\varepsilon})$.  \n",
    "\n",
    "With such a process, $z$ can take on any value on the real line.  The distribution of $z$ looks like:"
   ]
  },
  {
   "cell_type": "code",
<<<<<<< HEAD
   "execution_count": 1,
=======
   "execution_count": 2,
>>>>>>> upstream/master
   "metadata": {
    "collapsed": false
   },
   "outputs": [
    {
<<<<<<< HEAD
     "name": "stderr",
     "output_type": "stream",
     "text": [
      "/Users/rubyzhang/anaconda/lib/python3.6/site-packages/statsmodels/nonparametric/kdetools.py:20: VisibleDeprecationWarning: using a non-integer number instead of an integer will result in an error in the future\n",
      "  y = X[:m/2+1] + np.r_[0,X[m/2+1:],0]*1j\n"
     ]
    },
    {
     "data": {
      "text/plain": [
       "<matplotlib.axes._subplots.AxesSubplot at 0x10f940518>"
      ]
     },
     "execution_count": 1,
=======
     "data": {
      "text/plain": [
       "<matplotlib.axes._subplots.AxesSubplot at 0x1161241d0>"
      ]
     },
     "execution_count": 2,
>>>>>>> upstream/master
     "metadata": {},
     "output_type": "execute_result"
    },
    {
     "data": {
<<<<<<< HEAD
      "image/png": "iVBORw0KGgoAAAANSUhEUgAAAXIAAAD3CAYAAAAALt/WAAAABHNCSVQICAgIfAhkiAAAAAlwSFlz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\nSZALIYTN/X9VzibsTDgbfgAAAABJRU5ErkJggg==\n",
      "text/plain": [
       "<matplotlib.figure.Figure at 0x1057c1748>"
=======
      "image/png": "iVBORw0KGgoAAAANSUhEUgAAAXIAAAD3CAYAAAAALt/WAAAABHNCSVQICAgIfAhkiAAAAAlwSFlz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\n0gAAAABJRU5ErkJggg==\n",
      "text/plain": [
       "<matplotlib.figure.Figure at 0x10e86e400>"
>>>>>>> upstream/master
      ]
     },
     "metadata": {},
     "output_type": "display_data"
    }
   ],
   "source": [
    "# import packages\n",
    "import matplotlib.pyplot as plt\n",
    "import seaborn as sns\n",
    "import numpy as np\n",
    "\n",
    "# to print plots inline\n",
    "%matplotlib inline\n",
    "\n",
    "# set our parameters\n",
    "rho = 0.8\n",
    "mu = 0.0\n",
    "sigma_eps = 0.2\n",
    "\n",
    "# draw our shocks\n",
    "num_draws = 100000 # number of shocks to draw\n",
    "eps = np.random.normal(0.0, sigma_eps, size=(num_draws))\n",
    "\n",
    "# Compute z\n",
    "z = np.empty(num_draws)\n",
    "z[0] = 0.0 + eps[0]\n",
    "for i in range(1, num_draws):\n",
    "    z[i] = rho * z[i - 1] + (1 - rho) * mu + eps[i]\n",
    "    \n",
    "\n",
    "# plot distribution of z\n",
    "# sns.distplot(z, hist=False)\n",
    "sns.kdeplot(np.array(z), bw=0.5)"
   ]
  },
  {
   "cell_type": "markdown",
   "metadata": {},
   "source": [
    "The distribution of $z$ should have variance = $\\sigma_{z}^{2} = \\frac{\\sigma_{\\epsilon}^{2}}{(1-\\rho)}$.  Let's check: "
   ]
  },
  {
   "cell_type": "code",
<<<<<<< HEAD
   "execution_count": 2,
=======
   "execution_count": 3,
>>>>>>> upstream/master
   "metadata": {
    "collapsed": false
   },
   "outputs": [
    {
     "name": "stdout",
     "output_type": "stream",
     "text": [
      "Theoretical sigma_z =  0.3333333333333334\n",
<<<<<<< HEAD
      "Simulated sigma_z =  0.331337229651\n"
=======
      "Simulated sigma_z =  0.332545794167\n"
>>>>>>> upstream/master
     ]
    }
   ],
   "source": [
    "# theory says:\n",
    "sigma_z = sigma_eps / ((1 - rho ** 2) ** (1 / 2))\n",
    "print('Theoretical sigma_z = ', sigma_z)\n",
    "\n",
    "# from our simulation:\n",
    "sigma_z_simul = z.std()\n",
    "print('Simulated sigma_z = ', sigma_z_simul)"
   ]
  },
  {
   "cell_type": "markdown",
   "metadata": {},
   "source": [
    "Pretty close.  And it will get closer as you increae `N`.  \n",
    "\n",
    "For the computational solution to our dynamic programming problem, we'll want to approximate this continuous distribution with something over a finite grid.  There are a number of methods to do this (see Adda and Cooper (2003, pp. 56-59), Tauchen and Hussey (1991), and Rouwenhorst (1995) for some approaches).  What all of these approaches have in common is that they approximate the autoregressive process with a Markov process (technically a Markov chain, since it's over a finite grid). Generally, the approach is to divide the real line over which $z$ is defined into a finite set of intervals.  These approaches then compute the probabilities of transitioning between one interval and another to match the autoregressive processs.\n",
    "\n",
    "## 1. Adda-Cooper (2003) method\n",
    "\n",
    "Let us illustrate the general approach of these approximation methods through the Adda and Cooper (2003, pp. 56-59) (henceforth AC) method.  \n",
    "\n",
    "AC start by dividing the real line into intervals.  In particular, they divide the real line into intervals such that $z_{t}$ has an equal probability of falling into any of the intervals.  Since $\\varepsilon$ is distributed normally, the cut-off points given by $\\left\\{z^{i}\\right\\}_{i=0}^{N}$ for these intervals are defined by:\n",
    "\n",
    "$$ \\Phi\\left(\\frac{z^{i+1}-\\mu}{\\sigma_{z}}\\right) - \\Phi\\left(\\frac{z^{i}-\\mu}{\\sigma_{z}}\\right) = \\frac{1}{N}, $$\n",
    "\n",
    "where $N$ are the number of grid points in our discretized grid space and $\\Phi(\\cdot)$ is the cumulative density function of the standard normal distribution.  Solving this recursively we find that each cut-off point is given by:\n",
    "\n",
    "$$ z^{i} = \\sigma_{z} \\Phi^{-1}\\left(\\frac{i-1}{N}\\right) + \\mu $$ "
   ]
  },
  {
   "cell_type": "code",
<<<<<<< HEAD
   "execution_count": 3,
=======
   "execution_count": 4,
>>>>>>> upstream/master
   "metadata": {
    "collapsed": false
   },
   "outputs": [
    {
     "name": "stdout",
     "output_type": "stream",
     "text": [
      "Cut-off values =  [       -inf -0.28054041 -0.08444903  0.08444903  0.28054041         inf]\n"
     ]
    }
   ],
   "source": [
    "# import packages\n",
    "from scipy.stats import norm\n",
    "\n",
    "# Compute cut-off values\n",
    "N = 5  # number of grid points (will have one more cut-off point than this)\n",
    "z_cutoffs = (sigma_z * norm.ppf(np.arange(N + 1) / N)) + mu\n",
    "print('Cut-off values = ', z_cutoffs)"
   ]
  },
  {
   "cell_type": "markdown",
   "metadata": {},
   "source": [
    "Now that we've defined the intervals through these cut-off values, we'll next want to compute the average value of $z$ in each of these intervals.  These values will be our grid points.  Let $z_{p}^{i}$ be grid point $i$ and define $z_{p}^{i}$ as the mean value of $z_{t}$ conditional on $z_{t}\\in\\left[z^{i},z^{i+1}\\right]$.  That is:\n",
    "\n",
    "$$ z_{p}^{i} = E\\left(z_{t}|z_{t}\\in \\left[z^{i},z^{i+1}\\right] \\right) = \\sigma_{z} \\frac{\\phi((z^{i}-\\mu)/\\sigma_z) - \\phi((z^{i+1}-\\mu)/\\sigma_z)}{\\Phi((z^{i+1}-\\mu)/\\sigma_z) - \\Phi((z^{i}-\\mu)/\\sigma_z)} + \\mu $$\n",
    "\n",
    "Simplifying:\n",
    "\n",
    "$$ z_{p}^{i} = N \\sigma_z \\left(\\phi\\left(\\frac{z^{i}-\\mu}{\\sigma_z}\\right) - \\phi\\left(\\frac{z^{i+1}-\\mu}{\\sigma_z}\\right) \\right) + \\mu $$"
   ]
  },
  {
   "cell_type": "code",
<<<<<<< HEAD
   "execution_count": 4,
=======
   "execution_count": 5,
>>>>>>> upstream/master
   "metadata": {
    "collapsed": false
   },
   "outputs": [
    {
     "name": "stdout",
     "output_type": "stream",
     "text": [
      "Grid points =  [-0.4666032  -0.17730102  0.          0.17730102  0.4666032 ]\n"
     ]
    }
   ],
   "source": [
    "# compute grid points for z\n",
    "z_grid = ((N * sigma_z * (norm.pdf((z_cutoffs[:-1] - mu) / sigma_z)\n",
    "                              - norm.pdf((z_cutoffs[1:] - mu) / sigma_z)))\n",
    "              + mu)\n",
    "print('Grid points = ', z_grid)"
   ]
  },
  {
   "cell_type": "markdown",
   "metadata": {},
   "source": [
    "Now we have our grid points.  Next, we need to determine the transitions between these grid points.  We want these transition probabilities to be such they they match the autocorrelation in the AR(1) process we are modeling using a first over Markov process.\n",
    "\n",
    "Define the probability of transitioning between grid point i and grid point j as: \n",
    "\n",
    "$$ \\pi_{i,j} = P\\left( z_{t} \\in \\left[z^{j},z^{j+1} \\right] | z_{t-1} \\in \\left[z^{i},z^{i+1} \\right] \\right) $$\n",
    "\n",
    "Using the fact that $\\varepsilon \\sim N(0,\\sigma_{\\varepsilon})$, we have:\n",
    "\n",
    "$$ \\pi_{i,j} = \\frac{N}{\\sqrt{2\\pi\\sigma_{z}^{2}}} \\int_{z^{i}}^{z^{i+1}} e^{-(\\varepsilon - \\mu)^{2}/(2\\sigma_{z}^{2})} \\left[ \\Phi\\left(\\frac{z^{j+1} - \\mu(1-\\rho) - \\rho\\mu}{\\sigma_{\\varepsilon}}\\right) - \\Phi\\left(\\frac{z^{j} - \\mu(1-\\rho) - \\rho\\mu}{\\sigma_{\\varepsilon}}\\right) \\right] d\\varepsilon $$\n",
    "\n",
    "To find each $\\pi_{i,j}$, we ned to evaluate this integral.  We'll do so numerically."
   ]
  },
  {
   "cell_type": "code",
<<<<<<< HEAD
   "execution_count": 5,
=======
   "execution_count": 6,
>>>>>>> upstream/master
   "metadata": {
    "collapsed": false
   },
   "outputs": [],
   "source": [
    "# import packages\n",
    "import scipy.integrate as integrate\n",
    "\n",
    "# define function that we will integrate\n",
    "def integrand(x, sigma_z, sigma_eps, rho, mu, z_j, z_jp1):\n",
    "    val = (np.exp((-1 * ((x - mu) ** 2)) / (2 * (sigma_z ** 2)))\n",
    "            * (norm.cdf((z_jp1 - (mu * (1 - rho)) - (rho * x)) / sigma_eps)\n",
    "               - norm.cdf((z_j - (mu * (1 - rho)) - (rho * x)) / sigma_eps)))\n",
    "    \n",
    "    return val\n",
    "\n",
    "# compute transition probabilities\n",
    "pi = np.empty((N, N))\n",
    "for i in range(N):\n",
    "    for j in range(N):\n",
    "        results = integrate.quad(integrand, z_cutoffs[i], z_cutoffs[i + 1],\n",
    "                                 args = (sigma_z, sigma_eps, rho, mu,\n",
    "                                         z_cutoffs[j], z_cutoffs[j + 1]))\n",
    "        pi[i,j] = (N / np.sqrt(2 * np.pi * sigma_z ** 2)) * results[0]\n",
    "        \n",
    "# print('Transition matrix = ', pi)\n",
    "# print('pi sums = ', pi.sum(axis=0), pi.sum(axis=1))"
   ]
  },
  {
   "cell_type": "markdown",
   "metadata": {},
   "source": [
    "We've now found \n",
    "\n",
    "$$ \\pi_{i,j} = P(z_{t}=z_{p}^{j}|z_{t-1}=z_{p}^{i}) $$\n",
    "\n",
    "Let's see how well this Markov process approximates the AR(1) above..."
   ]
  },
  {
   "cell_type": "code",
<<<<<<< HEAD
   "execution_count": 6,
=======
   "execution_count": 7,
>>>>>>> upstream/master
   "metadata": {
    "collapsed": false
   },
   "outputs": [
    {
<<<<<<< HEAD
     "name": "stderr",
     "output_type": "stream",
     "text": [
      "/Users/rubyzhang/anaconda/lib/python3.6/site-packages/statsmodels/nonparametric/kdetools.py:20: VisibleDeprecationWarning: using a non-integer number instead of an integer will result in an error in the future\n",
      "  y = X[:m/2+1] + np.r_[0,X[m/2+1:],0]*1j\n"
     ]
    },
    {
     "data": {
      "text/plain": [
       "<matplotlib.axes._subplots.AxesSubplot at 0x1132d3d30>"
      ]
     },
     "execution_count": 6,
=======
     "data": {
      "text/plain": [
       "<matplotlib.axes._subplots.AxesSubplot at 0x11670b0b8>"
      ]
     },
     "execution_count": 7,
>>>>>>> upstream/master
     "metadata": {},
     "output_type": "execute_result"
    },
    {
     "data": {
<<<<<<< HEAD
      "image/png": "iVBORw0KGgoAAAANSUhEUgAAAW8AAAD3CAYAAADSftWOAAAABHNCSVQICAgIfAhkiAAAAAlwSFlz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\nJpZJAAAAAElFTkSuQmCC\n",
      "text/plain": [
       "<matplotlib.figure.Figure at 0x113297b38>"
=======
      "image/png": "iVBORw0KGgoAAAANSUhEUgAAAW8AAAD3CAYAAADSftWOAAAABHNCSVQICAgIfAhkiAAAAAlwSFlz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\n",
      "text/plain": [
       "<matplotlib.figure.Figure at 0x10886be10>"
>>>>>>> upstream/master
      ]
     },
     "metadata": {},
     "output_type": "display_data"
    }
   ],
   "source": [
    "# Simulate the Markov process - will make this a function so can call later\n",
    "def sim_markov(z_grid, pi, num_draws):\n",
    "    # draw some random numbers on [0, 1]\n",
    "    u = np.random.uniform(size=num_draws)\n",
    "\n",
    "    # Do simulations\n",
    "    z_discrete = np.empty(num_draws)  # this will be a vector of values \n",
    "    # we land on in the discretized grid for z\n",
    "    N = z_grid.shape[0]\n",
    "    oldind = int(np.ceil((N - 1) / 2)) # set initial value to median of grid\n",
    "    z_discrete[0] = z_grid[oldind]  \n",
    "    for i in range(1, num_draws):\n",
    "        sum_p = 0\n",
    "        ind = 0\n",
    "        while sum_p < u[i]:\n",
    "            sum_p = sum_p + pi[ind, oldind]\n",
    "#             print('inds =  ', ind, oldind)\n",
    "            ind += 1\n",
    "        if ind > 0:\n",
    "            ind -= 1\n",
    "        z_discrete[i] = z_grid[ind]\n",
    "        oldind = ind\n",
    "                            \n",
    "    return z_discrete\n",
    "\n",
    "\n",
    "# Call simulation function to get simulated values\n",
    "z_discrete = sim_markov(z_grid, np.transpose(pi), num_draws)\n",
    "                            \n",
    "                            \n",
    "# Plot AR(1) and Markov approximation\n",
    "sns.distplot(z_discrete, hist=True, kde=False, norm_hist=True)\n",
    "sns.kdeplot(np.array(z), bw=0.5)"
   ]
  },
  {
   "cell_type": "markdown",
   "metadata": {},
   "source": [
    " ## 2.  Comparing methods\n",
    "    \n",
    "Working through the Adda-Cooper method was illustrative of how these approximations work.  Now let's compare across a few methods.  "
   ]
  },
  {
   "cell_type": "code",
<<<<<<< HEAD
   "execution_count": 7,
=======
   "execution_count": 8,
>>>>>>> upstream/master
   "metadata": {
    "collapsed": false
   },
   "outputs": [
    {
<<<<<<< HEAD
     "name": "stderr",
     "output_type": "stream",
     "text": [
      "/Users/rubyzhang/anaconda/lib/python3.6/site-packages/statsmodels/nonparametric/kdetools.py:20: VisibleDeprecationWarning: using a non-integer number instead of an integer will result in an error in the future\n",
      "  y = X[:m/2+1] + np.r_[0,X[m/2+1:],0]*1j\n"
     ]
    },
    {
     "data": {
      "text/plain": [
       "<matplotlib.axes._subplots.AxesSubplot at 0x1134e69e8>"
      ]
     },
     "execution_count": 7,
=======
     "data": {
      "text/plain": [
       "<matplotlib.axes._subplots.AxesSubplot at 0x11664d208>"
      ]
     },
     "execution_count": 8,
>>>>>>> upstream/master
     "metadata": {},
     "output_type": "execute_result"
    },
    {
     "data": {
<<<<<<< HEAD
      "image/png": "iVBORw0KGgoAAAANSUhEUgAAAWkAAAD3CAYAAADfYKXJAAAABHNCSVQICAgIfAhkiAAAAAlwSFlz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\nzJKWpIRZ0pKUMEtakhJmSUtSwv4/6jKIbIXbZN8AAAAASUVORK5CYII=\n",
      "text/plain": [
       "<matplotlib.figure.Figure at 0x112e3c6d8>"
=======
      "image/png": "iVBORw0KGgoAAAANSUhEUgAAAWkAAAD3CAYAAADfYKXJAAAABHNCSVQICAgIfAhkiAAAAAlwSFlz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\n",
      "text/plain": [
       "<matplotlib.figure.Figure at 0x10886bf98>"
>>>>>>> upstream/master
      ]
     },
     "metadata": {},
     "output_type": "display_data"
    }
   ],
   "source": [
    "# import module with Markov approximation methods\n",
    "import sys\n",
    "sys.path.append('../Code')\n",
    "import ar1_approx as ar1\n",
    "\n",
    "# Use Rouwenhorst (1995) method\n",
    "N = 11\n",
    "num_sigma = 4\n",
    "step = (num_sigma * sigma_z) / (N / 2)\n",
    "pi_R, z_grid_R = ar1.rouwen(rho, mu, step, N)\n",
    "z_discrete_R = sim_markov(z_grid_R, pi_R, num_draws)\n",
    "\n",
    "# Plot AR(1) and Markov approximation\n",
    "sns.distplot(z_discrete_R, hist=True, kde=False, norm_hist=True)\n",
    "sns.kdeplot(np.array(z), bw=0.5)"
   ]
  },
  {
   "cell_type": "code",
<<<<<<< HEAD
   "execution_count": 8,
=======
   "execution_count": 9,
>>>>>>> upstream/master
   "metadata": {
    "collapsed": false
   },
   "outputs": [
    {
<<<<<<< HEAD
     "name": "stderr",
     "output_type": "stream",
     "text": [
      "/Users/rubyzhang/anaconda/lib/python3.6/site-packages/statsmodels/nonparametric/kdetools.py:20: VisibleDeprecationWarning: using a non-integer number instead of an integer will result in an error in the future\n",
      "  y = X[:m/2+1] + np.r_[0,X[m/2+1:],0]*1j\n"
     ]
    },
    {
     "data": {
      "text/plain": [
       "<matplotlib.axes._subplots.AxesSubplot at 0x1137a74e0>"
      ]
     },
     "execution_count": 8,
=======
     "data": {
      "text/plain": [
       "<matplotlib.axes._subplots.AxesSubplot at 0x108885748>"
      ]
     },
     "execution_count": 9,
>>>>>>> upstream/master
     "metadata": {},
     "output_type": "execute_result"
    },
    {
     "data": {
<<<<<<< HEAD
      "image/png": "iVBORw0KGgoAAAANSUhEUgAAAWkAAAD3CAYAAADfYKXJAAAABHNCSVQICAgIfAhkiAAAAAlwSFlz\nAAALEgAACxIB0t1+/AAAFXRJREFUeJzt3WuMXOd93/Hv7MzsfXY5FGdXpEiRFEU9EiWGVChVUdwo\nalA5TmsndZr4hRHDl7aBixaIE7R25dovCiQIiiZoAyRG0tiy3RZGg9hx7DpVq9aKYquxHF1ISmSk\nh+ZNIlcUd0XuLvfKvU1f7EUUyd0dkjs7zyy/H4DYOTPPOc//Tw5/OHvmnDOZcrmMJClNDbUuQJK0\nOENakhJmSEtSwgxpSUqYIS1JCcut9Ab7+oYqOl2kWGylv390paevqbXWk/2kzX7Sdq39lEqFzNWe\nr9medC6XrdXUVbPWerKftNlP2laqHw93SFLCDGlJSpghLUkJM6QlKWGGtCQlzJCWpIQZ0pKUMENa\nkhJmSEtSwgxp3fSeOdDDMwd6al2GdFWGtCQlzJCWpIQZ0pKUsBW/ValUC5ceU3507201rERaWe5J\nS1LClt2TDiF8DPjY3GIzsBe4NcY4UL2yJElQQUjHGL8CfAUghPAHwBMGtCStjooPd4QQHgDujTH+\n5yrWI0m6xLV8cPhZ4N8tN6hYbK34a2NKpcI1TF8f1lpP9dJPob154fFSNV/ttfl166XXS9VjzUux\nnytVFNIhhHVAiDH+5XJjK/3ixVKpQF/fUEVj68Va66me+hkaHl94vFjNi/Uzv2699Dqvnv59KnGz\n97NYoFd6uOMR4LsVzyZJWhGVhnQAjlezEEnSlSo63BFj/A/VLkSSdCUvZpGkhBnSkpQwQ1qSEmZI\nS1LCDGlJSpghLUkJM6QlKWGGtCQlzJCWpIQZ0pKUMENakhJmSEtSwgxpSUqYIS1JCTOkJSlhhrQk\nJcyQlqSEGdKSlDBDWpISZkhLUsIMaUlKWEXfFh5CeBz4eaAR+EKM8UtVrUqSBFSwJx1CeBT4SeA9\nwE8DW6pckyRpTiV70j8LvAJ8E+gA/vVSg4vFVnK5bEWTl0qFisbVk7XWU730U2hvXni8VM1Xe21+\n3Xrp9VL1WPNS7OdKlYT0BmAr8H5gO/DtEMLdMcby1Qb3949WNHGpVKCvb6jSOuvCWuupnvoZGh5f\neLxYzYv1M79uvfQ6r57+fSpxs/ezWKBXEtLngNdijBNADCGMAyWgt+LZJUnXpZKzO54F3hdCyIQQ\nNgFtzAa3JKnKlg3pGON3gP3A3wD/A/gXMcbpahcmSarwFLwY46erXYgk6UpezCJJCTOkJSlhhrQk\nJcyQlqSEGdKSlDBDWpISZkhLUsIMaUlKmCEtSQkzpCUpYYa0JCXMkJakhBnSkpQwQ1qSEmZIS1LC\nDGlJSpghLUkJM6QlKWGGtCQlzJCWpIRV9EW0IYSXgAtziydijB+vXkmSpHnLhnQIoRnIxBgfrX45\nkqRLVbInvQdoDSE8NTf+szHG56pbliQJKgvpUeB3gC8CO4EnQwghxjh1tcHFYiu5XLaiyUulQqV1\n1o211lO99FNob154vFTNV3ttft166fVS9VjzUuznSpWE9BHgaIyxDBwJIZwDNgKnrja4v3+0oolL\npQJ9fUOV1lkX1lpP9dTP0PD4wuPFal6sn/l166XXefX071OJm72fxQK9krM7PgH8LkAIYRPQAZyp\neGZJ0nWrZE/6S8BXQgjPAmXgE4sd6pAkraxlQzrGOAF8eBVqkSRdxotZJClhhrQkJcyQlqSEGdKS\nlDBDWpISZkhLUsIMaUlKmCEtSQkzpCUpYYa0JCXMkJakhBnSkpQwQ1qSEmZIS1LCDGlJSpghLUkJ\nM6QlKWGGtCQlzJCWpIQZ0pKUsEq+LZwQQhfwIvBYjPG16pYkSZq37J50CCEP/BEwVv1yJEmXqmRP\n+neAPwQer3It0oJnDvQA8Oje22pcyZXma4M069PasmRIhxA+BvTFGP93CKGikC4WW8nlshVNXioV\nKhpXT9ZaT7Xqp9DefE3zz49fbp2rvVatuVZDredfafZzpeX2pD8BlEMIfx/YC/yXEMLPxxjfWmyF\n/v7RiiYulQr09Q1VXGg9WGs91bKfoeFxgIrnnx+/1DqL9VONuVaD77e0XWs/iwX6kiEdY3xk/nEI\n4Rngk0sFtCRpZXkKniQlrKJT8ABijI9WsQ5J0lW4Jy1JCTOkJSlhhrQkJcyQlqSEGdKSlDBDWpIS\nZkhLUsIMaUlKmCEtSQkzpCUpYYa0JCXMkJakhBnSkpQwQ1qSEmZIS1LCDGlJSpghLUkJM6QlKWGG\ntCQlzJCWpIQt+0W0IYQs8MdAAMrAJ2OMh6pdmCSpsj3pDwDEGN8DfA74rapWJElasGxIxxj/HPjV\nucWtwEBVK5IkLVj2cAdAjHEqhPBV4IPALy01tlhsJZfLVjR5qVSoaFw9WWs91aqfQnvzNc0/P365\nda72WrXmWg21nn+l2c+VKgppgBjjR0MInwF+GELYFWMcudq4/v7RirZXKhXo6xuqdPq6sNZ6qmU/\nQ8PjABXPPz9+qXUW66cac60G329pu9Z+Fgv0ZQ93hBA+EkJ4fG5xFJiZ+yNJqrJK9qT/DPhyCOF7\nQB74VIxxrLplSZKggpCeO6zxoVWoRZJ0GS9mkaSEGdKSlDBDWpISZkhLUsIMaUlKmCEtSQkzpCUp\nYYa0JCXMkJakhBnSkpQwQ1qSEmZIS1LCDGlJSpghLUkJM6QlKWGGtCQlzJCWpIQZ0pKUMENakhJm\nSEtSwgxpSUrYkt8WHkLIA08A24Am4DdjjN9ehbokSSy/J/0rwLkY408B7wN+v/olSZLmLbknDfwp\n8PW5xxlgarkNFout5HLZiiYvlQoVjasna62nWvVTaG++pvnnxy+3ztVeq9Zcq6HW8680+7nSkiEd\nYxwGCCEUmA3rzy23wf7+0YomLpUK9PUNVTS2Xqy1nmrZz9DwOEDF88+PX2qdxfqpxlyrwfdb2q61\nn8UCfdkPDkMIW4C/BP5rjPFrFc8oSbphy31w2A08BfzLGON3V6ckSdK85Y5JfxYoAp8PIXx+7rmf\nizGOVbcsSRIsf0z614BfW6VaJEmX8WIWSUqYIS1JCTOkJSlhhrQkJcyQlqSEGdKSlDBDWpISZkhL\nUsIMaUlKmCEtSQkzpCUpYYa0JCXMkJakhBnSkpQwQ1qSEmZIS1LCDGlJSpghrap65kAPzxzoqXUZ\nUt0ypCUpYYa0tIr8zULXqqKQDiE8FEJ4psq1SJIus+S3hQOEED4NfAQYqX45kqRLVbInfQz4xWoX\nIkm60rJ70jHGb4QQtlW6wWKxlVwuW9HYUqlQ6Wbrxlrr6Ub7KbQ3X9d2rnW9+fHLrXO116o111Lr\nrtT7xPdb2lain2VD+lr1949WNK5UKtDXN7TS09fUWutpJfoZGh4HuObtXOt68+OXWmexfqox13Lr\nrsT7xPdb2q61n8UC3bM7JClhhrQkJayiwx0xxpPAT1S3FEnS5dyTlqSEGdKSlDBDWpIStuKn4Emr\nbaY8w/D0AKMzQ4zNDPPU60cYvHiBwYkhpmamKJdnmC7PkMs3MDkxTUu+hbZ8K+35NtryrfRcnKKQ\nLTIx3UVjNl/rdqR3MaRVV2bKM/QMv8XrF97g9PAZeobfpGf4DBenJ94ZdOz6tv1//yrD+uYit7Z1\nsbl9EzvWbWN7x1Za8y0rU7x0HQxpJa1cLnNm5CxH+o9xZOAYR/uPMzL1zgVTDZkGultL5CfX0d6w\njpaGNh6883Y6mzrobOwg35CnIdMwO66rk76+C4xOjTE8McLI5CgjkyM8f/wNLkyfJ9sywlsjvRw+\n9xqHz70Gr0OGDJvab2VH5zZC8U7uXr+zhn8buhkZ0kpOuVxmYKqPUxNHePoHxzg33r/w2i3NRXaX\ndrGjcxub2zexsa2bfDb/rtt/7t5w21W3m2vIkmvI0dFYoKPxnau7Bt5cD8Cje2fXG54c4Y0Lpzk2\neJJjAyc4eeEUPcNn+F7PD8hmstyS3cjG/HY2Nm4Hrj6XtFIMaSXjrZGzvHj2IC/2HuTsaB8Azdkm\nHujeSyju5K7iDja0rK96He35NnbdEth1SwBgamaKN4Z6+NtzkcPnXuWNodP0Tp3m4Nj3OfjDbvZ1\n7eHHu/fQ3Vqqem26+RjSqqm3x84tBHPP8BkA8g15NjfuZEvjXXxo30/W/MO8XEOOOzq3ckfnVt5/\nx3t58qUjvDV5kjcnjtM79gbfOfEU3znxFJvbN80F9o+xoeWWmtastcOQ1qrrHx/gpd6XefHsQV4f\nOgVANpNl94ZdPNC1h/s27OK5Q28D1Dygr6aloY3tTfeyveleHrrvFl7uO8xLvQd59fyP+NbxJ/nW\n8SfZWtjCvu497Ovew7qmzlqXrDpmSGtVXJgYYn/vK7x49gDHBk8Csx/63bP+LvZ172XPhnvr8iyK\nllwzD23cx0Mb9zE6OcrBvsO82HuQ2H+U14dO8c2jf8HO4g4e7L6f+7vuq3W5qkOGtKpmZHKU4+OH\nODVxhK8/e5oyZTJk2LnuDvZ172Vv6T4Kje21LnPFtOZbeXjTgzy86UGGJobZ3/sKz5/dz5H+oxzp\nP8qfHPkm3dmt3N4UmJzuIp/gbwlKjyGtFTU2Nc7Lc3uTr54/wkx5BoDtHVvZ172H+7t23xS//hca\n23lk88M8svlhzo2d54WzB3j+7H56Ro7RM3mM/c8+zd6u+3iw+37uKu6gIePFv7o6Q1o3bHRyjEPn\nXuVA7yscPh+ZmpkCYEv7JtZNb2dL4138w3331LjK2rmlZT0/u+1neO/Wv8e3XjzIGxOR3vIxnjvz\nAs+deYHOxgL7uvfy410/xtaOLQa23sWQ1nUZmhjm5b7DHOg7ROw/ynR5GoBbW7t4oHvvwilpl56/\nfLPLZDKsy5VYlyvxyJ5f5tjASZ4/u5/9vS/z9Knv8/Sp79PZWGB36V72bLiXu4o7yDX4X/Rm5ztA\nFesdfZvD517jYN8hjg6coEwZmN1j3lPazZ7SvWxs6yaTydS40vQ1ZBrYWbyDncU7+NBdv8Cr549w\noO8Qr7z9tzzb8xzP9jxHc7aZ+zbczZ7Sfdyz/i5acs3Lb1hrjiGtRY1OjnGw7zCvnj/Cq+cib4+f\nB2Yvld7euZW9pfvYU7pvVS4wWctyDTl2b9jF7g27mJ6Z5vjgSQ6+fZiDfYd54ewBXjh7gIZMA9s6\nbufu9Tu5Z/1Otha21LpsrRJDWguGJoY5NnCCo4MnODZwktPDby588NecbWbv3B7d7g276GzqqHG1\na1O2IcvO4g52Fnfwj+/8AKeHz3Cw7xCvnj/CicHXOT54kv954v/QnG3mnq472dyymR2dW9nasYXG\nbGOty1cVGNI3qdHJMU4N9fDG0GlODfVwaqiH3rG3F17PZrLsXL+N7YXt7Fof2NaxhWxDtoYV33wy\nmQxbCpvYUtjE++94L6OToxzpP8ar/T8inv8R+88cYj+HgNnDJ1sKt3F7YTNb2jexubCJTW23eprf\nGmBIr2HTM9NcmBji7bHzvDXay9mRXt4a7eWtkV76Lw68a2xLroV71t/Fjs7t3LluG1s7bueVExcY\nujDOjju8iVAKWvOt7O3azcCb69nY8hCPPbaRvzl+mOODJzk2eJJTQz28fuHUwvj5OwR2t3bN/SzR\n3Vai1LKB1lyLnx3UiWVDOoTQAHwB2ANcBP5pjPFotQvT4qZnphmdGmNkcoThudttXpgY4vz4AP3j\nA7M/Lw4wcHFw4XDFpTobO7i7uJPbOzbP7X3dxi3N6/1PW2fWtXRyf9du7u/aDcDk9CRnRs5yariH\n00NvcnruXttnRs5esW5jQ55i8zrWNXVSbFpHsbmTdU2zf9rybbTlW2jLt9GSa/aUwBqrZE/6HwHN\nMcaHQwg/Afwu8AsrXchMeYbRybGFMwbmzS+Xy+88c+nzC8+WK13vsuXypeMvG1NeZJ1F5hzLX+D8\n8AgwG6TT5WmmyzPMlKeZnplZWJ4uTzMzM/94hunyFBenJ5iYnmBienLh8cWZuZ/TF5mYnmB0apyR\nyVHGpsau+Pu7VIYMnU0dbOvYQrFpHeubi3S3dXFraxe3tpVoydXf5ddaXj6b5/aOzdzesXnhuXK5\nzODEBc6O9HF2tI/e0T7eHj/HwPgg/RcHF+42uJgMGVpzs99k05JvoSnbRFM2T2NDI/lsnqZsI40N\njTRm8zTOPc435GjINJBtyM7+zGTJzv9saKBhbnn+tUwmQ4YMFxuH6R8ZmZsVyMz9ZPb12X2IS57L\nzL2SeWfUpc/fiOtZf/7vYKVVEtJ/F/hfADHG50IID6x4FcCXD3+Nl3pfrsam14R8Q57WXDPFpk42\nt2+kLd9Ge751bq+nlUJjO+ubixSb1rGuqcPjxwLmzs2e20MO6++84vWJ6UkGLg4ycHGA/vFBBi9e\nYGRqlJHJUUYnRxmeHGV0bvn8eD9Tc+fD60q5hhz/9u/8Ol0rfMvazOV7g5cLIXwR+EaM8cm55TeA\nO2KMUytaiSTpCpUcbLoAFC5ZbjCgJWl1VBLS/w/4BwBzx6RfqWpFkqQFlRyT/ibwWAjhr4EM8PHq\nliRJmrfsMWlJUu14AqQkJcyQlqSEGdKSlLCa3bsjhNAGfA0oAhPAR2OMdXuH+BBCJ/DfgA6gEfiN\nGOMPalvVjQshfBD45Rjjh2tdy/VYq7c1CCE8BPz7GOOjta7lRoUQ8sATwDagCfjNGOO3a1rUDQgh\nZIE/BgKzFyh/MsZ46Hq3V8s96X8GvBhjfITZcPt0DWtZCb8BfDfG+NPAx4A/qG05Ny6E8HvAb1Pf\nv3Et3NYA+DfM3tagroUQPg18EVgr3wLwK8C5GONPAe8Dfr/G9dyoDwDEGN8DfA74rRvZWM3+88UY\n/xPvFH87MLDE8HrwH4E/mnucA8ZrWMtK+Wvgn9e6iBv0rtsaAFW5rcEqOwb8Yq2LWEF/Cnx+7nEG\nqOuL5WKMfw786tziVm4w21blcEcI4Z8Av37Z0x+PMT4fQnga2A08thq1rIRl+rmV2d8MPrX6lV2f\nJfr5kxDCozUoaSV1AIOXLE+HEHL1fNVsjPEbIYRtta5jpcQYhwFCCAXg68zufda1GONUCOGrwAeB\nX7qRba1KSMcYvwR8aZHXfiaEcDfwF8CO1ajnRi3WTwhhN/DfgX8VY/yrVS/sOi3177MGeFuDOhBC\n2MLshXNfiDF+rdb1rIQY40dDCJ8BfhhC2BVjHLme7dTscEcI4fEQwkfmFoeBur69VghhF7O/tn14\n/mZUSoK3NUhcCKEbeAr4TIzxiVrXc6NCCB8JITw+tzgKzMz9uS61/GaWJ4Cvzv2qnaX+Lzf/bWY/\nyPm9EALAYIxxxe+7rWvmbQ3S91lmz/L6fAhh/tj0z8UYl75xerr+DPhyCOF7QB741I304mXhkpSw\nej61SpLWPENakhJmSEtSwgxpSUqYIS1JCTOkJSlhhrQkJez/A+0Wp7ll+gPOAAAAAElFTkSuQmCC\n",
      "text/plain": [
       "<matplotlib.figure.Figure at 0x112e41d68>"
=======
      "image/png": "iVBORw0KGgoAAAANSUhEUgAAAWkAAAD3CAYAAADfYKXJAAAABHNCSVQICAgIfAhkiAAAAAlwSFlz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\nSUqYIS1JCfv/xOa9iMWNNGAAAAAASUVORK5CYII=\n",
      "text/plain": [
       "<matplotlib.figure.Figure at 0x11661f908>"
>>>>>>> upstream/master
      ]
     },
     "metadata": {},
     "output_type": "display_data"
    }
   ],
   "source": [
    "# Use Tauchen and Hussey (1991) method\n",
    "wgt = 0.5 + rho / 4\n",
    "baseSigma = wgt * sigma_eps + (1 - wgt) * sigma_z \n",
    "N_TH = 8\n",
    "z_grid_TH, pi_TH = ar1.tauchenhussey(N_TH, mu, rho, sigma_eps, baseSigma)\n",
    "z_discrete_TH = sim_markov(z_grid_TH[0], np.transpose(pi_TH), num_draws)\n",
    "\n",
    "# Plot AR(1) and Markov approximation\n",
    "sns.distplot(z_discrete_TH, hist=True, kde=False, norm_hist=True)\n",
    "sns.kdeplot(np.array(z), bw=0.5)"
   ]
  },
  {
   "cell_type": "markdown",
   "metadata": {},
   "source": [
    "One caution here, if `N>8`, the results get a bit weird with represted values for in the $z$ grid and an asymetric distribution when simulated.  I'm not sure why grid points are repeated in thh $z$ grid, but I will look into this."
   ]
  },
  {
   "cell_type": "code",
<<<<<<< HEAD
   "execution_count": 9,
=======
   "execution_count": 10,
>>>>>>> upstream/master
   "metadata": {
    "collapsed": false
   },
   "outputs": [
    {
<<<<<<< HEAD
     "name": "stderr",
     "output_type": "stream",
     "text": [
      "/Users/rubyzhang/anaconda/lib/python3.6/site-packages/statsmodels/nonparametric/kdetools.py:20: VisibleDeprecationWarning: using a non-integer number instead of an integer will result in an error in the future\n",
      "  y = X[:m/2+1] + np.r_[0,X[m/2+1:],0]*1j\n"
     ]
    },
    {
     "data": {
      "text/plain": [
       "<matplotlib.axes._subplots.AxesSubplot at 0x113a75f98>"
      ]
     },
     "execution_count": 9,
=======
     "data": {
      "text/plain": [
       "<matplotlib.axes._subplots.AxesSubplot at 0x11703bcc0>"
      ]
     },
     "execution_count": 10,
>>>>>>> upstream/master
     "metadata": {},
     "output_type": "execute_result"
    },
    {
     "data": {
<<<<<<< HEAD
      "image/png": "iVBORw0KGgoAAAANSUhEUgAAAXIAAAD4CAYAAADxeG0DAAAABHNCSVQICAgIfAhkiAAAAAlwSFlz\nAAALEgAACxIB0t1+/AAAHN9JREFUeJzt3XuQlPW95/F3T/dcmJkemIHmjlwUvowIyMVbIIoeL9GA\nRmKSDYnJya7HZE+dVIy7a6IVU1tbptxTmxw9WzG10YStLDmeGOMlohiToEYJIgiKgvDlInjhOgzD\nXBnmun/MYJqB7n5geph+xs+rinKe3+Xp70+bj795+unuSGdnJyIiEl55/V2AiIj0joJcRCTkFOQi\nIiGnIBcRCTkFuYhIyCnIRURCLhZkkJkNB9YD17j71qT2RcAPgTZgqbs/kulcVVX1ge93LC8vpqam\nKejwnKf15DatJ7cNtPXA6a0pkYhHUvVl3JGbWT7wc+DoKdofAK4FrgBuN7MRgSoKKBaLZvN0/U7r\nyW1aT24baOuB7K0pyKWVHwP/B9jbo70S2OHuNe7eAqwCLs9KVSIiEljaSytm9vdAlbu/YGZ39+gu\nA2qTjuuBwZkesLy8+LT+L5RIxAOPDQOtJ7dpPbltoK0HsrOmTNfI/yPQaWZXAxcC/8/MbnT3/UAd\nkFxBHDiS6QFP5xpXIhGnqqo+8Phcp/XkNq0ntw209cDprSld4KcNcnf/+FKJmb0MfKs7xAG2AJPN\nrAJooOuyyo8DVSQiIlkT6K6VZGa2BCh194fN7E7gBbqutS919z3ZLlBERNILHOTuvqD7x61JbcuB\n5VmuSUREToPeECQiEnIKchGRkFOQi4iEnIJcQuvlt878tfXezM2F84skU5CLoOCVcFOQy4Dz8lt7\nFMzyiaIgF+ln+p+O9JaCXEQk5BTkklP6aneajcst2jlLrlKQi6Sg4JawUJCLiIScglykF7Rrl1yg\nIBcRCTkFuYhIyCnIRURCTkEuIhJyCnIRkZBTkIuIhJyCXEQk5DJ+Z6eZRYFHAAM6gW+5+6ak/u8C\ntwFV3U3fdHfvg1pFROQUgnz58iIAd59nZguAHwE3JfXPAb7m7uuzX56IiGSS8dKKuz8N3N59OB44\n0mPIHOBuM1tlZndnuT4REckgyI4cd28zs18BNwO39Oj+DfAQUAc8ZWYL3f3ZVOcqLy8mFosGLjCR\niAceGwZaT3rx0qLA50w1Nl5adFJtPdt6zk01J91xphp6u45s0PMt92VjTYGCHMDdv25m3wNeN7Pz\n3b3RzCLAg+5eC2BmzwGzgJRBXlPTFLi4RCJOVVV94PG5TuvJrL6hOfA5U42tb2gGOKGvZ1vPuanm\npDvOVENv19Fber7lvtNZU7rAD/Ji563AWHe/H2gCOrr/AJQBm8ysEmgErgKWBqpKRESyIsjth08C\ns8zsFeAF4A7gZjO7vXsnfg/wEvAqsNndV/RZtSIicpKMO3J3bwS+mKZ/GbAsm0WJiEhwekOQiEjI\nKchFREJOQS4iEnIKchGRkFOQi4iEnIJcRCTkFOQiIiGnIBcRCTkFuYhIyCnIRURCTkEuIhJyCnIR\nkZBTkIuIhJyCXEQk5BTkIiIhpyAXEQk5BbmISMgpyEVEQk5BLiISchm/s9PMosAjgAGdwLfcfVNS\n/yLgh0AbsNTdH+mjWkVE5BSC7MgXAbj7POAHwI+Od5hZPvAAcC1wBXC7mY3ogzpFRCSFjEHu7k8D\nt3cfjgeOJHVXAjvcvcbdW4BVwOVZr1JERFLKeGkFwN3bzOxXwM3ALUldZUBt0nE9MDjducrLi4nF\nooELTCTigceGgdaTXry0KPA5U42NlxadVFvPtp5zU81Jd5ypht6uIxv0fMt92VhToCAHcPevm9n3\ngNfN7Hx3bwTqgOQq4py4Yz9JTU1T4OISiThVVfWBx+c6rSez+obmwOdMNba+oRnghL6ebT3nppqT\n7jhTDb1dR2/p+Zb7TmdN6QI/yIudtwJj3f1+oAno6P4DsAWYbGYVQANdl1V+HKgqERHJiiAvdj4J\nzDKzV4AXgDuAm83sdndvBe7sbn+NrrtW9vRZtSIicpKMO/LuSyhfTNO/HFiezaJERCQ4vSFIRCTk\nFOQiIiGnIBcRCTkFuYhIyCnIRURCTkEuIhJyCnIRkZBTkIuIhJyCXEQk5BTkIiIhpyAXEQk5BbmI\nSMgpyEVEQk5BLiIScgpyEZGQU5CLiIScglxEJOQU5CIiIacgFxEJubTf2Wlm+cBSYAJQCNzn7s8k\n9X8XuA2o6m76prt735QqIiKnkunLl78KVLv7rWZWAbwFPJPUPwf4mruv76sCRUQkvUxB/jjwu+6f\nI0Bbj/45wN1mNhJ4zt3vz/SA5eXFxGLRwAUmEvHAY8NA60kvXloU+JypxsZLi06qrWdbz7mp5qQ7\nzlRDb9eRDXq+5b5srCltkLt7A4CZxekK9B/0GPIb4CGgDnjKzBa6+7PpzllT0xS4uEQiTlVVfeDx\nuU7ryay+oTnwOVONrW9oBjihr2dbz7mp5qQ7zlRDb9fRW3q+5b7TWVO6wM/4YqeZjQNeApa5+6NJ\n7RHgQXc/5O4twHPArEAViYhI1mR6sXME8Efgn9x9ZY/uMmCTmVUCjcBVdL0wKiIiZ1Gma+T3AOXA\nvWZ2b3fbI0CJuz9sZvfQtVs/Bqx09xV9V6qIiJxKpmvk3wG+k6Z/GbAs20WJiEhwekOQiEjIKchF\nREJOQS4iEnIKchGRkFOQi4iEnIJcRCTkFOQiIiGnIBcRCTkFuYhIyCnIRURCTkEuIhJyCnIRkZBT\nkIuIhJyCXEQk5BTkIiIhpyAXEQk5BbmISMgpyEVEQk5BLiIScmm/s9PM8oGlwASgELjP3Z9J6l8E\n/BBoA5a6+yN9V6qIiJxKph35V4Fqd/808Bngp8c7ukP+AeBa4ArgdjMb0VeFiojIqaXdkQOPA7/r\n/jlC1877uEpgh7vXAJjZKuDy7jkplZcXE4tFAxeYSMQDjw0DrSe9eGlR4HOmGhsvLTqptp5tPeem\nmpPuOFMNvV1HNuj5lvuysaa0Qe7uDQBmFqcr0H+Q1F0G1CYd1wODMz1gTU1T4OISiThVVfWBx+c6\nrSez+obmwOdMNba+oRnghL6ebT3nppqT7jhTDb1dR2/p+Zb7TmdN6QI/44udZjYOeAlY5u6PJnXV\nAclnjgNHAlUkIiJZk+nFzhHAH4F/cveVPbq3AJPNrAJooOuyyo/7pEoREUkp0zXye4By4F4zu7e7\n7RGgxN0fNrM7gRfo2tkvdfc9fVeqiIicSqZr5N8BvpOmfzmwPNtFiYhIcHpDkIhIyCnIRURCTkEu\nIhJyCnIRkZBTkIuIhJyCXEQk5BTkIiIhpyAXEQk5BbmISMgpyEVEQk5BLiIScgpyEZGQU5CLiISc\nglxEJOQU5CIiIacgFxEJOQW5iEjIKchFREJOQS4iEnKZvnwZADO7BPhnd1/Qo/27wG1AVXfTN93d\ns1qhiIiklTHIzewu4Fag8RTdc4Cvufv6bBcmIiLBBNmR7wQWA8tO0TcHuNvMRgLPufv9mU5WXl5M\nLBYNXGAiEQ88Ngy0nvTipUWBz5lqbLy06KTaerb1nJtqTrrjTDX0dh3ZoOdb7svGmjIGubs/YWYT\nUnT/BngIqAOeMrOF7v5suvPV1DQFLi6RiFNVVR94fK7TejKrb2gOfM5UY+sbmgFO6OvZ1nNuqjnp\njjPV0Nt19Jaeb7nvdNaULvDP+MVOM4sAD7r7IXdvAZ4DZp3p+URE5MwEerEzhTJgk5lV0nX9/Cpg\naVaqEhGRwE47yM1sCVDq7g+b2T3AS8AxYKW7r8h2gSIikl6gIHf33cCl3T8/mtS+jFO/CCoiImeJ\n3hAkIhJyCnIRkZBTkIuIhJyCXEQk5BTkIiIhpyAXEQk5BbmISMgpyEVEQk5BLiIScgpyEZGQU5CL\niIScglxEJOQU5CIiIacgFxEJOQW5iEjIKchFREJOQS4iEnIKchGRkAsU5GZ2iZm9fIr2RWa2zsxe\nM7N/yHp1IiKSUcYgN7O7gF8ART3a84EHgGuBK4DbzWxEXxQpIiKpBdmR7wQWn6K9Etjh7jXu3gKs\nAi7PZnEiIpJZLNMAd3/CzCacoqsMqE06rgcGZzpfeXkxsVg0cIGJRDzw2DDQetKLlxYFPmeqsfHS\nopNq69nWc26qOemOM9XQ23Vkg55vuS8ba8oY5GnUAckVxIEjmSbV1DQFfoBEIk5VVf3pV5ajtJ7M\n6huaA58z1dj6hmaAE/p6tvWcm2pOuuNMNfR2Hb2l51vuO501pQv83gT5FmCymVUADXRdVvlxL84n\nIiJn4LSD3MyWAKXu/rCZ3Qm8QNe19qXuvifbBYqISHqBgtzddwOXdv/8aFL7cmB5n1QmIiKB6A1B\nIiIhpyAXEQk5BbmISMgpyEVEQk5BLiIScgpyEZGQU5CLiIScglxEJOQU5CIiIacgFxEJOQW5iEjI\nKchFREKuNx9jKxJKja1NHGrdy+q9e6k9VktjWxO7G2uoWbeelmPtFOcXM6SwjH0tHRw5VsrggjIi\nkUh/ly2SkoJcBrzmtmY+bNnOgdb3eWXNQQ40VXV1bD1x3K73Tp676q+/pzS/hPOGTCSvOcGM5mIq\nisr7vmiR06AglwGpo7OdjVWbeG3fG2w5vI22jjYAiqKFVFZMob2plLkTJlJRWE5JfjEbtx/hM5+a\nyMHqOhpbmzhyrJZ1u3aRX9rIB3Uf8VbVJgA2rH6JiWXjmTNiJhePnN2fSxT5mIJcBpT6lgY2H13D\nzuZ3ONb9tYKjS0YypP0cRhVM4qbZM4nmRXn5rT3MGz3m43nvRSOMLhtJ/rGSj9ua9o9gwfQxdHZ2\nUnW0muVvr6Op8CO8Zge76t7n9ztXMCY2mXPrr2NcfPRZX6vIcQpyGRDqWur5w+6VrN67ltaONvIj\nhSwYO49Pjb6YMaWjePmtri+viuYF/+Lv4yKRCMOLh3Fu0QwWXHg9dS31rN2/gVf3rGH30S38z3Vb\nmDZ0Kp+Z8HdMGjw+20sTyUhBLqHW3NbMyg9e4c8fvkJLewtDi8oZlzeDiYXTuHrKhD55zLKCOFef\ncwVXjfs0j61bzb7oO2yu3srm6q1cmLiAm869vk8eVyQVBbmEUltHGzuaN/L8a+toaG0kXlDKzed+\nlnmjL+bVt/eflRryInmMKpjIly+cz44ju/j9zhW8VbWJtw+9y7kFM5jbehOl+SWZTyTSSxmD3Mzy\ngJ8BM4FjwG3uviOp/7vAbUD3rQB80929D2oVAWDHkV38+9Yn2N90kMJoAQsnXsuV4z5NUayw32o6\nb8hE7pz9j7xVtYmnd65g+9G3+O+vbeWGCVdzxdh5Z3RJRySoIDvyzwFF7n6ZmV0K/AS4Kal/DvA1\nd1/fFwWKHNfQ2sjvd6xg9b51RIgwqXA6t190M/GC0v4uDei6lj5r+HSmD6tk6do/sL1lHU/seJa1\nB95kydTPc058bH+XKANUkCCfD/wBwN3XmNncHv1zgLvNbCTwnLvfn+Ua5ROus7OTtfs38OSOZ2lo\nbWRM6Si+bJ/n/V3RnAnxZLG8GFOKZrFk9pU8ueNZXt+/nv/1xk+5ctx8PjvxWgqjBf1dogwwQYK8\nDKhNOm43s5i7t3Uf/wZ4CKgDnjKzhe7+bKqTlZcXE4sF/zUzkYgHHhsGWk968dKiE855uOkIP3/j\n17y5bzOF0QK+OnMxN0y5ilhelMNVu0/5+PHSopNq69nW83FSzUl3nKrtePvEMSP5L2Nu4+3983jk\njUdZ+cErvF29mW/O/QozRlZmPEc26PmW+7KxpiBBXgckP1Le8RA3swjwoLvXdh8/B8wCUgZ5Tfe9\nvUEkEnGqquoDj891Wk9m9Q3NVFXVf7wLf3z7MxxtO0plxRS+bIsZOqiCmuqmE8ae6hzACX0923rO\nTTUn3XGmGo63j4qO5ftz7+D53Sv58wd/4b6//G/mjb6Ym89byKBYUcpz9Jaeb7nvdNaULvCDBPlf\ngUXAb7uvkb+T1FcGbDKzSqARuApYGqgqkRTqWur5961P8vahzRREC/gPtpj5oy8J9eedFEQLuOnc\n65k9fAbLtvyWv+5dy7vV2/jK1FsA3dkivRMkyJ8CrjGz1UAE+IaZLQFK3f1hM7sHeImuO1pWuvuK\nvitXBroPW7az4vWXaWxtYvKQSXy18osMG1TR32Vlzbj4GO6a+21e2P0if3j/RX668RdMLJzGJW1f\nZFBsUH+XJyGVMcjdvQP4Vo/mrUn9y4BlWa5LPmEaWhv5rT/N+oaN5Oflc8vkG7li7KfIiwy8T1qO\n5cX47KRrmZG4gGVbHmNXw2bue/1f+MrUWzh/qPV3eRJCA+9viYTO21Wbue/1n7D+4EYqoiO5++I7\nuHLc/AEZ4snGxUdz19xvc/6gS6hrqeehjb/k37Y8ztG2o/1dmoSM3tkp/aaptYnHtz/D2v0biEWi\n3HTu9eQfPo8RxYn+Lu2sieXFmDboUm684DKWbXmM1fvW8e7hbSyZegvTtDuXgAb2lkdy1ubqrdz3\n+r+wdv8GzomP5fsX38G1468kMsB34akc353fMPEa6lrq+dnGX/Jr7c4lIO3I5aw62tbMk9uXs3rf\nOqKRKIsmXcc15yzQW9jpvnY+8RpmDpvGsi2/5bV969hyeBtLpn6eaUOn9nd5ksMU5HLWbDm8jX/b\n8jtqjh1hbOlovnb+lxhTOqq/y8o5Y7t35y+8/yLP717JzzYu5bJRF7H4vIUU5+vOFjmZglz6XH1L\nA09sX866A2+SF8njhglXc92Eq4jl6emXSjQvyg0Tr2GGducSgP4mSZ/p6OzgtX3reHrHCprajjI+\nPo4vT13MuPiYzJMFOPXu/NJRc1l83kJK8ov7uzzJEQpy6RN7GvbxmD/FztrdFEUL+cKUm7h8zGUD\n/pbCvpC8O//1lt+yZt8bvFP1LgsnXcf8MZfo36koyCW76lrqefa9P7J671o66eTCxHS+MOVGhhQO\n7u/SQm9sfDT/be63eemjVTy/6888tu0pVu1dwxcm38jk8nP7uzzpRwpyyYrW9lZe+nAVL7z/Is3t\nxxhZPJzFkxfqem6WRfOiXH3OFVw0YjbPvPc8a/a9wYNv/pxZw2ewaNJ1n6h78OVvFOTSK+0d7by+\nfwPP7/4zh5trKM0v4Uvn3sC80RfrlsI+NLgwzq2VX+TyMZfx+Lbf8+bBt9lYtYmLR87m+glXD6jP\np5HMFORyRlo72vjTjld5YvPzHG6uIRbp2ileN/4q3SJ3Fo0vG8edc/6RjVWbeW7XH1mz7w3W7t/A\np0ZdxJKSG4H8/i5RzgIFuZyW5rZm1uxbz58+eJkjx2rJz4uxYOw8rhm/QNfB+0leJI9Zw6czMzGN\n9Qc2smLXn1i193Ve27eO2cNncuW4+YwvG9ffZUofUpBLIHsb9vPqntdYu38Dze3HKMjLZ6FdzaeG\nXcbgwoH3rS1hlBfJ46KRs5g9fAZrD7zJy3teZd2BN1l34E0mDZ7AlePmM3PYNF3yGoAU5JJSc9sx\n3jn0Lqv2rmHHkV0ADCkczNXnXMH8MZcyacyoAfeNLQNBNC/KZaPmsmj6Al7dtoGXPlzF5uqtvFe7\nm8EFceaOmMXFI2czNj66v0uVLFGQywla2lvYVL2VDQc2sql6K60drQBMLZ/Mp8dexvShldrRhUQk\nEqGyYgqVFVM40HiQlz9azRsH3mTlh6+w8sNXGF0ykotHzmbW8OkMGzS0v8uVXlCQC1VN1Wyt2cbW\nw9t59/A2WtpbABhePIw5w2dy0YhZjCgZ3s9VSm+MKBnOl+xzLJ68kM3VW1m7fwObDm3h6Z0reHrn\nCkYUJ5g2dCrThk7lvCET9fEJIaP/Wp8wHZ0dHGw6xPt1H7KzdjdbD2+nuvnwx/3DBg1l9vAZzBk+\nkzGlo0L9PZlysvy8GBcmLuDCxAU0tjbx1sF3eKd6C354Oy9++CovfvgqhdECJpaNZ+Lg8UwaPJ6J\ng8/R19DlOAX5AHa07Sj7G6s40HSQfY0H+KDuIz6o30Nze/PHYwbFipiZuICp5ZOZWjGZxKChCu9P\niJL8YuaNuYR5Yy6htb2VHUd2sbl6K+8e3sbWmu1srdkOQIQII0qGM6ZkJKNLRzKqZCSjS0YydFC5\nPh4gR2QMcjPLA34GzKTrC5Zvc/cdSf2LgB8CbcBSd3+kj2qVbp2dnRxrb6GxtYnGtkZqj9VR01xL\nzbEj3f+s4WDTIepaTnwhMkKE4cUJZpSdz/j4OCYMHse40jG65i3kR/OpHDqFyqFTgK7vUN1d+wHv\n1b7Pe7W7eb/+I/Y3HmD9wY0fz4nlxagoGsLQogqGFpUzdFAFQwoHU5pfQryglHhBKaX5JbpMcxYE\n+Tf8OaDI3S8zs0uBnwA3AZhZPvAAcBHQCPzVzJ5x9wN9UezRtmbaO9rppPOE9k466ez829HxthPG\ndJ48p6s9eU6Pc3SeOPakcZ2dJ89JeryOzg7aO9tp7+ygo7ODAx0FVNc0nNje0fXP9s52WtpbaWlv\n4VhHCy3tXX+OtbfS0tFCU2tTV3C3NtLY2kRbZ3vKf08RIlQUDeH8CmNESYIRxcMZWZxgbHwMg2JF\nKeeJHFeaX8IFwyq5YFgl0HVJrqb5CHsb97Ov4QB7GvdxsOkQh5trONi0Le25BsWKiOeXUpxfTGG0\ngKJoIQXRQopihRRGCyiMFlAQLSCWFyMWiRLt/mcsL0YsL0o0EiWWF6WaMupqm4lEup7jkUiECHnk\nRSJJxyf2RT7uS24/1W+cp/4t9FS/nJ56fuZxeZEIxX30iZVBgnw+8AcAd19jZnOT+iqBHe5eA2Bm\nq4DLgcezXeg7h97l52//6qSA/iQZFBtESX4xY4qGUJJfTEmshNL8YsoK4gwpGkx54RDKi4YwpLBM\nuyDJqrxIHkMHVTB0UAXTh51/Ql9zWzPVzTVUHz1MXUs99S2NNLQ2UN/SQENrI/UtDdS3NnC4uSbt\nBuSTYOHE67h+4t9l/byRnjvVnszsF8AT7v589/EHwCR3bzOz+cC33f1L3X3/A/jA3X+R9UpFROSU\ngrxSUQckv3Uvz93bUvTFgSNZqk1ERAIIEuR/BW4A6L5G/k5S3xZgsplVmFkBXZdVXst6lSIiklKQ\nSyvH71qZQdcrAt8AZgOl7v5w0l0reXTdtfJQ35YsIiLJMga5iIjkNt3NLyIScgpyEZGQU5CLiIRc\nTr9rxMxKgEeBcqAF+Lq77+nfqs6cmQ0Gfg2UAQXAne4e+rt8zOxm4AvuvqS/azkTmT6GIqzM7BLg\nn919QX/X0hvd7yBfCkwACoH73P2Zfi2qF8wsCjwCGF1vBv+Wu2/qzTlzfUf+D8B6d7+crgC8q5/r\n6a07gZXufgXw90Do7/Axs38F7if3n0vpfPwxFMD36foYilAzs7uAXwAD4TMZvgpUu/ungc8AP+3n\nenprEYC7zwN+APyotyfM6b987v4gf1vkOYT/zUYPAD/v/jkGNKcZGxargf/c30X00gkfQwHMTT88\nFHYCi/u7iCx5HLi3++cIXR/QF1ru/jRwe/fheLKQazlzacXM/hPw3R7N33D3dWb2IjAduObsV3Zm\nMqxnJF2/Ydxx9is7M2nW85iZLeiHkrKpDKhNOm43s1jSO5hDx92fMLMJ/V1HNrh7A4CZxYHf0bWL\nDbXujzj5FXAzcEtvz5czQe7uvwR+maLvKjObCjwHnHtWCztDqdZjZtOB3wD/1d3/ctYLO0Pp/vsM\nAOk+hkJygJmNA54Cfubuj/Z3Pdng7l83s+8Br5vZ+e7eeKbnyulLK2Z2t5nd2n3YAIT6o9PM7Hy6\nfk1ccvxDyCQnpPsYCulnZjYC+CPwPXdf2t/19JaZ3Wpmd3cfNgEd3X/OWM7syFNYCvyq+9f6KF0f\nDxBm99P14tO/mhlArbvf1L8lCV07vWvMbDV/+xgKyR330HXn2r1mdvxa+fXufrQfa+qNJ4H/a2av\nAPnAHb1di96iLyIScjl9aUVERDJTkIuIhJyCXEQk5BTkIiIhpyAXEQk5BbmISMgpyEVEQu7/A4v9\ncCbTQrcFAAAAAElFTkSuQmCC\n",
      "text/plain": [
       "<matplotlib.figure.Figure at 0x113297978>"
=======
      "image/png": "iVBORw0KGgoAAAANSUhEUgAAAXIAAAD4CAYAAADxeG0DAAAABHNCSVQICAgIfAhkiAAAAAlwSFlz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\n",
      "text/plain": [
       "<matplotlib.figure.Figure at 0x11703b390>"
>>>>>>> upstream/master
      ]
     },
     "metadata": {},
     "output_type": "display_data"
    }
   ],
   "source": [
    "# Use Adda and Cooper (2003) method\n",
    "z_grid_AC, pi_AC = ar1.addacooper(N, mu, rho, sigma_eps)\n",
    "z_discrete_AC = sim_markov(z_grid_AC, np.transpose(pi_AC), num_draws)\n",
    "\n",
    "# Plot AR(1) and Markov approximation\n",
    "sns.distplot(z_discrete_AC, hist=True, kde=False, norm_hist=True)\n",
    "sns.kdeplot(np.array(z), bw=0.5)"
   ]
  },
  {
   "cell_type": "markdown",
   "metadata": {},
   "source": [
    "Three 3 plots are highly illustrative of the approaches these different methods take.  Rouwenhorst (1995) chooses and evenly spaced grid over $z$ and then fits the transition matrix over these points to produced the normal distribution found in the stationary distribution of $z$. Adda and Cooper (2003) break the the real line up into intervals with equal probability density and we see this in the density that results from the Markov process.  Tauchen and Hussey (1991) is somewhat between the other two methods in this repsect.  The grid for $z$ is not evenly spaced, but the probability density of any particular grid point varies in the stationary distribution.\n",
    "\n",
    "Also notice how the range of values in the $z$ grid changes across methods.  The Rouwenhorst (1995) and Tauchen and Hussey (1991) methods allow you to set this range with `step` and `baseSigma`, respectively.\n",
    "\n",
    "You can play around with `N`, $\\rho$, $\\sigma_{\\varepsilon}$, and see how these approximations perform.  For a rigorous comparison of these approaches, please see Kopecky and Suen (2010).  They find that the Rouwenhorst (1995) method outperforms the others when $\\rho$ is close to one.  You might consider the peristence and variability in the shocks to your autoregressive process when choosing the most appropriate method for your problem."
   ]
  },
  {
   "cell_type": "code",
<<<<<<< HEAD
   "execution_count": 10,
=======
   "execution_count": 11,
>>>>>>> upstream/master
   "metadata": {
    "collapsed": false
   },
   "outputs": [
    {
<<<<<<< HEAD
     "name": "stderr",
     "output_type": "stream",
     "text": [
      "/Users/rubyzhang/anaconda/lib/python3.6/site-packages/statsmodels/nonparametric/kdetools.py:20: VisibleDeprecationWarning: using a non-integer number instead of an integer will result in an error in the future\n",
      "  y = X[:m/2+1] + np.r_[0,X[m/2+1:],0]*1j\n"
     ]
    },
    {
     "data": {
      "text/plain": [
       "<matplotlib.axes._subplots.AxesSubplot at 0x11778bb70>"
      ]
     },
     "execution_count": 10,
=======
     "data": {
      "text/plain": [
       "<matplotlib.axes._subplots.AxesSubplot at 0x11aa6de10>"
      ]
     },
     "execution_count": 11,
>>>>>>> upstream/master
     "metadata": {},
     "output_type": "execute_result"
    },
    {
     "data": {
<<<<<<< HEAD
      "image/png": "iVBORw0KGgoAAAANSUhEUgAAAWkAAAD5CAYAAADlasS5AAAABHNCSVQICAgIfAhkiAAAAAlwSFlz\nAAALEgAACxIB0t1+/AAAFahJREFUeJzt3WtwnNd93/HvLhZ3LEGQXN5vokgeSaZEmpZkyZYo6uYq\nnsaNUyedcaNx7LoZd9qZOJnUrlz7XTKZzjTTZib1NONb1WQcp45sjZ02rlupFCVRV0qkSIk6FMz7\nBSQIgiBA3IHtC4AUSZHEQgSwB+D3M7PiXg6e5//n7v508OxzlplisYgkKU3ZchcgSbo6Q1qSEmZI\nS1LCDGlJSpghLUkJM6QlKWG5UgaFEJ4APgNUAd+OMX5vUquSJAElhHQIYTPwCeCTQB3wR9ca39ra\nWdKJ101NdbS3d5cydNqYaT3ZT9rsJ23j7adQyGeudH8pM+l/BOwCfgrMAv5tyXu9hlyuYiI2k5SZ\n1pP9pM1+0jZR/WTGWnEYQvgOsAL4x8BNwM+AW2KMV/zBwcGh4kz7y5akKfChZ9JtwLsxxn4ghhB6\ngQJw8kqDS53eFwp5Wls7Sxo7Xcy0nuwnbfaTtvH2Uyjkr3h/KWd3vAA8FkLIhBAWA/WMBLckaZKN\nGdIxxr8H3gReBX4O/OsY49BkFyZJKvEUvBjj1ya7EEnSB7mYRZISZkhLUsIMaUlKmCEtSQkzpHXD\n+MVLB9iy42i5y5DGxZCWpIQZ0pKUMENakhJmSEtSwgxpSUqYIS1JCTOkJSlhhrQkJcyQlqSEGdKS\nlDBDWpISZkhLUsIMaUlKmCEtSQkzpCUpYYa0JCXMkJakhBnSkpQwQ1qSEmZIS1LCDGlJSpghLUkJ\nM6QlKWG5UgaFEN4Azo7e3B9j/OLklSRJOm/MkA4h1ACZGOPmyS9HknSxUmbS64G6EMIvR8d/I8b4\n8uSWJUkCyBSLxWsOCCHcDtwDfBdYA/wDEGKMg1caPzg4VMzlKia6Tum6/eKlAwA8du/KcpYhXU3m\nSneWMpPeCzTHGIvA3hBCG7AIOHylwe3t3SVVUyjkaW3tLGnsdDHTeppp/QB0dvXOmJ5m2vNzo/dT\nKOSveH8pZ3d8CfgzgBDCYmAWcLzkPUvTzJYdR9my42i5y5CA0mbS3wP+WwjhBaAIfOlqhzokSRNr\nzJCOMfYDn5+CWiRJl3ExiyQlzJCWpIQZ0prW/JBPM50hLUkJM6QlKWGGtCQlzJCWpIQZ0pKUMENa\nkhJmSEtSwgxpSUqYIS1JCTOkJSlhhrQkJcyQlqSEGdKSlDBDWpISZkhLUsIMaUlKmCEtSQkzpCUp\nYYa0JCXMkJakhBnSkpQwQ1qSEmZIS1LCDGlJSpghLUkJy5UyKIQwH9gOPBpjfHdyS5IknTfmTDqE\nUAn8JdAz+eVIki5WyuGO/wj8V+DYJNciSbrMNQ93hBB+F2iNMf7vEMITpWywqamOXK6ipJ0XCvmS\nxk0nM62n1PvJN9QAJdbZ3Ea+oWbMsePaZplNhxrHw34+aKxj0l8CiiGER4ANwH8PIXwmxthytR9o\nb+8uaceFQp7W1s6SC50OZlpP06Gfzq5egJLr7OzqHXPseLdZLtPh+RmPG72fqwX6NUM6xrjp/PUQ\nwhbgK9cKaEnSxPIUPElKWEmn4AHEGDdPYh2SpCtwJi1JCTOkJSlhhrQkJcyQlqSEGdKSlDBDWpIS\nZkhLUsIMaUlKmCEtSQkzpCUpYYa0JCXMkJakhBnSkpQwQ1qSEmZIS1LCDGlJSpghLUkJM6QlKWGG\ntCQlzJCWpIQZ0pKUMENakhJmSEtSwgxpSUqYIS1JCTOkJSlhhrQkJcyQlqSE5cYaEEKoAL4DBKAI\nfCXGuHuyC5MklTaT/nWAGOMngW8CfzKpFUmSLhgzpGOMTwO/N3pzBXBmUiuSJF0w5uEOgBjjYAjh\nSeCzwOeuNbapqY5crqKknRcK+ZLGTSczrafU+8k31AAl1tncRr6hZsyx49pmmU2HGsfDfj6opJAG\niDF+IYTwdeCVEMJtMcZzVxrX3t5d0vYKhTytrZ2l7n5amGk9TYd+Ort6AUqus7Ord8yx49nmlh1H\nAdi8YUlJ+59I0+H5GY8bvZ+rBfqYhztCCI+HEJ4YvdkNDI9epEmzZcfRCwEo3chKmUn/BPhBCGEr\nUAl8NcbYM7llSZKghJAePazx21NQiyTpMi5mkaSEGdKSlDBDWpISZkhLUsIMaUlKmCEtSQkzpCUp\nYYa0JCXMkJakhBnSkpQwQ1qSEmZIS1LCDGlJSpghLUkJM6QlKWGGtCQlzJCWpIQZ0pKUMENakhJm\nSEtSwgxpSUqYIS1JCTOkJSlhhrQkJcyQlqSEGdKSlDBDWpISZkhLUsJy13owhFAJfB9YCVQDfxxj\n/NkU1CVJYuyZ9O8AbTHG+4HHgL+Y/JIkSeddcyYN/Bj4u9HrGWBwcsuRJF3smiEdY+wCCCHkGQnr\nb461waamOnK5ipJ2XijkSxo3ncy0nsrVT76hpqT9lzoOgOY28g01E7rNce1/Evh6S9tE9DPWTJoQ\nwjLgp8C3Y4w/HGt8e3t3STsuFPK0tnaWNHa6mGk9lbOfzq5egDH3X+q4i8dP5DbHu/+J5OstbePt\n52qBPtYHhwuAXwL/Jsb4zHgKlCRdv7Fm0t8AmoBvhRC+NXrfr8UYeya3LEkSjH1M+veB35+iWiRJ\nl3ExiyQlzJCWpIQZ0pKUMENakhJmSEtSwgxpSUqYIS1JCTOkJSlhhrQkJcyQlqSEGdKSlDBDWpIS\nZkhLUsIMaUlKmCEtSQkzpCUpYYa0JCXMkJakhBnSkpQwQ1qSEmZIa0pt2XGULTuOlruMKXej9q3r\nZ0hLUsIMaUlKmCEtSQkzpCUpYYa0JCXMkJakhBnSkpSwkkI6hPDxEMKWSa5FknSZ3FgDQghfAx4H\nzk1+OZKki5Uyk/4V8JuTXYgk6YPGnEnHGJ8KIawsdYNNTXXkchUljS0U8qVudtqYaT1NdD/5hpqS\ntjvR4wBobiPfUDOh25yUOsfB11vaJqKfMUN6vNrbu0saVyjkaW3tnOjdl9VM62ky+uns6gUYc7sT\nPe7i8RO5zcmqsxS+3tI23n6uFuie3SFJCTOkJSlhJR3uiDEeAO6Z3FIkSZdzJi1JCTOkJSlhhrQk\nJcyQlqSEGdKSlDBDWpISNuErDqVy6B7ooaX7BC3nTtLa00ZH31k6+s7SO9RH31AfQ8Uh+vuLFIsZ\ndrwxi7pcLY3VjcypmU2hdi6LGxYyr3Yu2YzzFqXFkNa0dKqnjdjezCtdb3N6sIUfP3/miuNymQqq\nK6rJZrMMDA8xWBzivTOnrji2KlvJTY0rqOwtUMgtZXB4AbmsbxGVl69ATQvFYpFDnUfY0bqbHa27\nONn9ftBWZqoITatZ2rCYBfUF5tcWaKppZFbVLKoqKi+M297cRmdXL5vWL6J7oIczfR209bZzsruV\nY+daONx5lNjeDDQD8OLWp1k9exUbCutYX1hHQ1X9VLctGdJKV7FY5ODZw7x24k12nNxNe9/IbLmq\noor18z5CmLOGjhMN5LNzePCjS0vebjaTpaGqnoaqepbmF1/yWFf/OZ7e8RonB45wLneCd05H3jkd\n+dHenxKaVrNx/nrWFz5CfWXdhPYqXY0hreR0D3TT3LuTfX276Xh9ZMZcm6vhrgUb+ej8ddw6J1yY\nIW85dXRC991QVc/SqjUsrVrD5g1LaOtp583Wt3jjxFvsOb2XPaf38rfxJ2yYfzv3Lf44xWI1mUxm\nQmuQLmZIKxn7Ow7x3JFt7Gh9i4HhQTJk2VBYxz2L7uTWOWvLcnx4bm0Tjyx/gEeWP8CpntO8cXIn\nLx/fzusndvD6iR3ks02sqlnHXQNNzq41KQxpldXQ8BA7T73N/zv8PPs6DgIwv3YeCwisrL6Vx25f\nW+YK3zevdg6fWvEgjy7fTPOZ/bxw7GXeOLGLnd3P886LL3PPojt5cNl9LKgrlLtUzSCGtMqiZ7CH\nbcdeY8uRFznd2w7Aurm38OCy+wlNq3lu57EyV3h1mUyGNU2rWNO0isV9zRzo28OR4m6eP/oSzx99\nidvn3cpDyzaxZvYqD4XouhnSmlLnhs7yXu+b/PzFPfQO9VGZreS+Jffw4NL7WFg/v9zljVt1tpZQ\nu5Ev3/Fpdp56m2cPbWXXqT3sOrWHZQ2LeWj5JjbOv6PcZWoaM6Q1JQ6ePcwzh7ayveMtoEhjVZ5P\nrXiQTy75OA2V0//UtopsBRvn38HG+Xewr+Mgzx7ayo7W3Tz5zo94uvl/sbxiHauqby93mZqGDGlN\nmuHiMG+3vcv/PfQczWf2A9BYMY9Qs5F/ftfmGbtQZFXjClbd/jinek6z5fALbDv+Krv6t/FOz2uc\n2Xs3Dy27j3m1c6/4s1t2vH+2yuYNS6aqZCVsZr5LNKXOB8v5UBkYGuDVljd45vBWTnS3AnDbnMDD\nyzdx/GAtmUxmxgb0xebVzuFzaz/Dp296lL96/f/wXt8OnjvyIluPbGN9YR0PL9/EqsYV5S5TiZv5\n7xRNma7+czx/9CWeO7KNzoEuKjIV3LPwTh5afj9LGhYB0HJoYs9rng7qKmsJtR9jTc0GGhadGj0U\nsosdrbu4adYKHl6+ifWFj/i9IboiQ1rXrX3wJM29O3l6214GhgepzdXwqRUP8sDSTzC7urHc5SUj\nm6ng7oUbuWvBR3nvzD6eObSV3W17+O7uv2JezRweWPoJBoeXUJWtKXepSoghrQ9lYHiQN0++xdYj\n29h/9hDASNAs+ySfWHQXNTmD5moymQxrm25mbdPNtJw7ybOHn+fVlu081fz3ZKlgedVabq65g2Jx\nsafwyZDW+BzuPMrLx1/ntRNvcm6gmwwZFlWu5Obq9fyzu+71V/ZxWlg/n8/f8k/5zKrHeLnldX65\n7wUO9O/hQP8e9r7+AvcuuouPLVg/I86A0YdjSGtMnf1dvHbiTV4+/jpHu44DkK9s4JHlD3D/knvY\nHXsBDOjr0FBVzyPLH6Ci7WZODh7iV727ONq1n/+x92meeu/nrJt7C3cv+hgfmXsLlTfAh656n8+2\nrqij7yzb39vO8/teo/nMfooUyWayrC+s456FI2FRka0YHX3jfRg4WTKZDAsqV7CgcgUfvXUWr594\nk1datrPz1NvsPPU2dblabp93G+sL69jUtLHc5WoKGNICRr4W9GjXcfac3suuU3vY13GAIkVg5Lzf\njfPXc+eCDeSrGspc6Y2jsTrPw8s38fDyTRzpPMarLW+w/eROXmnZzist23nynb/h1jmBO+bdxi1z\n1tJYnS93yZoEhvQNrL33DO+d2ce7p99jz+m9nO3vBCBDhptnr+T+m+5idd0az9BIwNL8YpbmF/Mb\nqz/NwbNH2Nm6m92n37lwKh/A4vqF3DJnDaFpNatn3+SHtzOEIX2D6Bvq51hXCwfOHmJfxwH2dRzk\nTF/HhcfzVQ3cvXAjt85Zy61z1pKvaqBQyNPa2lnGqnW5bCbLTY3LualxOV+e99u8daCZt9veJbY3\n03xmH8cOt/Ds4edHPtCtX8DKWSNjV85azsL6+X5uMA0Z0jNM72Afp3raaO1po+XcCY52HefoueO0\ndrddOHwBI6G8vrCOVY0rCE1rWNKw8ANv4F+8dIDOrl6XJyfm/ArP33r0FhY3LGRxw0IeXbGZgaEB\n9p89yJ7T77G/4yAHzx7m2LkWth1/FYDKbI6FdfNZ1LCQxfULWVS/gELdPObUNPlhZMLGfGZCCFng\n28B6oA/4coyxebIL06WGhofoHuyhe6CbroFuzvR10NHXwZn+kX8V+3RvO609bXT2d33gZ+tytaye\nfROLGxaxctYyVjWuYG7NHM/BnWEqKypZ27SatU2rgZHXzLFzJzhw9iD7Ow5x7FwLLedOcLjr0q+B\nzZBhdnUj82rnMKemicbqWeSrGphVlR+9jFyvzdX6mimDUv73+RtATYzx3hDCPcCfAf9kogsZLg7T\nPdBzyWwPuHC7WHz/novvH3ms1J+56L/FS8de+ujIgIv2cMljV9tfV+4MbWc7GSoOMTQ8xFBx+ML1\n4fPXi8Ojjw0xMDzIwNAAfcP99A+NXPqGBhgY7qd3sI9zg910D3RzbqCH3qHeq/3VASO/Bs+pns3S\nOWsp1M5lXu1cFtQVWJpfTGPVLN9cN6CKbAXL8otZll/M/UvuBUbeZ6d62jh27gTHu05wqreNtp7T\nnOo5PXoWz76rby9TQW2uhppczcifFdXU5mqpyVVTm6uhMltJZTZHbvRSma0kl60Y/TNHZTZHRaaC\nbCZLNpMhQ/b965kMnRUNnOnsHX0sc+GxbCZLhiwXv4QzXPn1fLXX+aXjLx1T0na5ZNAVVWUrqaqo\nuvKD16GUkL4P+AVAjPHlEMKdE14F8IO3f8gbJ9+ajE1PW1UVVdTn6phb20R9ro66yjrqK2upr6yn\nsWoWs6tn0Vg9i9nVjcyqyl90Spx0ZdlMlvl1BebXFdhQWHfJYwPDg7T3nqGzv4uz/Z109ndy9sKl\ni87+LnoGe+kd7OFsfyf9Q/1l6iJNuWyOf3/3HzB/gv9lnszls8LLhRC+CzwVY/yH0duHgFUxxsEJ\nrUSS9AGlfNR7Frj4BMysAS1JU6OUkH4R+DTA6DHpXZNakSTpglKOSf8UeDSEsI2RQ+ZfnNySJEnn\njXlMWpJUPi4/kqSEGdKSlLCyrQUNIdQDPwSagH7gCzHGafudlyGERuCvgVlAFfCHMcaXylvV9Qsh\nfBb4rRjj58tdy4cxU1fMhhA+DvyHGOPmctdyvUIIlcD3gZVANfDHMcaflbWo6xBCqAC+AwRG1sB9\nJca4+8Nur5wz6X8JbI8xbmIk3L5Wxlomwh8Cz8QYHwB+F/gv5S3n+oUQ/hz4U6b3b1wXVswC/46R\nFbPTWgjha8B3gZnyNXe/A7TFGO8HHgP+osz1XK9fB4gxfhL4JvAn17Oxsr35Yoz/mfeLXw6cKVct\nE+Q/AX85ej0HXHsd9/SwDfhX5S7iOl2yYhaYlBWzU+xXwG+Wu4gJ9GPgW6PXM8C0XocRY3wa+L3R\nmyu4zmybksMdIYR/AfzBZXd/Mcb4WgjhWeB24NGpqGUijNHPQkZ+M/jq1Ff24Vyjn78NIWwuQ0kT\naRbQcdHtoRBCbjovyIoxPhVCWFnuOiZKjLELIISQB/6OkdnntBZjHAwhPAl8Fvjc9WxrSkI6xvg9\n4HtXeeyhEMItwP8Ebp6Keq7X1foJIdwO/Aj4oxjjc1Ne2Id0rednBnDF7DQQQljGyJqMb8cYf1ju\neiZCjPELIYSvA6+EEG6LMZ77MNsp2+GOEMITIYTHR292AUPlqmUihBBuY+TXts+f/54TJcEVs4kL\nISwAfgl8Pcb4/XLXc71CCI+HEJ4YvdkNDI9ePpRyftP394EnR3/VrmD6r2T8U0Y+yPnzEAJAR4xx\nwr/SVePmitn0fYORs7y+FUI4f2z612KMPWWs6Xr8BPhBCGErUAl89Xp6ccWhJCVsOp9aJUkzniEt\nSQkzpCUpYYa0JCXMkJakhBnSkpQwQ1qSEmZIS1LC/j901bv4qQnIpAAAAABJRU5ErkJggg==\n",
      "text/plain": [
       "<matplotlib.figure.Figure at 0x113d37828>"
=======
      "image/png": "iVBORw0KGgoAAAANSUhEUgAAAWkAAAD4CAYAAAAuNhccAAAABHNCSVQICAgIfAhkiAAAAAlwSFlz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\nGdKSlDBDWpIS9v8BotqnTUoO18cAAAAASUVORK5CYII=\n",
      "text/plain": [
       "<matplotlib.figure.Figure at 0x1171af860>"
>>>>>>> upstream/master
      ]
     },
     "metadata": {},
     "output_type": "display_data"
    }
   ],
   "source": [
    "# Try the Tauchen method from QuantEcon\n",
    "from quantecon import tauchen\n",
    "\n",
    "qe_result = tauchen(rho, sigma_eps, 3, N)\n",
    "pi_QE = qe_result.P\n",
    "z_grid_QE = np.linspace(-3*sigma_z, 3*sigma_z, N) # why can't this be returned from call to function??\n",
    "z_discrete_QE = sim_markov(z_grid_QE, np.transpose(pi_QE), num_draws)\n",
    "\n",
    "# Plot AR(1) and Markov approximation\n",
    "sns.distplot(z_discrete_QE, hist=True, kde=False, norm_hist=True)\n",
    "sns.kdeplot(np.array(z), bw=0.5)"
   ]
  },
  {
   "cell_type": "markdown",
   "metadata": {},
   "source": [
    "This looks close to Rouwenhorst since it also uses an evenly spaced grid.  I'm not sure why the `quantecon.tauchen` method only returns the transition matrix... maybe becuase it's simply a linear spaced grid over the specied range of the distribution."
   ]
  },
  {
   "cell_type": "markdown",
   "metadata": {},
   "source": [
    "## 3. References\n",
    "* Adda, Jerome and Russell Cooper, *Dynamic Economics: Quantitative Methods and Applications*, MIT Press (2003).\n",
    "* Kopecky, Karen and Richard Suen, \"Finite State Markov-chain Approximations to Highly Persistent Processes\", *Review of Economic Dynamics*, 13:3, pp. 701-714 (July 2010)\n",
    "* Rouwenhorst, K Geert, \"Asset Pricing Implications of Equilibrium Business Cycle Models\", in *Frontiers of Business Cycle Research* (Thomas F. Cooley Ed.), Princeton University Press (1995).\n",
    "* Tauchen, George and Robert Hussey, \"Quadrature-Based Methods for Obtaining Approximate Solutions to Nonlinear Asset Pricing Models\", *Econometrica*, 59:2, pp. 371-396, (1991)."
   ]
  },
  {
   "cell_type": "code",
   "execution_count": null,
   "metadata": {
    "collapsed": true
   },
   "outputs": [],
   "source": []
  }
 ],
 "metadata": {
  "kernelspec": {
   "display_name": "Python 3",
   "language": "python",
   "name": "python3"
  },
  "language_info": {
   "codemirror_mode": {
    "name": "ipython",
    "version": 3
   },
   "file_extension": ".py",
   "mimetype": "text/x-python",
   "name": "python",
   "nbconvert_exporter": "python",
   "pygments_lexer": "ipython3",
   "version": "3.6.0"
  }
 },
 "nbformat": 4,
 "nbformat_minor": 2
}
